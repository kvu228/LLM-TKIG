{
  "cells": [
    {
      "cell_type": "markdown",
      "metadata": {
        "vscode": {
          "languageId": "raw"
        }
      },
      "source": [
        "# Threat Intelligence Data Collection for LLM-TIKG\n",
        "\n",
        "This notebook implements comprehensive data collection for Threat Intelligence Knowledge Graph (TIKG) construction using Large Language Models, following the LLM-TIKG paper methodology.\n",
        "\n",
        "## Overview\n",
        "\n",
        "The notebook covers:\n",
        "1. **Web scraping setup** for major threat intelligence platforms\n",
        "2. **Data cleaning and preprocessing** functions\n",
        "3. **Text extraction** with paragraph structure preservation\n",
        "4. **Data validation** and quality checks\n",
        "5. **Structured storage** for downstream processing\n",
        "\n",
        "## Target Platforms\n",
        "- Symantec Security Center\n",
        "- Fortinet Threat Intelligence\n",
        "- TrendMicro Security Blog\n",
        "- CISA Advisories\n",
        "\n",
        "## Methodology\n",
        "Following the LLM-TIKG paper, we focus on collecting high-quality threat intelligence data that preserves:\n",
        "- Contextual relationships between entities\n",
        "- Temporal information\n",
        "- Technical details and indicators\n",
        "- Structured narrative flow\n"
      ]
    },
    {
      "cell_type": "markdown",
      "metadata": {
        "vscode": {
          "languageId": "raw"
        }
      },
      "source": [
        "## 1. Environment Setup and Imports\n"
      ]
    },
    {
      "cell_type": "code",
      "execution_count": 1,
      "metadata": {},
      "outputs": [
        {
          "name": "stdout",
          "output_type": "stream",
          "text": [
            "✅ All required libraries imported successfully\n"
          ]
        }
      ],
      "source": [
        "# Core libraries\n",
        "import requests\n",
        "from bs4 import BeautifulSoup, Tag\n",
        "from typing import cast\n",
        "import pandas as pd\n",
        "import numpy as np\n",
        "import json\n",
        "import re\n",
        "import time\n",
        "import random\n",
        "import logging\n",
        "from datetime import datetime, timedelta\n",
        "from pathlib import Path\n",
        "from typing import Dict, List, Optional, Tuple, Any\n",
        "from urllib.parse import urljoin, urlparse\n",
        "import warnings\n",
        "\n",
        "# NLP libraries\n",
        "import nltk\n",
        "from nltk.tokenize import sent_tokenize, word_tokenize\n",
        "from nltk.corpus import stopwords\n",
        "from nltk.chunk import ne_chunk\n",
        "from nltk.tag import pos_tag\n",
        "\n",
        "# Web scraping utilities\n",
        "from fake_useragent import UserAgent\n",
        "import lxml\n",
        "\n",
        "# Visualization\n",
        "import matplotlib.pyplot as plt\n",
        "import seaborn as sns\n",
        "\n",
        "# Suppress warnings\n",
        "warnings.filterwarnings('ignore')\n",
        "\n",
        "# Download required NLTK data\n",
        "nltk_downloads = ['punkt', 'stopwords', 'averaged_perceptron_tagger', 'maxent_ne_chunker', 'words']\n",
        "for item in nltk_downloads:\n",
        "    try:\n",
        "        nltk.data.find(f'tokenizers/{item}')\n",
        "    except LookupError:\n",
        "        nltk.download(item, quiet=True)\n",
        "\n",
        "print(\"✅ All required libraries imported successfully\")\n"
      ]
    },
    {
      "cell_type": "markdown",
      "metadata": {
        "vscode": {
          "languageId": "raw"
        }
      },
      "source": [
        "## 2. Configuration and Setup\n",
        "\n",
        "Setting up logging, data directories, and scraping configurations following security best practices.\n"
      ]
    },
    {
      "cell_type": "code",
      "execution_count": 2,
      "metadata": {},
      "outputs": [
        {
          "name": "stdout",
          "output_type": "stream",
          "text": [
            "✅ Configuration setup complete\n",
            "📁 Raw data directory: ..\\data\\raw\n",
            "📁 Processed data directory: ..\\data\\processed\n"
          ]
        }
      ],
      "source": [
        "# Configure logging\n",
        "logging.basicConfig(\n",
        "    level=logging.INFO,\n",
        "    format='%(asctime)s - %(levelname)s - %(message)s',\n",
        "    handlers=[\n",
        "        logging.FileHandler('../data/raw/scraping.log'),\n",
        "        logging.StreamHandler()\n",
        "    ]\n",
        ")\n",
        "logger = logging.getLogger(__name__)\n",
        "\n",
        "# Data directories\n",
        "DATA_DIR = Path('../data')\n",
        "RAW_DATA_DIR = DATA_DIR / 'raw'\n",
        "PROCESSED_DATA_DIR = DATA_DIR / 'processed'\n",
        "\n",
        "# Create directories if they don't exist\n",
        "for dir_path in [RAW_DATA_DIR, PROCESSED_DATA_DIR]:\n",
        "    dir_path.mkdir(parents=True, exist_ok=True)\n",
        "\n",
        "# Scraping configuration\n",
        "SCRAPING_CONFIG = {\n",
        "    'rate_limit': 2.0,  # seconds between requests\n",
        "    'timeout': 30,      # request timeout\n",
        "    'max_retries': 3,   # maximum retry attempts\n",
        "    'batch_size': 50,   # articles per batch\n",
        "    'headers': {\n",
        "        'Accept': 'text/html,application/xhtml+xml,application/xml;q=0.9,*/*;q=0.8',\n",
        "        'Accept-Language': 'en-US,en;q=0.5',\n",
        "        'Accept-Encoding': 'gzip, deflate',\n",
        "        'Connection': 'keep-alive',\n",
        "        'Upgrade-Insecure-Requests': '1',\n",
        "    }\n",
        "}\n",
        "\n",
        "# Initialize user agent rotator\n",
        "ua = UserAgent()\n",
        "\n",
        "print(\"✅ Configuration setup complete\")\n",
        "print(f\"📁 Raw data directory: {RAW_DATA_DIR}\")\n",
        "print(f\"📁 Processed data directory: {PROCESSED_DATA_DIR}\")\n"
      ]
    },
    {
      "cell_type": "markdown",
      "metadata": {
        "vscode": {
          "languageId": "raw"
        }
      },
      "source": [
        "## 3. Core Web Scraping Infrastructure\n",
        "\n",
        "Building robust web scraping infrastructure with rate limiting, error handling, and retry mechanisms.\n"
      ]
    },
    {
      "cell_type": "code",
      "execution_count": 3,
      "metadata": {},
      "outputs": [
        {
          "name": "stdout",
          "output_type": "stream",
          "text": [
            "✅ Threat Intelligence Scraper initialized\n"
          ]
        }
      ],
      "source": [
        "class ThreatIntelligenceScraper:\n",
        "    \"\"\"\n",
        "    A robust web scraper for threat intelligence data collection.\n",
        "    Implements rate limiting, error handling, and data validation.\n",
        "    \"\"\"\n",
        "    \n",
        "    def __init__(self, config: Dict[str, Any]):\n",
        "        self.config = config\n",
        "        self.session = requests.Session()\n",
        "        self.session.headers.update(config['headers'])\n",
        "        self.last_request_time = 0\n",
        "        self.ua = UserAgent()\n",
        "        \n",
        "    def _rate_limit(self):\n",
        "        \"\"\"Implement rate limiting between requests with random delay.\"\"\"\n",
        "        elapsed = time.time() - self.last_request_time\n",
        "        base_sleep_time = self.config['rate_limit'] - elapsed\n",
        "        \n",
        "        # Add random delay if configured\n",
        "        if 'random_delay' in self.config:\n",
        "            min_delay, max_delay = self.config['random_delay']\n",
        "            random_delay = min_delay + (max_delay - min_delay) * np.random.random()\n",
        "            base_sleep_time += random_delay\n",
        "        \n",
        "        if base_sleep_time > 0:\n",
        "            time.sleep(base_sleep_time)\n",
        "        self.last_request_time = time.time()\n",
        "    \n",
        "    def _get_page(self, url: str, max_retries: int = 0) -> Optional[BeautifulSoup]:\n",
        "        \"\"\"Fetch a web page with enhanced retry logic and error handling.\"\"\"\n",
        "        if max_retries == 0:\n",
        "            max_retries = self.config['max_retries'] or 1\n",
        "        \n",
        "        for attempt in range(max_retries + 1):\n",
        "            try:\n",
        "                self._rate_limit()\n",
        "                \n",
        "                # Rotate user agent and add additional headers\n",
        "                self.session.headers.update({\n",
        "                    'User-Agent': self.ua.random,\n",
        "                    'Cache-Control': 'no-cache',\n",
        "                    'Pragma': 'no-cache',\n",
        "                    'DNT': '1'  # Do Not Track\n",
        "                })\n",
        "                \n",
        "                # Log request attempt\n",
        "                logger.info(f\"Attempting to fetch {url} (attempt {attempt + 1}/{max_retries + 1})\")\n",
        "                \n",
        "                response = self.session.get(\n",
        "                    url, \n",
        "                    timeout=self.config['timeout'],\n",
        "                    allow_redirects=True,\n",
        "                    verify=True  # Enforce SSL verification\n",
        "                )\n",
        "                \n",
        "                # Check response before processing\n",
        "                if response.status_code == 403:\n",
        "                    logger.warning(f\"Access forbidden (403) for {url}\")\n",
        "                    time.sleep(5 ** attempt)  # Longer delay for 403s\n",
        "                    continue\n",
        "                    \n",
        "                response.raise_for_status()\n",
        "                \n",
        "                # Check content type\n",
        "                content_type = response.headers.get('content-type', '').lower()\n",
        "                if 'text/html' not in content_type:\n",
        "                    logger.warning(f\"Unexpected content type: {content_type}\")\n",
        "                \n",
        "                # Parse with BeautifulSoup with error handling\n",
        "                try:\n",
        "                    soup = BeautifulSoup(response.content, 'lxml')\n",
        "                    \n",
        "                    # Basic validation of parsed content\n",
        "                    if not soup.find('body'):\n",
        "                        logger.warning(\"No <body> tag found in response\")\n",
        "                        if attempt < max_retries:\n",
        "                            continue\n",
        "                    \n",
        "                    logger.info(f\"Successfully scraped: {url}\")\n",
        "                    return soup\n",
        "                    \n",
        "                except Exception as parse_error:\n",
        "                    logger.error(f\"Failed to parse HTML: {str(parse_error)}\")\n",
        "                    if attempt < max_retries:\n",
        "                        continue\n",
        "                    return None\n",
        "                \n",
        "            except requests.exceptions.RequestException as e:\n",
        "                error_msg = str(e)\n",
        "                logger.warning(f\"Attempt {attempt + 1} failed for {url}: {error_msg}\")\n",
        "                \n",
        "                # Specific handling for common errors\n",
        "                if \"SSLError\" in error_msg:\n",
        "                    logger.error(\"SSL verification failed\")\n",
        "                elif \"Timeout\" in error_msg:\n",
        "                    logger.error(\"Request timed out\")\n",
        "                elif \"ConnectionError\" in error_msg:\n",
        "                    logger.error(\"Failed to establish connection\")\n",
        "                \n",
        "                if attempt < max_retries:\n",
        "                    # Exponential backoff with jitter\n",
        "                    delay = (2 ** attempt) + (random.random() * 2)\n",
        "                    time.sleep(delay)\n",
        "                else:\n",
        "                    logger.error(f\"Failed to scrape {url} after {max_retries + 1} attempts\")\n",
        "                    return None\n",
        "    \n",
        "    def extract_text_content(self, soup: BeautifulSoup, selectors: Dict[str, str]) -> Dict[str, Any]:\n",
        "        \"\"\"Extract structured text content from HTML using CSS selectors.\"\"\"\n",
        "        content = {}\n",
        "        \n",
        "        for field, selector in selectors.items():\n",
        "            try:\n",
        "                elements = soup.select(selector)\n",
        "                if elements:\n",
        "                    if field in ['title', 'date', 'author']:\n",
        "                        content[field] = elements[0].get_text(strip=True)\n",
        "                    else:\n",
        "                        # Preserve paragraph structure for main content\n",
        "                        content[field] = [elem.get_text(strip=True) for elem in elements if elem.get_text(strip=True)]\n",
        "                else:\n",
        "                    content[field] = None\n",
        "            except Exception as e:\n",
        "                logger.warning(f\"Failed to extract {field}: {str(e)}\")\n",
        "                content[field] = None\n",
        "        \n",
        "        return content\n",
        "    \n",
        "    def validate_content(self, content: Dict[str, Any]) -> bool:\n",
        "        \"\"\"Validate extracted content quality.\"\"\"\n",
        "        # Check if essential fields are present\n",
        "        required_fields = ['title', 'content']\n",
        "        for field in required_fields:\n",
        "            if not content.get(field):\n",
        "                return False\n",
        "        \n",
        "        # Check content length (avoid very short articles)\n",
        "        if isinstance(content['content'], list):\n",
        "            total_length = sum(len(p) for p in content['content'])\n",
        "        else:\n",
        "            total_length = len(content['content']) if content['content'] else 0\n",
        "        \n",
        "        return total_length > 50  # Reduced from 100 to 50 for testing\n",
        "\n",
        "# Initialize scraper\n",
        "scraper = ThreatIntelligenceScraper(SCRAPING_CONFIG)\n",
        "print(\"✅ Threat Intelligence Scraper initialized\")"
      ]
    },
    {
      "cell_type": "markdown",
      "metadata": {
        "vscode": {
          "languageId": "raw"
        }
      },
      "source": [
        "## 4. Platform-Specific Scrapers\n",
        "\n",
        "Implementing specialized scrapers for each threat intelligence platform with their unique HTML structures.\n"
      ]
    },
    {
      "cell_type": "code",
      "execution_count": 4,
      "metadata": {},
      "outputs": [
        {
          "name": "stdout",
          "output_type": "stream",
          "text": [
            "✅ CISA scrapers initialized\n"
          ]
        }
      ],
      "source": [
        "# Platform-specific scrapers\n",
        "class CISAScraper:\n",
        "    \"\"\"Enhanced scraper for CISA (Cybersecurity and Infrastructure Security Agency) advisories.\"\"\"\n",
        "    \n",
        "    def __init__(self, base_scraper: ThreatIntelligenceScraper):\n",
        "        self.scraper = base_scraper\n",
        "        self.base_url = \"https://www.cisa.gov\"\n",
        "        self.advisories_url = \"https://www.cisa.gov/news-events/cybersecurity-advisories\"\n",
        "        \n",
        "        self.selectors = {\n",
        "            'title': '.title, .advisory-title, .usa-accordion__heading, h1.usa-prose',\n",
        "            'date': '.published-date, .date-published, time, .usa-prose time',\n",
        "            'content': '.usa-prose p, .field--type-text-with-summary p, .field--name-body p, article p',\n",
        "            'severity': '.severity, .risk-level, .tlp-label',\n",
        "            'advisory_id': '.advisory-id, .alert-code, .reference-number'\n",
        "        }\n",
        "    \n",
        "    def get_article_links(self, max_pages: int = 5) -> List[str]:\n",
        "        \"\"\"Extract article links from CISA advisories with pagination support.\"\"\"\n",
        "        links = []\n",
        "        \n",
        "        try:\n",
        "            for page in range(1, max_pages + 1):\n",
        "                page_url = f\"{self.advisories_url}?page={page}\" if page > 1 else self.advisories_url\n",
        "                print(f\"   Fetching CISA page {page}/{max_pages}: {page_url}\")\n",
        "                \n",
        "                soup = self.scraper._get_page(page_url)\n",
        "                if not soup:\n",
        "                    print(f\"   ⚠️ Failed to fetch page {page}\")\n",
        "                    break\n",
        "                \n",
        "                # Try multiple selector patterns\n",
        "                selectors = [\n",
        "                    'a[href*=\"/advisory/\"]',\n",
        "                    'a[href*=\"/alert/\"]',\n",
        "                    '.views-row a',\n",
        "                    '.usa-collection__item a',\n",
        "                    'article a'\n",
        "                ]\n",
        "                \n",
        "                page_links_count = 0\n",
        "                for selector in selectors:\n",
        "                    article_links = soup.select(selector)\n",
        "                    for link in article_links:\n",
        "                        href = link.get('href')\n",
        "                        if href and ('/advisory/' in href or '/alert/' in href):\n",
        "                            full_url = urljoin(self.base_url, href)\n",
        "                            if full_url not in links:\n",
        "                                links.append(full_url)\n",
        "                                page_links_count += 1\n",
        "                \n",
        "                print(f\"      Found {page_links_count} new articles on page {page}\")\n",
        "                if page_links_count == 0:  # No more articles found\n",
        "                    break\n",
        "                            \n",
        "        except Exception as e:\n",
        "            print(f\"   ❌ Error getting CISA article links: {str(e)}\")\n",
        "            logger.error(f\"CISA link extraction failed: {str(e)}\")\n",
        "        \n",
        "        print(f\"   Total CISA articles found: {len(links)}\")\n",
        "        return links\n",
        "\n",
        "print(\"✅ CISA scrapers initialized\")\n"
      ]
    },
    {
      "cell_type": "code",
      "execution_count": 11,
      "metadata": {},
      "outputs": [
        {
          "name": "stdout",
          "output_type": "stream",
          "text": [
            "✅  Fortinet scraper initialized\n"
          ]
        }
      ],
      "source": [
        "class FortinetScraper:\n",
        "    \"\"\"Corrected scraper for Fortinet Threat Research blog using URL path extensions.\"\"\"\n",
        "    \n",
        "    def __init__(self, base_scraper):\n",
        "        self.scraper = base_scraper\n",
        "        self.base_url = \"https://www.fortinet.com\"\n",
        "        self.blog_url = \"https://www.fortinet.com/blog/threat-research\"\n",
        "        self.load_more_url = \"https://www.fortinet.com/content/fortinet-blog/us/en/threat-research/jcr:content/root/bloglist\"\n",
        "        \n",
        "        self.selectors = {\n",
        "            'title': 'h1, h2, .title, .headline',\n",
        "            'date': '.date, .time, .published, time',\n",
        "            'content': 'p, .content, .text, .body',\n",
        "            'author': '.author, .byline, .writer',\n",
        "            'category': '.category, .tags, .topic'\n",
        "        }\n",
        "    \n",
        "    def get_article_links(self, max_pages: int = 30) -> List[str]:\n",
        "        \"\"\"Extract article links from Fortinet blog using URL path extensions for pagination.\"\"\"\n",
        "        links = []\n",
        "        \n",
        "        try:\n",
        "            # First get the initial page (page 0)\n",
        "            print(f\"   Fetching initial page: {self.blog_url}\")\n",
        "            soup = self.scraper._get_page(self.blog_url)\n",
        "            if soup:\n",
        "                # Find article links on the first page\n",
        "                article_links = soup.find_all('a', href=True)\n",
        "                for link in article_links:\n",
        "                    if isinstance(link, Tag):\n",
        "                        href = link.get('href')\n",
        "                        if isinstance(href, str):\n",
        "                            href_lower = href.lower()\n",
        "                            if '/blog/' in href_lower and 'threat' in href_lower:\n",
        "                                if href.startswith('/'):\n",
        "                                    full_url = urljoin(self.base_url, href)\n",
        "                                else:\n",
        "                                    full_url = href\n",
        "                                if full_url not in links and 'threat-research' in full_url:\n",
        "                                    links.append(full_url)\n",
        "                \n",
        "                print(f\"      Found {len(links)} articles on initial page\")\n",
        "                \n",
        "                # Now use the URL path extension approach for pagination\n",
        "                for page in range(1, max_pages + 1):\n",
        "                    print(f\"   Loading page {page}/{max_pages}\")\n",
        "                    \n",
        "                    # Use URL path extension approach\n",
        "                    page_url = f\"{self.load_more_url}.{page}\"\n",
        "                    \n",
        "                    try:\n",
        "                        self.scraper._rate_limit()\n",
        "                        response = self.scraper.session.get(\n",
        "                            page_url,\n",
        "                            timeout=self.scraper.config['timeout']\n",
        "                        )\n",
        "                        response.raise_for_status()\n",
        "                        \n",
        "                        # Parse HTML content from response\n",
        "                        soup = BeautifulSoup(response.text, 'lxml')\n",
        "                        article_links = soup.find_all('a', href=True)\n",
        "                        \n",
        "                        new_links = 0\n",
        "                        for link in article_links:\n",
        "                            if isinstance(link, Tag):\n",
        "                                href = link.get('href')\n",
        "                                if isinstance(href, str):\n",
        "                                    href_lower = href.lower()\n",
        "                                    if '/blog/' in href_lower and 'threat' in href_lower:\n",
        "                                        if href.startswith('/'):\n",
        "                                            full_url = urljoin(self.base_url, href)\n",
        "                                        else:\n",
        "                                            full_url = href\n",
        "                                        if full_url not in links and 'threat-research' in full_url:\n",
        "                                            links.append(full_url)\n",
        "                                            new_links += 1\n",
        "                        \n",
        "                        print(f\"      Found {new_links} new articles on page {page}\")\n",
        "                        \n",
        "                        if new_links == 0:\n",
        "                            print(\"      No more new articles found\")\n",
        "                            break\n",
        "                        \n",
        "                        # Stop if we've collected enough articles\n",
        "                        if len(links) >= 300:  # Safety limit\n",
        "                            print(f\"      Reached article limit (300)\")\n",
        "                            break\n",
        "                            \n",
        "                    except Exception as e:\n",
        "                        print(f\"      Error loading page {page}: {str(e)}\")\n",
        "                        break\n",
        "                            \n",
        "        except Exception as e:\n",
        "            print(f\"   ❌ Error getting Fortinet article links: {str(e)}\")\n",
        "            logger.error(f\"Fortinet link extraction failed: {str(e)}\")\n",
        "        \n",
        "        print(f\"   Total Fortinet articles found: {len(links)}\")\n",
        "        return links\n",
        "    \n",
        "    def scrape_article(self, url: str) -> Optional[Dict[str, Any]]:\n",
        "        \"\"\"Scrape a single Fortinet blog post with improved validation.\"\"\"\n",
        "        print(f\"\\n🔍 Scraping Fortinet article: {url}\")\n",
        "        \n",
        "        soup = self.scraper._get_page(url)\n",
        "        if not soup:\n",
        "            print(\"   ❌ Failed to fetch article\")\n",
        "            return None\n",
        "        \n",
        "        content = self.scraper.extract_text_content(soup, self.selectors)\n",
        "        content['url'] = url\n",
        "        content['source'] = 'Fortinet'\n",
        "        content['scraped_at'] = datetime.now().isoformat()\n",
        "        \n",
        "        if self.scraper.validate_content(content):\n",
        "            print(\"   ✅ Successfully scraped article\")\n",
        "            print(f\"      Title: {content.get('title', 'N/A')[:100]}\")\n",
        "            print(f\"      Content length: {len(str(content.get('content', '')))}\")\n",
        "            return content\n",
        "            \n",
        "        print(\"   ❌ Content validation failed\")\n",
        "        return None\n",
        "\n",
        "print(\"✅  Fortinet scraper initialized\")\n"
      ]
    },
    {
      "cell_type": "code",
      "execution_count": 6,
      "metadata": {},
      "outputs": [
        {
          "name": "stdout",
          "output_type": "stream",
          "text": [
            "✅ Symantec scrapers initialized\n"
          ]
        }
      ],
      "source": [
        "class SymantecScraper:\n",
        "    \"\"\"Enhanced scraper for Symantec Security Center blog posts with pagination.\"\"\"\n",
        "    \n",
        "    def __init__(self, base_scraper: ThreatIntelligenceScraper):\n",
        "        self.scraper = base_scraper\n",
        "        self.base_url = \"https://symantec-enterprise-blogs.security.com\"\n",
        "        self.blog_url = \"https://symantec-enterprise-blogs.security.com/blogs/threat-research\"\n",
        "        \n",
        "        self.selectors = {\n",
        "            'title': 'h1, .post-title, .entry-title',\n",
        "            'date': '.date, .published, .post-date',\n",
        "            'content': '.post-content p, .entry-content p, .content p',\n",
        "            'author': '.author, .byline',\n",
        "            'tags': '.tags, .categories'\n",
        "        }\n",
        "    \n",
        "    def get_article_links(self, max_pages: int = 30) -> List[str]:\n",
        "        \"\"\"Extract article links from Symantec blog with pagination support.\"\"\"\n",
        "        links = []\n",
        "        \n",
        "        try:\n",
        "            for page in range(1, max_pages + 1):\n",
        "                # Try different pagination URL patterns\n",
        "                page_urls = [\n",
        "                    f\"{self.blog_url}?page={page-1}\" if page > 1 else self.blog_url,\n",
        "                    f\"{self.blog_url}/page/{page}\" if page > 1 else self.blog_url,\n",
        "                    f\"{self.blog_url}?p={page}\" if page > 1 else self.blog_url\n",
        "                ]\n",
        "                \n",
        "                page_found = False\n",
        "                for page_url in page_urls:\n",
        "                    print(f\"   Trying page {page}/{max_pages}: {page_url}\")\n",
        "                    \n",
        "                    soup = self.scraper._get_page(page_url)\n",
        "                    if not soup:\n",
        "                        continue\n",
        "                    \n",
        "                    # Try multiple selector patterns\n",
        "                    selectors = [\n",
        "                        'article a',\n",
        "                        '.post-title a',\n",
        "                        '.entry-title a',\n",
        "                        'a[href*=\"/blogs/threat-research/\"]'\n",
        "                    ]\n",
        "                    \n",
        "                    page_links_count = 0\n",
        "                    for selector in selectors:\n",
        "                        article_links = soup.select(selector)\n",
        "                        for link in article_links:\n",
        "                            if isinstance(link, Tag):\n",
        "                                href = link.get('href')\n",
        "                                if isinstance(href, str) and ('/blogs/' in href or '/threat-research/' in href):\n",
        "                                    if href.startswith('/'):\n",
        "                                        full_url = urljoin(self.base_url, href)\n",
        "                                    else:\n",
        "                                        full_url = href\n",
        "                                    if full_url not in links and 'threat-research' in full_url:\n",
        "                                        links.append(full_url)\n",
        "                                        page_links_count += 1\n",
        "                    \n",
        "                    if page_links_count > 0:\n",
        "                        print(f\"      Found {page_links_count} new articles\")\n",
        "                        page_found = True\n",
        "                        break  # Found articles on this page, no need to try other URL patterns\n",
        "                    \n",
        "                if not page_found:\n",
        "                    print(f\"      No articles found on page {page}, stopping pagination\")\n",
        "                    break  # No articles found with any URL pattern, likely reached the end\n",
        "                \n",
        "                # Stop if we've collected enough articles\n",
        "                if len(links) >= 300:  # Safety limit\n",
        "                    print(f\"      Reached article limit (300)\")\n",
        "                    break\n",
        "                            \n",
        "        except Exception as e:\n",
        "            print(f\"   ❌ Error getting Symantec article links: {str(e)}\")\n",
        "            logger.error(f\"Symantec link extraction failed: {str(e)}\")\n",
        "        \n",
        "        print(f\"   Total Symantec articles found: {len(links)}\")\n",
        "        return links\n",
        "    \n",
        "    def scrape_article(self, url: str) -> Optional[Dict[str, Any]]:\n",
        "        \"\"\"Scrape a single Symantec blog post with improved validation.\"\"\"\n",
        "        print(f\"\\n🔍 Scraping Symantec article: {url}\")\n",
        "        \n",
        "        soup = self.scraper._get_page(url)\n",
        "        if not soup:\n",
        "            print(\"   ❌ Failed to fetch article\")\n",
        "            return None\n",
        "        \n",
        "        content = self.scraper.extract_text_content(soup, self.selectors)\n",
        "        content['url'] = url\n",
        "        content['source'] = 'Symantec'\n",
        "        content['scraped_at'] = datetime.now().isoformat()\n",
        "        \n",
        "        if self.scraper.validate_content(content):\n",
        "            print(\"   ✅ Successfully scraped article\")\n",
        "            print(f\"      Title: {content.get('title', 'N/A')[:100]}\")\n",
        "            print(f\"      Content length: {len(str(content.get('content', '')))}\")\n",
        "            return content\n",
        "            \n",
        "        print(\"   ❌ Content validation failed\")\n",
        "        return None\n",
        "\n",
        "print(\"✅ Symantec scrapers initialized\")"
      ]
    },
    {
      "cell_type": "markdown",
      "metadata": {
        "vscode": {
          "languageId": "raw"
        }
      },
      "source": [
        "## 5. Text Processing and Preprocessing\n",
        "\n",
        "Advanced text processing functions to clean, normalize, and structure the collected threat intelligence data.\n"
      ]
    },
    {
      "cell_type": "code",
      "execution_count": 7,
      "metadata": {},
      "outputs": [
        {
          "name": "stdout",
          "output_type": "stream",
          "text": [
            "✅ Threat Intelligence Processor initialized\n",
            "🔍 Monitoring 8 indicator types\n",
            "📝 Tracking 15 threat keywords\n"
          ]
        }
      ],
      "source": [
        "class ThreatIntelligenceProcessor:\n",
        "    \"\"\"\n",
        "    Advanced text processor for threat intelligence data.\n",
        "    Handles cleaning, normalization, and structure preservation.\n",
        "    \"\"\"\n",
        "    \n",
        "    def __init__(self):\n",
        "        self.stop_words = set(stopwords.words('english'))\n",
        "        \n",
        "        # Threat intelligence specific patterns\n",
        "        self.patterns = {\n",
        "            'ip_address': re.compile(r'\\b(?:[0-9]{1,3}\\.){3}[0-9]{1,3}\\b'),\n",
        "            'domain': re.compile(r'\\b[a-zA-Z0-9]([a-zA-Z0-9\\-]{0,61}[a-zA-Z0-9])?\\.[a-zA-Z]{2,}\\b'),\n",
        "            'hash_md5': re.compile(r'\\b[a-fA-F0-9]{32}\\b'),\n",
        "            'hash_sha1': re.compile(r'\\b[a-fA-F0-9]{40}\\b'),\n",
        "            'hash_sha256': re.compile(r'\\b[a-fA-F0-9]{64}\\b'),\n",
        "            'cve': re.compile(r'CVE-\\d{4}-\\d{4,7}', re.IGNORECASE),\n",
        "            'email': re.compile(r'\\b[A-Za-z0-9._%+-]+@[A-Za-z0-9.-]+\\.[A-Z|a-z]{2,}\\b'),\n",
        "            'url': re.compile(r'https?://(?:[-\\w.])+(?:[:\\d]+)?(?:/(?:[\\w/_.])*(?:\\?(?:[\\w&=%.])*)?(?:#(?:\\w)*)?)?'),\n",
        "        }\n",
        "        \n",
        "        # Threat keywords for relevance scoring\n",
        "        self.threat_keywords = [\n",
        "            'apt', 'advanced persistent threat', 'ransomware', 'trojan', 'backdoor',\n",
        "            'botnet', 'malware', 'phishing', 'spear phishing', 'zero-day',\n",
        "            'exploit', 'vulnerability', 'attack', 'campaign', 'threat actor'\n",
        "        ]\n",
        "    \n",
        "    def clean_text(self, text: str) -> str:\n",
        "        \"\"\"Clean and normalize text while preserving important technical details.\"\"\"\n",
        "        if not text:\n",
        "            return \"\"\n",
        "        \n",
        "        # Remove HTML entities and extra whitespace\n",
        "        text = re.sub(r'&[a-zA-Z0-9#]+;', ' ', text)\n",
        "        text = re.sub(r'\\s+', ' ', text)\n",
        "        \n",
        "        # Preserve important punctuation in technical contexts\n",
        "        text = re.sub(r'([.!?])([A-Z])', r'\\1 \\2', text)\n",
        "        \n",
        "        return text.strip()\n",
        "    \n",
        "    def extract_indicators(self, text: str) -> Dict[str, List[str]]:\n",
        "        \"\"\"Extract cybersecurity indicators from text.\"\"\"\n",
        "        indicators = {}\n",
        "        \n",
        "        for indicator_type, pattern in self.patterns.items():\n",
        "            matches = pattern.findall(text)\n",
        "            indicators[indicator_type] = list(set(matches))  # Remove duplicates\n",
        "        \n",
        "        return indicators\n",
        "    \n",
        "    def calculate_threat_relevance_score(self, text: str) -> float:\n",
        "        \"\"\"Calculate how relevant the text is to threat intelligence.\"\"\"\n",
        "        if not text:\n",
        "            return 0.0\n",
        "        \n",
        "        text_lower = text.lower()\n",
        "        score = 0.0\n",
        "        \n",
        "        # Count threat-related keywords\n",
        "        for keyword in self.threat_keywords:\n",
        "            count = text_lower.count(keyword)\n",
        "            score += count * 0.1\n",
        "        \n",
        "        # Bonus for technical indicators\n",
        "        indicators = self.extract_indicators(text)\n",
        "        for indicator_type, matches in indicators.items():\n",
        "            if matches:\n",
        "                score += len(matches) * 0.2\n",
        "        \n",
        "        # Normalize by text length\n",
        "        text_length = len(text.split())\n",
        "        if text_length > 0:\n",
        "            score = score / (text_length / 100)  # Per 100 words\n",
        "        \n",
        "        return min(score, 10.0)  # Cap at 10.0\n",
        "    \n",
        "    def process_article(self, article_data: Dict[str, Any]) -> Dict[str, Any]:\n",
        "        \"\"\"Process a complete article with all preprocessing steps.\"\"\"\n",
        "        processed = article_data.copy()\n",
        "        \n",
        "        # Clean title\n",
        "        if processed.get('title'):\n",
        "            processed['title'] = self.clean_text(processed['title'])\n",
        "        \n",
        "        # Process content\n",
        "        if processed.get('content'):\n",
        "            if isinstance(processed['content'], list):\n",
        "                # Preserve paragraph structure\n",
        "                cleaned_paragraphs = []\n",
        "                for paragraph in processed['content']:\n",
        "                    cleaned = self.clean_text(paragraph)\n",
        "                    if len(cleaned) > 10:  # Filter out very short paragraphs\n",
        "                        cleaned_paragraphs.append(cleaned)\n",
        "                \n",
        "                processed['paragraphs'] = cleaned_paragraphs\n",
        "                processed['full_text'] = ' '.join(cleaned_paragraphs)\n",
        "            else:\n",
        "                # Single string content\n",
        "                clean_content = self.clean_text(processed['content'])\n",
        "                processed['full_text'] = clean_content\n",
        "                processed['paragraphs'] = [clean_content]\n",
        "        \n",
        "        # Extract indicators and calculate relevance\n",
        "        if processed.get('full_text'):\n",
        "            processed['indicators'] = self.extract_indicators(processed['full_text'])\n",
        "            processed['threat_relevance_score'] = self.calculate_threat_relevance_score(processed['full_text'])\n",
        "        \n",
        "        # Add processing metadata\n",
        "        processed['processed_at'] = datetime.now().isoformat()\n",
        "        processed['processing_version'] = '1.0'\n",
        "        \n",
        "        return processed\n",
        "\n",
        "# Initialize processor\n",
        "processor = ThreatIntelligenceProcessor()\n",
        "print(\"✅ Threat Intelligence Processor initialized\")\n",
        "print(f\"🔍 Monitoring {len(processor.patterns)} indicator types\")\n",
        "print(f\"📝 Tracking {len(processor.threat_keywords)} threat keywords\")\n"
      ]
    },
    {
      "cell_type": "markdown",
      "metadata": {
        "vscode": {
          "languageId": "raw"
        }
      },
      "source": [
        "## 6. Data Validation and Quality Checks\n",
        "\n",
        "Comprehensive data validation system to ensure high-quality threat intelligence collection.\n"
      ]
    },
    {
      "cell_type": "code",
      "execution_count": 8,
      "metadata": {},
      "outputs": [
        {
          "name": "stdout",
          "output_type": "stream",
          "text": [
            "✅ Data Validator initialized\n",
            "📋 Validation rules: 6 criteria\n"
          ]
        }
      ],
      "source": [
        "class DataValidator:\n",
        "    \"\"\"\n",
        "    Comprehensive data validation for threat intelligence articles.\n",
        "    Ensures data quality and consistency for downstream processing.\n",
        "    \"\"\"\n",
        "    \n",
        "    def __init__(self):\n",
        "        self.validation_rules = {\n",
        "            'min_content_length': 100,\n",
        "            'max_content_length': 50000,\n",
        "            'min_title_length': 5,\n",
        "            'max_title_length': 200,\n",
        "            'min_threat_score': 0.1,\n",
        "            'required_fields': ['title', 'content', 'source', 'url']\n",
        "        }\n",
        "    \n",
        "    def validate_structure(self, article: Dict[str, Any]) -> Tuple[bool, List[str]]:\n",
        "        \"\"\"Validate article structure and required fields.\"\"\"\n",
        "        errors = []\n",
        "        \n",
        "        # Check required fields\n",
        "        for field in self.validation_rules['required_fields']:\n",
        "            if not article.get(field):\n",
        "                errors.append(f\"Missing required field: {field}\")\n",
        "        \n",
        "        # Validate title\n",
        "        title = article.get('title', '')\n",
        "        if len(title) < self.validation_rules['min_title_length']:\n",
        "            errors.append(f\"Title too short: {len(title)} chars\")\n",
        "        elif len(title) > self.validation_rules['max_title_length']:\n",
        "            errors.append(f\"Title too long: {len(title)} chars\")\n",
        "        \n",
        "        # Validate content length\n",
        "        content_length = 0\n",
        "        if article.get('full_text'):\n",
        "            content_length = len(article['full_text'])\n",
        "        elif article.get('content'):\n",
        "            if isinstance(article['content'], list):\n",
        "                content_length = sum(len(p) for p in article['content'])\n",
        "            else:\n",
        "                content_length = len(article['content'])\n",
        "        \n",
        "        if content_length < self.validation_rules['min_content_length']:\n",
        "            errors.append(f\"Content too short: {content_length} chars\")\n",
        "        elif content_length > self.validation_rules['max_content_length']:\n",
        "            errors.append(f\"Content too long: {content_length} chars\")\n",
        "        \n",
        "        return len(errors) == 0, errors\n",
        "    \n",
        "    def generate_quality_report(self, article: Dict[str, Any]) -> Dict[str, Any]:\n",
        "        \"\"\"Generate comprehensive quality report for an article.\"\"\"\n",
        "        report = {\n",
        "            'article_id': article.get('url', 'unknown'),\n",
        "            'source': article.get('source', 'unknown'),\n",
        "            'validation_timestamp': datetime.now().isoformat()\n",
        "        }\n",
        "        \n",
        "        # Structure validation\n",
        "        structure_valid, structure_errors = self.validate_structure(article)\n",
        "        report['structure'] = {\n",
        "            'valid': structure_valid,\n",
        "            'errors': structure_errors\n",
        "        }\n",
        "        \n",
        "        # Calculate overall quality score\n",
        "        quality_score = 0\n",
        "        if structure_valid:\n",
        "            quality_score += 4\n",
        "        \n",
        "        # Check threat relevance\n",
        "        threat_score = article.get('threat_relevance_score', 0.0)\n",
        "        if threat_score >= self.validation_rules['min_threat_score']:\n",
        "            quality_score += 3\n",
        "        \n",
        "        # Check for technical indicators\n",
        "        indicators = article.get('indicators', {})\n",
        "        total_indicators = sum(len(inds) for inds in indicators.values())\n",
        "        if total_indicators > 0:\n",
        "            quality_score += 3\n",
        "        \n",
        "        report['overall'] = {\n",
        "            'score': quality_score,\n",
        "            'max_score': 10,\n",
        "            'grade': self._calculate_grade(quality_score, 10),\n",
        "            'approved': quality_score >= 7\n",
        "        }\n",
        "        \n",
        "        return report\n",
        "    \n",
        "    def _calculate_grade(self, score: float, max_score: float) -> str:\n",
        "        \"\"\"Calculate letter grade based on score.\"\"\"\n",
        "        percentage = (score / max_score) * 100\n",
        "        if percentage >= 90:\n",
        "            return 'A'\n",
        "        elif percentage >= 80:\n",
        "            return 'B'\n",
        "        elif percentage >= 70:\n",
        "            return 'C'\n",
        "        elif percentage >= 60:\n",
        "            return 'D'\n",
        "        else:\n",
        "            return 'F'\n",
        "\n",
        "# Initialize validator\n",
        "validator = DataValidator()\n",
        "print(\"✅ Data Validator initialized\")\n",
        "print(f\"📋 Validation rules: {len(validator.validation_rules)} criteria\")\n"
      ]
    },
    {
      "cell_type": "code",
      "execution_count": 9,
      "metadata": {},
      "outputs": [
        {
          "name": "stdout",
          "output_type": "stream",
          "text": [
            "✅ Export functions initialized\n"
          ]
        }
      ],
      "source": [
        "# Export functions for data processing\n",
        "def export_for_llm_training(articles: List[Dict[str, Any]]) -> Dict[str, Any]:\n",
        "    \"\"\"Export data in formats suitable for LLM training and knowledge graph construction.\"\"\"\n",
        "    \n",
        "    if not articles:\n",
        "        print(\"❌ No articles to export\")\n",
        "        return {}\n",
        "    \n",
        "    timestamp = datetime.now().strftime('%Y%m%d_%H%M%S')\n",
        "    \n",
        "    # 1. Training text format (for LLM fine-tuning)\n",
        "    training_texts = []\n",
        "    for article in articles:\n",
        "        text_entry = {\n",
        "            'id': f\"{article['source']}_{hash(article['url']) % 100000}\",\n",
        "            'source': article['source'],\n",
        "            'title': article['title'],\n",
        "            'text': article['full_text'],\n",
        "            'metadata': {\n",
        "                'url': article['url'],\n",
        "                'scraped_at': article['scraped_at'],\n",
        "                'indicators': article.get('indicators', {}),\n",
        "                'threat_score': article.get('threat_relevance_score', 0)\n",
        "            }\n",
        "        }\n",
        "        training_texts.append(text_entry)\n",
        "    \n",
        "    training_file = PROCESSED_DATA_DIR / f'llm_training_data_{timestamp}.json'\n",
        "    with open(training_file, 'w', encoding='utf-8') as f:\n",
        "        json.dump(training_texts, f, indent=2, ensure_ascii=False)\n",
        "    \n",
        "    # 2. Entity-Relationship format (for knowledge graph)\n",
        "    entities_and_relations = {\n",
        "        'entities': [],\n",
        "        'relations': [],\n",
        "        'documents': []\n",
        "    }\n",
        "    \n",
        "    for idx, article in enumerate(articles):\n",
        "        doc_id = f\"doc_{idx}\"\n",
        "        \n",
        "        # Document node\n",
        "        entities_and_relations['documents'].append({\n",
        "            'id': doc_id,\n",
        "            'title': article['title'],\n",
        "            'source': article['source'],\n",
        "            'url': article['url'],\n",
        "            'threat_score': article.get('threat_relevance_score', 0)\n",
        "        })\n",
        "        \n",
        "        # Extract entities from indicators\n",
        "        indicators = article.get('indicators', {})\n",
        "        for indicator_type, values in indicators.items():\n",
        "            for value in values:\n",
        "                entity_id = f\"{indicator_type}_{hash(value) % 100000}\"\n",
        "                \n",
        "                # Entity\n",
        "                entities_and_relations['entities'].append({\n",
        "                    'id': entity_id,\n",
        "                    'type': indicator_type,\n",
        "                    'value': value\n",
        "                })\n",
        "                \n",
        "                # Relation\n",
        "                entities_and_relations['relations'].append({\n",
        "                    'source': doc_id,\n",
        "                    'target': entity_id,\n",
        "                    'relation': 'mentions',\n",
        "                    'type': indicator_type\n",
        "                })\n",
        "    \n",
        "    # Remove duplicate entities\n",
        "    seen_entities = set()\n",
        "    unique_entities = []\n",
        "    for entity in entities_and_relations['entities']:\n",
        "        entity_key = (entity['type'], entity['value'])\n",
        "        if entity_key not in seen_entities:\n",
        "            seen_entities.add(entity_key)\n",
        "            unique_entities.append(entity)\n",
        "    entities_and_relations['entities'] = unique_entities\n",
        "    \n",
        "    kg_file = PROCESSED_DATA_DIR / f'knowledge_graph_data_{timestamp}.json'\n",
        "    with open(kg_file, 'w', encoding='utf-8') as f:\n",
        "        json.dump(entities_and_relations, f, indent=2, ensure_ascii=False)\n",
        "    \n",
        "    # 3. JSONL format (for streaming/batch processing)\n",
        "    jsonl_file = PROCESSED_DATA_DIR / f'threat_intelligence_{timestamp}.jsonl'\n",
        "    with open(jsonl_file, 'w', encoding='utf-8') as f:\n",
        "        for article in articles:\n",
        "            simplified_article = {\n",
        "                'title': article['title'],\n",
        "                'content': article['full_text'],\n",
        "                'source': article['source'],\n",
        "                'indicators': article.get('indicators', {}),\n",
        "                'threat_score': article.get('threat_relevance_score', 0)\n",
        "            }\n",
        "            f.write(json.dumps(simplified_article, ensure_ascii=False) + '\\n')\n",
        "    \n",
        "    # 4. Summary statistics\n",
        "    export_summary = {\n",
        "        'export_timestamp': datetime.now().isoformat(),\n",
        "        'total_articles': len(articles),\n",
        "        'sources': list(set(article['source'] for article in articles)),\n",
        "        'total_entities': len(entities_and_relations['entities']),\n",
        "        'total_relations': len(entities_and_relations['relations']),\n",
        "        'files_created': {\n",
        "            'llm_training': str(training_file),\n",
        "            'knowledge_graph': str(kg_file),\n",
        "            'jsonl_format': str(jsonl_file)\n",
        "        },\n",
        "        'statistics': {\n",
        "            'avg_threat_score': sum(article.get('threat_relevance_score', 0) for article in articles) / len(articles),\n",
        "            'total_technical_indicators': sum(sum(len(inds) for inds in article.get('indicators', {}).values()) for article in articles)\n",
        "        }\n",
        "    }\n",
        "    \n",
        "    summary_file = PROCESSED_DATA_DIR / f'export_summary_{timestamp}.json'\n",
        "    with open(summary_file, 'w', encoding='utf-8') as f:\n",
        "        json.dump(export_summary, f, indent=2, ensure_ascii=False)\n",
        "    \n",
        "    print(\"\\n✅ Export completed successfully!\")\n",
        "    print(\"=\"*60)\n",
        "    print(f\"📊 Exported {len(articles)} articles\")\n",
        "    print(f\"🎯 {len(entities_and_relations['entities'])} unique entities\")\n",
        "    print(f\"🔗 {len(entities_and_relations['relations'])} relations\")\n",
        "    print(f\"📈 Avg threat score: {export_summary['statistics']['avg_threat_score']:.2f}\")\n",
        "    \n",
        "    print(\"\\n📁 Files created:\")\n",
        "    for file_type, file_path in export_summary['files_created'].items():\n",
        "        print(f\"  {file_type}: {Path(file_path).name}\")\n",
        "    \n",
        "    return export_summary\n",
        "\n",
        "print(\"✅ Export functions initialized\")\n"
      ]
    },
    {
      "cell_type": "markdown",
      "metadata": {
        "vscode": {
          "languageId": "raw"
        }
      },
      "source": [
        "## 7. Data Collection Execution\n",
        "\n",
        "Execute the data collection process with monitoring and comprehensive error handling.\n"
      ]
    },
    {
      "cell_type": "code",
      "execution_count": 12,
      "metadata": {},
      "outputs": [
        {
          "name": "stderr",
          "output_type": "stream",
          "text": [
            "2025-07-20 13:37:21,955 - INFO - Collection started at 2025-07-20 13:37:21.955543\n",
            "2025-07-20 13:37:21,979 - INFO - Attempting to fetch https://www.cisa.gov/news-events/cybersecurity-advisories (attempt 1/6)\n"
          ]
        },
        {
          "name": "stdout",
          "output_type": "stream",
          "text": [
            "🌐 Multi-Platform Threat Intelligence Collection\n",
            "============================================================\n",
            "\n",
            "⚙️ Scraping Configuration:\n",
            "  Rate Limit: 6.0 seconds\n",
            "  Max Retries: 5\n",
            "  Timeout: 45 seconds\n",
            "  Sources: CISA, Fortinet, Symantec\n",
            "\n",
            "\n",
            "📡 Collecting from CISA...\n",
            "   Fetching CISA page 1/30: https://www.cisa.gov/news-events/cybersecurity-advisories\n"
          ]
        },
        {
          "name": "stderr",
          "output_type": "stream",
          "text": [
            "2025-07-20 13:37:22,469 - INFO - Successfully scraped: https://www.cisa.gov/news-events/cybersecurity-advisories\n"
          ]
        },
        {
          "name": "stdout",
          "output_type": "stream",
          "text": [
            "      Found 0 new articles on page 1\n",
            "   Total CISA articles found: 0\n",
            "   Found 0 potential articles\n",
            "\n",
            "📡 Collecting from Fortinet...\n",
            "   Fetching initial page: https://www.fortinet.com/blog/threat-research\n"
          ]
        },
        {
          "name": "stderr",
          "output_type": "stream",
          "text": [
            "2025-07-20 13:37:29,627 - INFO - Attempting to fetch https://www.fortinet.com/blog/threat-research (attempt 1/6)\n",
            "2025-07-20 13:37:29,913 - INFO - Successfully scraped: https://www.fortinet.com/blog/threat-research\n"
          ]
        },
        {
          "name": "stdout",
          "output_type": "stream",
          "text": [
            "      Found 13 articles on initial page\n",
            "   Loading page 1/30\n",
            "      Found 9 new articles on page 1\n",
            "   Loading page 2/30\n",
            "      Found 9 new articles on page 2\n",
            "   Loading page 3/30\n",
            "      Found 10 new articles on page 3\n",
            "   Loading page 4/30\n",
            "      Found 10 new articles on page 4\n",
            "   Loading page 5/30\n",
            "      Found 10 new articles on page 5\n",
            "   Loading page 6/30\n",
            "      Found 10 new articles on page 6\n",
            "   Loading page 7/30\n",
            "      Found 10 new articles on page 7\n",
            "   Loading page 8/30\n",
            "      Found 10 new articles on page 8\n",
            "   Loading page 9/30\n",
            "      Found 10 new articles on page 9\n",
            "   Loading page 10/30\n",
            "      Found 10 new articles on page 10\n",
            "   Loading page 11/30\n",
            "      Found 10 new articles on page 11\n",
            "   Loading page 12/30\n",
            "      Found 10 new articles on page 12\n",
            "   Loading page 13/30\n",
            "      Found 10 new articles on page 13\n",
            "   Loading page 14/30\n",
            "      Found 10 new articles on page 14\n",
            "   Loading page 15/30\n",
            "      Found 10 new articles on page 15\n",
            "   Loading page 16/30\n",
            "      Found 10 new articles on page 16\n",
            "   Loading page 17/30\n",
            "      Error loading page 17: 404 Client Error: Not Found for url: https://www.fortinet.com/blog/threat-research/jcr:content/root/bloglist.17\n",
            "   Total Fortinet articles found: 171\n",
            "   Found 171 potential articles\n",
            "   Processing article 1/171: https://www.fortinet.com/blog/threat-research...\n",
            "\n",
            "🔍 Scraping Fortinet article: https://www.fortinet.com/blog/threat-research\n"
          ]
        },
        {
          "name": "stderr",
          "output_type": "stream",
          "text": [
            "2025-07-20 13:39:52,023 - INFO - Attempting to fetch https://www.fortinet.com/blog/threat-research (attempt 1/6)\n",
            "2025-07-20 13:39:52,176 - INFO - Successfully scraped: https://www.fortinet.com/blog/threat-research\n"
          ]
        },
        {
          "name": "stdout",
          "output_type": "stream",
          "text": [
            "   ✅ Successfully scraped article\n",
            "      Title: FortiGuard Labs Threat Research\n",
            "      Content length: 2577\n",
            "   ✅ Approved (Grade: A)\n",
            "   🔍 Extracted 2 technical indicators\n",
            "      cve: 2 found\n",
            "   Processing article 2/171: https://www.fortinet.com/blog/threat-research/nailaolocker-r...\n",
            "\n",
            "🔍 Scraping Fortinet article: https://www.fortinet.com/blog/threat-research/nailaolocker-ransomware-cheese\n"
          ]
        },
        {
          "name": "stderr",
          "output_type": "stream",
          "text": [
            "2025-07-20 13:40:00,988 - INFO - Attempting to fetch https://www.fortinet.com/blog/threat-research/nailaolocker-ransomware-cheese (attempt 1/6)\n",
            "2025-07-20 13:40:01,151 - INFO - Successfully scraped: https://www.fortinet.com/blog/threat-research/nailaolocker-ransomware-cheese\n"
          ]
        },
        {
          "name": "stdout",
          "output_type": "stream",
          "text": [
            "   ✅ Successfully scraped article\n",
            "      Title: NailaoLocker Ransomware’s “Cheese”\n",
            "      Content length: 11392\n",
            "   ✅ Approved (Grade: A)\n",
            "   🔍 Extracted 3 technical indicators\n",
            "      domain: 3 found\n",
            "   Processing article 3/171: https://www.fortinet.com/blog/threat-research/improving-clou...\n",
            "\n",
            "🔍 Scraping Fortinet article: https://www.fortinet.com/blog/threat-research/improving-cloud-intrusion-detection-and-triage-with-forticnapp\n"
          ]
        },
        {
          "name": "stderr",
          "output_type": "stream",
          "text": [
            "2025-07-20 13:40:08,417 - INFO - Attempting to fetch https://www.fortinet.com/blog/threat-research/improving-cloud-intrusion-detection-and-triage-with-forticnapp (attempt 1/6)\n",
            "2025-07-20 13:40:09,256 - INFO - Successfully scraped: https://www.fortinet.com/blog/threat-research/improving-cloud-intrusion-detection-and-triage-with-forticnapp\n"
          ]
        },
        {
          "name": "stdout",
          "output_type": "stream",
          "text": [
            "   ✅ Successfully scraped article\n",
            "      Title: Improving Cloud Intrusion Detection and Triage with FortiCNAPP Composite Alerts\n",
            "      Content length: 10643\n",
            "   ✅ Approved (Grade: A)\n",
            "   🔍 Extracted 4 technical indicators\n",
            "      ip_address: 1 found\n",
            "      domain: 2 found\n",
            "      email: 1 found\n",
            "   Processing article 4/171: https://www.fortinet.com/blog/threat-research/old-miner-new-...\n",
            "\n",
            "🔍 Scraping Fortinet article: https://www.fortinet.com/blog/threat-research/old-miner-new-tricks\n"
          ]
        },
        {
          "name": "stderr",
          "output_type": "stream",
          "text": [
            "2025-07-20 13:40:17,343 - INFO - Attempting to fetch https://www.fortinet.com/blog/threat-research/old-miner-new-tricks (attempt 1/6)\n",
            "2025-07-20 13:40:17,528 - INFO - Successfully scraped: https://www.fortinet.com/blog/threat-research/old-miner-new-tricks\n"
          ]
        },
        {
          "name": "stdout",
          "output_type": "stream",
          "text": [
            "   ✅ Successfully scraped article\n",
            "      Title: Old Miner, New Tricks\n",
            "      Content length: 21272\n",
            "   ✅ Approved (Grade: A)\n",
            "   🔍 Extracted 46 technical indicators\n",
            "      domain: 18 found\n",
            "      hash_md5: 16 found\n",
            "      cve: 3 found\n",
            "      url: 9 found\n",
            "   Processing article 5/171: https://www.fortinet.com/blog/threat-research/fortisandbox-d...\n",
            "\n",
            "🔍 Scraping Fortinet article: https://www.fortinet.com/blog/threat-research/fortisandbox-detects-dark-101-ransomware-despite-evasion-techniques\n"
          ]
        },
        {
          "name": "stderr",
          "output_type": "stream",
          "text": [
            "2025-07-20 13:40:24,504 - INFO - Attempting to fetch https://www.fortinet.com/blog/threat-research/fortisandbox-detects-dark-101-ransomware-despite-evasion-techniques (attempt 1/6)\n",
            "2025-07-20 13:40:25,339 - INFO - Successfully scraped: https://www.fortinet.com/blog/threat-research/fortisandbox-detects-dark-101-ransomware-despite-evasion-techniques\n"
          ]
        },
        {
          "name": "stdout",
          "output_type": "stream",
          "text": [
            "   ✅ Successfully scraped article\n",
            "      Title: How FortiSandbox 5.0 Detects Dark 101 Ransomware Despite Evasion Techniques\n",
            "      Content length: 7626\n",
            "   ✅ Approved (Grade: A)\n",
            "   🔍 Extracted 3 technical indicators\n",
            "      domain: 2 found\n",
            "      hash_md5: 1 found\n",
            "   Processing article 6/171: https://www.fortinet.com/blog/threat-research/catching-smart...\n",
            "\n",
            "🔍 Scraping Fortinet article: https://www.fortinet.com/blog/threat-research/catching-smarter-mice-with-even-smarter-cats\n"
          ]
        },
        {
          "name": "stderr",
          "output_type": "stream",
          "text": [
            "2025-07-20 13:40:32,908 - INFO - Attempting to fetch https://www.fortinet.com/blog/threat-research/catching-smarter-mice-with-even-smarter-cats (attempt 1/6)\n",
            "2025-07-20 13:40:33,414 - INFO - Successfully scraped: https://www.fortinet.com/blog/threat-research/catching-smarter-mice-with-even-smarter-cats\n"
          ]
        },
        {
          "name": "stdout",
          "output_type": "stream",
          "text": [
            "   ✅ Successfully scraped article\n",
            "      Title: Catching Smarter Mice with Even Smarter Cats\n",
            "      Content length: 5290\n",
            "   ✅ Approved (Grade: A)\n",
            "   🔍 Extracted 11 technical indicators\n",
            "      domain: 5 found\n",
            "      hash_sha256: 1 found\n",
            "      url: 5 found\n",
            "   Processing article 7/171: https://www.fortinet.com/blog/threat-research/norddragonscan...\n",
            "\n",
            "🔍 Scraping Fortinet article: https://www.fortinet.com/blog/threat-research/norddragonscan-quiet-data-harvester-on-windows\n"
          ]
        },
        {
          "name": "stderr",
          "output_type": "stream",
          "text": [
            "2025-07-20 13:40:40,907 - INFO - Attempting to fetch https://www.fortinet.com/blog/threat-research/norddragonscan-quiet-data-harvester-on-windows (attempt 1/6)\n",
            "2025-07-20 13:40:41,744 - INFO - Successfully scraped: https://www.fortinet.com/blog/threat-research/norddragonscan-quiet-data-harvester-on-windows\n"
          ]
        },
        {
          "name": "stdout",
          "output_type": "stream",
          "text": [
            "   ✅ Successfully scraped article\n",
            "      Title: NordDragonScan: Quiet Data-Harvester on Windows\n",
            "      Content length: 7400\n",
            "   ✅ Approved (Grade: A)\n",
            "   🔍 Extracted 10 technical indicators\n",
            "      domain: 9 found\n",
            "      hash_sha256: 1 found\n",
            "   Processing article 8/171: https://www.fortinet.com/blog/threat-research/rondobox-unvei...\n",
            "\n",
            "🔍 Scraping Fortinet article: https://www.fortinet.com/blog/threat-research/rondobox-unveiled-breaking-down-a-botnet-threat\n"
          ]
        },
        {
          "name": "stderr",
          "output_type": "stream",
          "text": [
            "2025-07-20 13:40:48,169 - INFO - Attempting to fetch https://www.fortinet.com/blog/threat-research/rondobox-unveiled-breaking-down-a-botnet-threat (attempt 1/6)\n",
            "2025-07-20 13:40:49,018 - INFO - Successfully scraped: https://www.fortinet.com/blog/threat-research/rondobox-unveiled-breaking-down-a-botnet-threat\n"
          ]
        },
        {
          "name": "stdout",
          "output_type": "stream",
          "text": [
            "   ✅ Successfully scraped article\n",
            "      Title: RondoDox Unveiled: Breaking Down a New Botnet Threat\n",
            "      Content length: 11308\n",
            "   ✅ Approved (Grade: A)\n",
            "   🔍 Extracted 6 technical indicators\n",
            "      domain: 4 found\n",
            "      cve: 2 found\n",
            "   Processing article 9/171: https://www.fortinet.com/blog/threat-research/dcrat-imperson...\n",
            "\n",
            "🔍 Scraping Fortinet article: https://www.fortinet.com/blog/threat-research/dcrat-impersonating-the-columbian-government\n"
          ]
        },
        {
          "name": "stderr",
          "output_type": "stream",
          "text": [
            "2025-07-20 13:40:55,634 - INFO - Attempting to fetch https://www.fortinet.com/blog/threat-research/dcrat-impersonating-the-columbian-government (attempt 1/6)\n",
            "2025-07-20 13:40:56,477 - INFO - Successfully scraped: https://www.fortinet.com/blog/threat-research/dcrat-impersonating-the-columbian-government\n"
          ]
        },
        {
          "name": "stdout",
          "output_type": "stream",
          "text": [
            "   ✅ Successfully scraped article\n",
            "      Title: DCRAT Impersonating the Colombian Government\n",
            "      Content length: 12519\n",
            "   ✅ Approved (Grade: A)\n",
            "   🔍 Extracted 2 technical indicators\n",
            "      domain: 2 found\n",
            "   Processing article 10/171: https://www.fortinet.com/blog/threat-research/dissecting-a-m...\n",
            "\n",
            "🔍 Scraping Fortinet article: https://www.fortinet.com/blog/threat-research/dissecting-a-malicious-havoc-sample\n"
          ]
        },
        {
          "name": "stderr",
          "output_type": "stream",
          "text": [
            "2025-07-20 13:41:03,105 - INFO - Attempting to fetch https://www.fortinet.com/blog/threat-research/dissecting-a-malicious-havoc-sample (attempt 1/6)\n",
            "2025-07-20 13:41:03,973 - INFO - Successfully scraped: https://www.fortinet.com/blog/threat-research/dissecting-a-malicious-havoc-sample\n"
          ]
        },
        {
          "name": "stdout",
          "output_type": "stream",
          "text": [
            "   ✅ Successfully scraped article\n",
            "      Title: Dissecting a Malicious Havoc Sample\n",
            "      Content length: 19970\n",
            "   ✅ Approved (Grade: A)\n",
            "   🔍 Extracted 6 technical indicators\n",
            "      domain: 4 found\n",
            "      hash_sha256: 2 found\n",
            "   Processing article 11/171: https://www.fortinet.com/blog/threat-research/threat-group-t...\n",
            "\n",
            "🔍 Scraping Fortinet article: https://www.fortinet.com/blog/threat-research/threat-group-targets-companies-in-taiwan\n"
          ]
        },
        {
          "name": "stderr",
          "output_type": "stream",
          "text": [
            "2025-07-20 13:41:11,449 - INFO - Attempting to fetch https://www.fortinet.com/blog/threat-research/threat-group-targets-companies-in-taiwan (attempt 1/6)\n",
            "2025-07-20 13:41:12,498 - INFO - Successfully scraped: https://www.fortinet.com/blog/threat-research/threat-group-targets-companies-in-taiwan\n"
          ]
        },
        {
          "name": "stdout",
          "output_type": "stream",
          "text": [
            "   ✅ Successfully scraped article\n",
            "      Title: Threat Group Targets Companies in Taiwan\n",
            "      Content length: 13650\n",
            "   ✅ Approved (Grade: A)\n",
            "   🔍 Extracted 36 technical indicators\n",
            "      domain: 36 found\n",
            "   Processing article 12/171: https://www.fortinet.com/blog/threat-research/rolandskimmer-...\n",
            "\n",
            "🔍 Scraping Fortinet article: https://www.fortinet.com/blog/threat-research/rolandskimmer-silent-credit-card-thief-uncovered\n"
          ]
        },
        {
          "name": "stderr",
          "output_type": "stream",
          "text": [
            "2025-07-20 13:41:19,864 - INFO - Attempting to fetch https://www.fortinet.com/blog/threat-research/rolandskimmer-silent-credit-card-thief-uncovered (attempt 1/6)\n",
            "2025-07-20 13:41:20,707 - INFO - Successfully scraped: https://www.fortinet.com/blog/threat-research/rolandskimmer-silent-credit-card-thief-uncovered\n"
          ]
        },
        {
          "name": "stdout",
          "output_type": "stream",
          "text": [
            "   ✅ Successfully scraped article\n",
            "      Title: RolandSkimmer: Silent Credit Card Thief Uncovered\n",
            "      Content length: 12277\n",
            "   ✅ Approved (Grade: A)\n",
            "   🔍 Extracted 19 technical indicators\n",
            "      domain: 19 found\n",
            "   Processing article 13/171: https://www.fortinet.com/blog/threat-research/how-a-maliciou...\n",
            "\n",
            "🔍 Scraping Fortinet article: https://www.fortinet.com/blog/threat-research/how-a-malicious-excel-file-cve-2017-0199-delivers-the-formbook-payload\n"
          ]
        },
        {
          "name": "stderr",
          "output_type": "stream",
          "text": [
            "2025-07-20 13:41:28,597 - INFO - Attempting to fetch https://www.fortinet.com/blog/threat-research/how-a-malicious-excel-file-cve-2017-0199-delivers-the-formbook-payload (attempt 1/6)\n",
            "2025-07-20 13:41:29,448 - INFO - Successfully scraped: https://www.fortinet.com/blog/threat-research/how-a-malicious-excel-file-cve-2017-0199-delivers-the-formbook-payload\n"
          ]
        },
        {
          "name": "stdout",
          "output_type": "stream",
          "text": [
            "   ✅ Successfully scraped article\n",
            "      Title: How a Malicious Excel File (CVE-2017-0199) Delivers the FormBook Payload\n",
            "      Content length: 8332\n",
            "   ✅ Approved (Grade: A)\n",
            "   🔍 Extracted 12 technical indicators\n",
            "      domain: 6 found\n",
            "      hash_sha256: 5 found\n",
            "      cve: 1 found\n",
            "   Processing article 14/171: https://www.fortinet.com/blog/threat-research/deep-dive-into...\n",
            "\n",
            "🔍 Scraping Fortinet article: https://www.fortinet.com/blog/threat-research/deep-dive-into-a-dumped-malware-without-a-pe-header\n"
          ]
        },
        {
          "name": "stderr",
          "output_type": "stream",
          "text": [
            "2025-07-20 13:41:36,034 - INFO - Attempting to fetch https://www.fortinet.com/blog/threat-research/deep-dive-into-a-dumped-malware-without-a-pe-header (attempt 1/6)\n",
            "2025-07-20 13:41:36,886 - INFO - Successfully scraped: https://www.fortinet.com/blog/threat-research/deep-dive-into-a-dumped-malware-without-a-pe-header\n"
          ]
        },
        {
          "name": "stdout",
          "output_type": "stream",
          "text": [
            "   ✅ Successfully scraped article\n",
            "      Title: Deep Dive into a Dumped Malware without a PE Header\n",
            "      Content length: 15952\n",
            "   ✅ Approved (Grade: A)\n",
            "   🔍 Extracted 15 technical indicators\n",
            "      domain: 14 found\n",
            "      hash_sha256: 1 found\n",
            "   Processing article 15/171: https://www.fortinet.com/blog/threat-research/infostealer-ma...\n",
            "\n",
            "🔍 Scraping Fortinet article: https://www.fortinet.com/blog/threat-research/infostealer-malware-formbook-spread-via-phishing-campaign\n"
          ]
        },
        {
          "name": "stderr",
          "output_type": "stream",
          "text": [
            "2025-07-20 13:41:44,943 - INFO - Attempting to fetch https://www.fortinet.com/blog/threat-research/infostealer-malware-formbook-spread-via-phishing-campaign (attempt 1/6)\n",
            "2025-07-20 13:41:45,974 - INFO - Successfully scraped: https://www.fortinet.com/blog/threat-research/infostealer-malware-formbook-spread-via-phishing-campaign\n"
          ]
        },
        {
          "name": "stdout",
          "output_type": "stream",
          "text": [
            "   ✅ Successfully scraped article\n",
            "      Title: Infostealer Malware FormBook Spread via Phishing Campaign – Part II\n",
            "      Content length: 30116\n",
            "   ✅ Approved (Grade: A)\n",
            "   🔍 Extracted 42 technical indicators\n",
            "      domain: 39 found\n",
            "      cve: 1 found\n",
            "      url: 2 found\n",
            "   Processing article 16/171: https://www.fortinet.com/blog/threat-research/ransomware-rou...\n",
            "\n",
            "🔍 Scraping Fortinet article: https://www.fortinet.com/blog/threat-research/ransomware-roundup-vanhelsing\n"
          ]
        },
        {
          "name": "stderr",
          "output_type": "stream",
          "text": [
            "2025-07-20 13:41:53,610 - INFO - Attempting to fetch https://www.fortinet.com/blog/threat-research/ransomware-roundup-vanhelsing (attempt 1/6)\n",
            "2025-07-20 13:41:54,461 - INFO - Successfully scraped: https://www.fortinet.com/blog/threat-research/ransomware-roundup-vanhelsing\n"
          ]
        },
        {
          "name": "stdout",
          "output_type": "stream",
          "text": [
            "   ✅ Successfully scraped article\n",
            "      Title: Ransomware Roundup – VanHelsing\n",
            "      Content length: 8640\n",
            "   ✅ Approved (Grade: A)\n",
            "   🔍 Extracted 10 technical indicators\n",
            "      domain: 8 found\n",
            "      hash_sha256: 2 found\n",
            "   Processing article 17/171: https://www.fortinet.com/blog/threat-research/horabot-unleas...\n",
            "\n",
            "🔍 Scraping Fortinet article: https://www.fortinet.com/blog/threat-research/horabot-unleashed-a-stealthy-phishing-threat\n"
          ]
        },
        {
          "name": "stderr",
          "output_type": "stream",
          "text": [
            "2025-07-20 13:42:02,127 - INFO - Attempting to fetch https://www.fortinet.com/blog/threat-research/horabot-unleashed-a-stealthy-phishing-threat (attempt 1/6)\n",
            "2025-07-20 13:42:02,987 - INFO - Successfully scraped: https://www.fortinet.com/blog/threat-research/horabot-unleashed-a-stealthy-phishing-threat\n"
          ]
        },
        {
          "name": "stdout",
          "output_type": "stream",
          "text": [
            "   ✅ Successfully scraped article\n",
            "      Title: Horabot Unleashed: A Stealthy Phishing Threat\n",
            "      Content length: 11862\n",
            "   ✅ Approved (Grade: A)\n",
            "   🔍 Extracted 7 technical indicators\n",
            "      domain: 7 found\n"
          ]
        },
        {
          "name": "stderr",
          "output_type": "stream",
          "text": [
            "2025-07-20 13:42:09,185 - INFO - Attempting to fetch https://www.fortinet.com/blog/threat-research/multilayered-email-attack-how-a-pdf-invoice-and-geofencing-led-to-rat-malware (attempt 1/6)\n"
          ]
        },
        {
          "name": "stdout",
          "output_type": "stream",
          "text": [
            "   Processing article 18/171: https://www.fortinet.com/blog/threat-research/multilayered-e...\n",
            "\n",
            "🔍 Scraping Fortinet article: https://www.fortinet.com/blog/threat-research/multilayered-email-attack-how-a-pdf-invoice-and-geofencing-led-to-rat-malware\n"
          ]
        },
        {
          "name": "stderr",
          "output_type": "stream",
          "text": [
            "2025-07-20 13:42:10,026 - INFO - Successfully scraped: https://www.fortinet.com/blog/threat-research/multilayered-email-attack-how-a-pdf-invoice-and-geofencing-led-to-rat-malware\n"
          ]
        },
        {
          "name": "stdout",
          "output_type": "stream",
          "text": [
            "   ✅ Successfully scraped article\n",
            "      Title: Multilayered Email Attack: How a PDF Invoice and Geo-Fencing Led to RAT Malware\n",
            "      Content length: 11293\n",
            "   ✅ Approved (Grade: A)\n",
            "   🔍 Extracted 2 technical indicators\n",
            "      domain: 2 found\n",
            "   Processing article 19/171: https://www.fortinet.com/blog/threat-research/fortiguard-inc...\n",
            "\n",
            "🔍 Scraping Fortinet article: https://www.fortinet.com/blog/threat-research/fortiguard-incident-response-team-detects-intrusion-into-middle-east-critical-national-infrastructure\n"
          ]
        },
        {
          "name": "stderr",
          "output_type": "stream",
          "text": [
            "2025-07-20 13:42:17,178 - INFO - Attempting to fetch https://www.fortinet.com/blog/threat-research/fortiguard-incident-response-team-detects-intrusion-into-middle-east-critical-national-infrastructure (attempt 1/6)\n",
            "2025-07-20 13:42:17,680 - INFO - Successfully scraped: https://www.fortinet.com/blog/threat-research/fortiguard-incident-response-team-detects-intrusion-into-middle-east-critical-national-infrastructure\n"
          ]
        },
        {
          "name": "stdout",
          "output_type": "stream",
          "text": [
            "   ✅ Successfully scraped article\n",
            "      Title: FortiGuard Incident Response Team Detects Intrusion into Middle East Critical National Infrastructur\n",
            "      Content length: 4160\n",
            "   ✅ Approved (Grade: C)\n",
            "   Processing article 20/171: https://www.fortinet.com/blog/threat-research/key-takeaways-...\n",
            "\n",
            "🔍 Scraping Fortinet article: https://www.fortinet.com/blog/threat-research/key-takeaways-from-the-2025-global-threat-landscape-report\n"
          ]
        },
        {
          "name": "stderr",
          "output_type": "stream",
          "text": [
            "2025-07-20 13:42:25,771 - INFO - Attempting to fetch https://www.fortinet.com/blog/threat-research/key-takeaways-from-the-2025-global-threat-landscape-report (attempt 1/6)\n",
            "2025-07-20 13:42:26,605 - INFO - Successfully scraped: https://www.fortinet.com/blog/threat-research/key-takeaways-from-the-2025-global-threat-landscape-report\n"
          ]
        },
        {
          "name": "stdout",
          "output_type": "stream",
          "text": [
            "   ✅ Successfully scraped article\n",
            "      Title: Key Takeaways from the 2025 Global Threat Landscape Report\n",
            "      Content length: 6751\n",
            "   ✅ Approved (Grade: A)\n",
            "   🔍 Extracted 3 technical indicators\n",
            "      cve: 3 found\n",
            "   Processing article 21/171: https://www.fortinet.com/blog/threat-research/ingressnightma...\n",
            "\n",
            "🔍 Scraping Fortinet article: https://www.fortinet.com/blog/threat-research/ingressnightmare-understanding-cve-2025-1974-in-kubernetes-ingress-nginx\n"
          ]
        },
        {
          "name": "stderr",
          "output_type": "stream",
          "text": [
            "2025-07-20 13:42:34,282 - INFO - Attempting to fetch https://www.fortinet.com/blog/threat-research/ingressnightmare-understanding-cve-2025-1974-in-kubernetes-ingress-nginx (attempt 1/6)\n",
            "2025-07-20 13:42:34,619 - INFO - Successfully scraped: https://www.fortinet.com/blog/threat-research/ingressnightmare-understanding-cve-2025-1974-in-kubernetes-ingress-nginx\n"
          ]
        },
        {
          "name": "stdout",
          "output_type": "stream",
          "text": [
            "   ✅ Successfully scraped article\n",
            "      Title: IngressNightmare: Understanding CVE‑2025‑1974 in Kubernetes Ingress-NGINX\n",
            "      Content length: 4628\n",
            "   ✅ Approved (Grade: A)\n",
            "   🔍 Extracted 1 technical indicators\n",
            "      cve: 1 found\n",
            "   Processing article 22/171: https://www.fortinet.com/blog/threat-research/infostealer-ma...\n",
            "\n",
            "🔍 Scraping Fortinet article: https://www.fortinet.com/blog/threat-research/infostealer-malware-formbook-spread-via-phishing-campaign-part-i\n"
          ]
        },
        {
          "name": "stderr",
          "output_type": "stream",
          "text": [
            "2025-07-20 13:42:43,080 - INFO - Attempting to fetch https://www.fortinet.com/blog/threat-research/infostealer-malware-formbook-spread-via-phishing-campaign-part-i (attempt 1/6)\n",
            "2025-07-20 13:42:43,920 - INFO - Successfully scraped: https://www.fortinet.com/blog/threat-research/infostealer-malware-formbook-spread-via-phishing-campaign-part-i\n"
          ]
        },
        {
          "name": "stdout",
          "output_type": "stream",
          "text": [
            "   ✅ Successfully scraped article\n",
            "      Title: Infostealer Malware FormBook Spread via Phishing Campaign – Part I\n",
            "      Content length: 11879\n",
            "   ✅ Approved (Grade: A)\n",
            "   🔍 Extracted 15 technical indicators\n",
            "      domain: 10 found\n",
            "      hash_sha256: 4 found\n",
            "      cve: 1 found\n",
            "   Processing article 23/171: https://www.fortinet.com/blog/threat-research/new-rust-botne...\n",
            "\n",
            "🔍 Scraping Fortinet article: https://www.fortinet.com/blog/threat-research/new-rust-botnet-rustobot-is-routed-via-routers\n"
          ]
        },
        {
          "name": "stderr",
          "output_type": "stream",
          "text": [
            "2025-07-20 13:42:51,545 - INFO - Attempting to fetch https://www.fortinet.com/blog/threat-research/new-rust-botnet-rustobot-is-routed-via-routers (attempt 1/6)\n",
            "2025-07-20 13:42:52,379 - INFO - Successfully scraped: https://www.fortinet.com/blog/threat-research/new-rust-botnet-rustobot-is-routed-via-routers\n"
          ]
        },
        {
          "name": "stdout",
          "output_type": "stream",
          "text": [
            "   ✅ Successfully scraped article\n",
            "      Title: New Rust Botnet \"RustoBot\" is Routed via Routers\n",
            "      Content length: 8373\n",
            "   ✅ Approved (Grade: A)\n",
            "   🔍 Extracted 15 technical indicators\n",
            "      ip_address: 1 found\n",
            "      domain: 8 found\n",
            "      cve: 6 found\n",
            "   Processing article 24/171: https://www.fortinet.com/blog/threat-research/malicious-npm-...\n",
            "\n",
            "🔍 Scraping Fortinet article: https://www.fortinet.com/blog/threat-research/malicious-npm-packages-targeting-paypal-users\n"
          ]
        },
        {
          "name": "stderr",
          "output_type": "stream",
          "text": [
            "2025-07-20 13:42:59,854 - INFO - Attempting to fetch https://www.fortinet.com/blog/threat-research/malicious-npm-packages-targeting-paypal-users (attempt 1/6)\n",
            "2025-07-20 13:43:00,698 - INFO - Successfully scraped: https://www.fortinet.com/blog/threat-research/malicious-npm-packages-targeting-paypal-users\n"
          ]
        },
        {
          "name": "stdout",
          "output_type": "stream",
          "text": [
            "   ✅ Successfully scraped article\n",
            "      Title: Malicious NPM Packages Targeting PayPal Users\n",
            "      Content length: 7831\n",
            "   ✅ Approved (Grade: A)\n",
            "   🔍 Extracted 23 technical indicators\n",
            "      hash_sha256: 23 found\n",
            "   Processing article 25/171: https://www.fortinet.com/blog/threat-research/real-time-anti...\n",
            "\n",
            "🔍 Scraping Fortinet article: https://www.fortinet.com/blog/threat-research/real-time-anti-phishing-essential-defense-against-evolving-cyber-threats\n"
          ]
        },
        {
          "name": "stderr",
          "output_type": "stream",
          "text": [
            "2025-07-20 13:43:07,518 - INFO - Attempting to fetch https://www.fortinet.com/blog/threat-research/real-time-anti-phishing-essential-defense-against-evolving-cyber-threats (attempt 1/6)\n",
            "2025-07-20 13:43:08,361 - INFO - Successfully scraped: https://www.fortinet.com/blog/threat-research/real-time-anti-phishing-essential-defense-against-evolving-cyber-threats\n"
          ]
        },
        {
          "name": "stdout",
          "output_type": "stream",
          "text": [
            "   ✅ Successfully scraped article\n",
            "      Title: Real-Time Anti-Phishing: Essential Defense Against Evolving Cyber Threats\n",
            "      Content length: 5744\n",
            "   ✅ Approved (Grade: A)\n",
            "   🔍 Extracted 9 technical indicators\n",
            "      domain: 8 found\n",
            "      url: 1 found\n",
            "   Processing article 26/171: https://www.fortinet.com/blog/threat-research/fortinet-ident...\n",
            "\n",
            "🔍 Scraping Fortinet article: https://www.fortinet.com/blog/threat-research/fortinet-identifies-malicious-packages-in-the-wild-insights-and-trends\n"
          ]
        },
        {
          "name": "stderr",
          "output_type": "stream",
          "text": [
            "2025-07-20 13:43:15,484 - INFO - Attempting to fetch https://www.fortinet.com/blog/threat-research/fortinet-identifies-malicious-packages-in-the-wild-insights-and-trends (attempt 1/6)\n",
            "2025-07-20 13:43:16,489 - INFO - Successfully scraped: https://www.fortinet.com/blog/threat-research/fortinet-identifies-malicious-packages-in-the-wild-insights-and-trends\n"
          ]
        },
        {
          "name": "stdout",
          "output_type": "stream",
          "text": [
            "   ✅ Successfully scraped article\n",
            "      Title: Fortinet Identifies Malicious Packages in the Wild: Insights and Trends from November 2024 Onward\n",
            "      Content length: 11966\n",
            "   ✅ Approved (Grade: A)\n",
            "   🔍 Extracted 15 technical indicators\n",
            "      domain: 4 found\n",
            "      hash_sha256: 11 found\n"
          ]
        },
        {
          "name": "stderr",
          "output_type": "stream",
          "text": [
            "2025-07-20 13:43:22,603 - INFO - Attempting to fetch https://www.fortinet.com/blog/threat-research/havoc-sharepoint-with-microsoft-graph-api-turns-into-fud-c2 (attempt 1/6)\n"
          ]
        },
        {
          "name": "stdout",
          "output_type": "stream",
          "text": [
            "   Processing article 27/171: https://www.fortinet.com/blog/threat-research/havoc-sharepoi...\n",
            "\n",
            "🔍 Scraping Fortinet article: https://www.fortinet.com/blog/threat-research/havoc-sharepoint-with-microsoft-graph-api-turns-into-fud-c2\n"
          ]
        },
        {
          "name": "stderr",
          "output_type": "stream",
          "text": [
            "2025-07-20 13:43:23,445 - INFO - Successfully scraped: https://www.fortinet.com/blog/threat-research/havoc-sharepoint-with-microsoft-graph-api-turns-into-fud-c2\n"
          ]
        },
        {
          "name": "stdout",
          "output_type": "stream",
          "text": [
            "   ✅ Successfully scraped article\n",
            "      Title: Havoc: SharePoint with Microsoft Graph API turns into FUD C2\n",
            "      Content length: 8873\n",
            "   ✅ Approved (Grade: A)\n",
            "   🔍 Extracted 5 technical indicators\n",
            "      domain: 5 found\n"
          ]
        },
        {
          "name": "stderr",
          "output_type": "stream",
          "text": [
            "2025-07-20 13:43:29,639 - INFO - Attempting to fetch https://www.fortinet.com/blog/threat-research/winos-spreads-via-impersonation-of-official-email-to-target-users-in-taiwan (attempt 1/6)\n"
          ]
        },
        {
          "name": "stdout",
          "output_type": "stream",
          "text": [
            "   Processing article 28/171: https://www.fortinet.com/blog/threat-research/winos-spreads-...\n",
            "\n",
            "🔍 Scraping Fortinet article: https://www.fortinet.com/blog/threat-research/winos-spreads-via-impersonation-of-official-email-to-target-users-in-taiwan\n"
          ]
        },
        {
          "name": "stderr",
          "output_type": "stream",
          "text": [
            "2025-07-20 13:43:30,485 - INFO - Successfully scraped: https://www.fortinet.com/blog/threat-research/winos-spreads-via-impersonation-of-official-email-to-target-users-in-taiwan\n"
          ]
        },
        {
          "name": "stdout",
          "output_type": "stream",
          "text": [
            "   ✅ Successfully scraped article\n",
            "      Title: Winos 4.0 Spreads via Impersonation of Official Email to Target Users in Taiwan\n",
            "      Content length: 12928\n",
            "   ✅ Approved (Grade: A)\n",
            "   🔍 Extracted 10 technical indicators\n",
            "      domain: 9 found\n",
            "      hash_sha256: 1 found\n",
            "   Processing article 29/171: https://www.fortinet.com/blog/threat-research/fortisandbox-d...\n",
            "\n",
            "🔍 Scraping Fortinet article: https://www.fortinet.com/blog/threat-research/fortisandbox-detects-evolving-snake-keylogger-variant\n"
          ]
        },
        {
          "name": "stderr",
          "output_type": "stream",
          "text": [
            "2025-07-20 13:43:37,909 - INFO - Attempting to fetch https://www.fortinet.com/blog/threat-research/fortisandbox-detects-evolving-snake-keylogger-variant (attempt 1/6)\n",
            "2025-07-20 13:43:38,744 - INFO - Successfully scraped: https://www.fortinet.com/blog/threat-research/fortisandbox-detects-evolving-snake-keylogger-variant\n"
          ]
        },
        {
          "name": "stdout",
          "output_type": "stream",
          "text": [
            "   ✅ Successfully scraped article\n",
            "      Title: FortiSandbox 5.0 Detects Evolving Snake Keylogger Variant\n",
            "      Content length: 10355\n",
            "   ✅ Approved (Grade: A)\n",
            "   🔍 Extracted 5 technical indicators\n",
            "      domain: 2 found\n",
            "      hash_md5: 2 found\n",
            "      url: 1 found\n"
          ]
        },
        {
          "name": "stderr",
          "output_type": "stream",
          "text": [
            "2025-07-20 13:43:44,947 - INFO - Attempting to fetch https://www.fortinet.com/blog/threat-research/ransomware-roundup-lynx (attempt 1/6)\n"
          ]
        },
        {
          "name": "stdout",
          "output_type": "stream",
          "text": [
            "   Processing article 30/171: https://www.fortinet.com/blog/threat-research/ransomware-rou...\n",
            "\n",
            "🔍 Scraping Fortinet article: https://www.fortinet.com/blog/threat-research/ransomware-roundup-lynx\n"
          ]
        },
        {
          "name": "stderr",
          "output_type": "stream",
          "text": [
            "2025-07-20 13:43:45,785 - INFO - Successfully scraped: https://www.fortinet.com/blog/threat-research/ransomware-roundup-lynx\n"
          ]
        },
        {
          "name": "stdout",
          "output_type": "stream",
          "text": [
            "   ✅ Successfully scraped article\n",
            "      Title: Ransomware Roundup – Lynx\n",
            "      Content length: 10707\n",
            "   ✅ Approved (Grade: A)\n",
            "   🔍 Extracted 17 technical indicators\n",
            "      domain: 1 found\n",
            "      hash_sha256: 16 found\n",
            "   Processing article 31/171: https://www.fortinet.com/blog/threat-research/analyzing-elf-...\n",
            "\n",
            "🔍 Scraping Fortinet article: https://www.fortinet.com/blog/threat-research/analyzing-elf-sshdinjector-with-a-human-and-artificial-analyst\n"
          ]
        },
        {
          "name": "stderr",
          "output_type": "stream",
          "text": [
            "2025-07-20 13:43:53,101 - INFO - Attempting to fetch https://www.fortinet.com/blog/threat-research/analyzing-elf-sshdinjector-with-a-human-and-artificial-analyst (attempt 1/6)\n",
            "2025-07-20 13:43:54,015 - INFO - Successfully scraped: https://www.fortinet.com/blog/threat-research/analyzing-elf-sshdinjector-with-a-human-and-artificial-analyst\n"
          ]
        },
        {
          "name": "stdout",
          "output_type": "stream",
          "text": [
            "   ✅ Successfully scraped article\n",
            "      Title: Analyzing ELF/Sshdinjector.A!tr with a Human and Artificial Analyst\n",
            "      Content length: 7691\n",
            "   ✅ Approved (Grade: A)\n",
            "   🔍 Extracted 6 technical indicators\n",
            "      domain: 3 found\n",
            "      hash_sha256: 3 found\n",
            "   Processing article 32/171: https://www.fortinet.com/blog/threat-research/coyote-banking...\n",
            "\n",
            "🔍 Scraping Fortinet article: https://www.fortinet.com/blog/threat-research/coyote-banking-trojan-a-stealthy-attack-via-lnk-files\n"
          ]
        },
        {
          "name": "stderr",
          "output_type": "stream",
          "text": [
            "2025-07-20 13:44:01,595 - INFO - Attempting to fetch https://www.fortinet.com/blog/threat-research/coyote-banking-trojan-a-stealthy-attack-via-lnk-files (attempt 1/6)\n",
            "2025-07-20 13:44:02,442 - INFO - Successfully scraped: https://www.fortinet.com/blog/threat-research/coyote-banking-trojan-a-stealthy-attack-via-lnk-files\n"
          ]
        },
        {
          "name": "stdout",
          "output_type": "stream",
          "text": [
            "   ✅ Successfully scraped article\n",
            "      Title: Coyote Banking Trojan: A Stealthy Attack via LNK Files\n",
            "      Content length: 9849\n",
            "   ✅ Approved (Grade: A)\n",
            "   🔍 Extracted 16 technical indicators\n",
            "      domain: 16 found\n",
            "   Processing article 33/171: https://www.fortinet.com/blog/threat-research/deep-dive-into...\n",
            "\n",
            "🔍 Scraping Fortinet article: https://www.fortinet.com/blog/threat-research/deep-dive-into-a-linux-rootkit-malware\n"
          ]
        },
        {
          "name": "stderr",
          "output_type": "stream",
          "text": [
            "2025-07-20 13:44:08,896 - INFO - Attempting to fetch https://www.fortinet.com/blog/threat-research/deep-dive-into-a-linux-rootkit-malware (attempt 1/6)\n",
            "2025-07-20 13:44:09,749 - INFO - Successfully scraped: https://www.fortinet.com/blog/threat-research/deep-dive-into-a-linux-rootkit-malware\n"
          ]
        },
        {
          "name": "stdout",
          "output_type": "stream",
          "text": [
            "   ✅ Successfully scraped article\n",
            "      Title: Deep Dive Into a Linux Rootkit Malware\n",
            "      Content length: 16124\n",
            "   ✅ Approved (Grade: A)\n",
            "   🔍 Extracted 10 technical indicators\n",
            "      domain: 7 found\n",
            "      hash_sha256: 3 found\n",
            "   Processing article 34/171: https://www.fortinet.com/blog/threat-research/phish-free-pay...\n",
            "\n",
            "🔍 Scraping Fortinet article: https://www.fortinet.com/blog/threat-research/phish-free-paypal-phishing\n"
          ]
        },
        {
          "name": "stderr",
          "output_type": "stream",
          "text": [
            "2025-07-20 13:44:17,359 - INFO - Attempting to fetch https://www.fortinet.com/blog/threat-research/phish-free-paypal-phishing (attempt 1/6)\n",
            "2025-07-20 13:44:17,899 - INFO - Successfully scraped: https://www.fortinet.com/blog/threat-research/phish-free-paypal-phishing\n"
          ]
        },
        {
          "name": "stdout",
          "output_type": "stream",
          "text": [
            "   ✅ Successfully scraped article\n",
            "      Title: Phish-free PayPal Phishing\n",
            "      Content length: 3131\n",
            "   ✅ Approved (Grade: A)\n",
            "   🔍 Extracted 2 technical indicators\n",
            "      domain: 2 found\n",
            "   Processing article 35/171: https://www.fortinet.com/blog/threat-research/catching-ec2-g...\n",
            "\n",
            "🔍 Scraping Fortinet article: https://www.fortinet.com/blog/threat-research/catching-ec2-grouper-no-indicators-required\n"
          ]
        },
        {
          "name": "stderr",
          "output_type": "stream",
          "text": [
            "2025-07-20 13:44:25,995 - INFO - Attempting to fetch https://www.fortinet.com/blog/threat-research/catching-ec2-grouper-no-indicators-required (attempt 1/6)\n",
            "2025-07-20 13:44:26,492 - INFO - Successfully scraped: https://www.fortinet.com/blog/threat-research/catching-ec2-grouper-no-indicators-required\n"
          ]
        },
        {
          "name": "stdout",
          "output_type": "stream",
          "text": [
            "   ✅ Successfully scraped article\n",
            "      Title: Catching \"EC2 Grouper\"- no indicators required!\n",
            "      Content length: 7155\n",
            "   ✅ Approved (Grade: A)\n",
            "   🔍 Extracted 2 technical indicators\n",
            "      ip_address: 2 found\n",
            "   Processing article 36/171: https://www.fortinet.com/blog/threat-research/botnets-contin...\n",
            "\n",
            "🔍 Scraping Fortinet article: https://www.fortinet.com/blog/threat-research/botnets-continue-to-target-aging-d-link-vulnerabilities\n"
          ]
        },
        {
          "name": "stderr",
          "output_type": "stream",
          "text": [
            "2025-07-20 13:44:33,671 - INFO - Attempting to fetch https://www.fortinet.com/blog/threat-research/botnets-continue-to-target-aging-d-link-vulnerabilities (attempt 1/6)\n",
            "2025-07-20 13:44:34,515 - INFO - Successfully scraped: https://www.fortinet.com/blog/threat-research/botnets-continue-to-target-aging-d-link-vulnerabilities\n"
          ]
        },
        {
          "name": "stdout",
          "output_type": "stream",
          "text": [
            "   ✅ Successfully scraped article\n",
            "      Title: Botnets Continue to Target Aging D-Link Vulnerabilities\n",
            "      Content length: 11369\n",
            "   ✅ Approved (Grade: A)\n",
            "   🔍 Extracted 8 technical indicators\n",
            "      domain: 4 found\n",
            "      cve: 4 found\n",
            "   Processing article 37/171: https://www.fortinet.com/blog/threat-research/analyzing-mali...\n",
            "\n",
            "🔍 Scraping Fortinet article: https://www.fortinet.com/blog/threat-research/analyzing-malicious-intent-in-python-code\n"
          ]
        },
        {
          "name": "stderr",
          "output_type": "stream",
          "text": [
            "2025-07-20 13:44:41,078 - INFO - Attempting to fetch https://www.fortinet.com/blog/threat-research/analyzing-malicious-intent-in-python-code (attempt 1/6)\n",
            "2025-07-20 13:44:41,410 - INFO - Successfully scraped: https://www.fortinet.com/blog/threat-research/analyzing-malicious-intent-in-python-code\n"
          ]
        },
        {
          "name": "stdout",
          "output_type": "stream",
          "text": [
            "   ✅ Successfully scraped article\n",
            "      Title: Analyzing Malicious Intent in Python Code: A Case Study\n",
            "      Content length: 11657\n",
            "   ✅ Approved (Grade: A)\n",
            "   🔍 Extracted 10 technical indicators\n",
            "      domain: 7 found\n",
            "      hash_sha256: 3 found\n",
            "   Processing article 38/171: https://www.fortinet.com/blog/threat-research/fortinet-contr...\n",
            "\n",
            "🔍 Scraping Fortinet article: https://www.fortinet.com/blog/threat-research/fortinet-contributes-to-major-cybercrime-operation-arrests\n"
          ]
        },
        {
          "name": "stderr",
          "output_type": "stream",
          "text": [
            "2025-07-20 13:44:48,554 - INFO - Attempting to fetch https://www.fortinet.com/blog/threat-research/fortinet-contributes-to-major-cybercrime-operation-arrests (attempt 1/6)\n",
            "2025-07-20 13:44:49,388 - INFO - Successfully scraped: https://www.fortinet.com/blog/threat-research/fortinet-contributes-to-major-cybercrime-operation-arrests\n"
          ]
        },
        {
          "name": "stdout",
          "output_type": "stream",
          "text": [
            "   ✅ Successfully scraped article\n",
            "      Title: Fortinet Contributes to Major Cybercrime Operation Arrests\n",
            "      Content length: 5466\n",
            "   ✅ Approved (Grade: C)\n",
            "   Processing article 39/171: https://www.fortinet.com/blog/threat-research/sophisticated-...\n",
            "\n",
            "🔍 Scraping Fortinet article: https://www.fortinet.com/blog/threat-research/sophisticated-attack-targets-taiwan-with-smokeloader\n"
          ]
        },
        {
          "name": "stderr",
          "output_type": "stream",
          "text": [
            "2025-07-20 13:44:56,844 - INFO - Attempting to fetch https://www.fortinet.com/blog/threat-research/sophisticated-attack-targets-taiwan-with-smokeloader (attempt 1/6)\n",
            "2025-07-20 13:44:57,686 - INFO - Successfully scraped: https://www.fortinet.com/blog/threat-research/sophisticated-attack-targets-taiwan-with-smokeloader\n"
          ]
        },
        {
          "name": "stdout",
          "output_type": "stream",
          "text": [
            "   ✅ Successfully scraped article\n",
            "      Title: SmokeLoader Attack Targets Companies in Taiwan\n",
            "      Content length: 13307\n",
            "   ✅ Approved (Grade: A)\n",
            "   🔍 Extracted 27 technical indicators\n",
            "      domain: 25 found\n",
            "      hash_sha256: 1 found\n",
            "      cve: 1 found\n",
            "   Processing article 40/171: https://www.fortinet.com/blog/threat-research/ransomware-rou...\n",
            "\n",
            "🔍 Scraping Fortinet article: https://www.fortinet.com/blog/threat-research/ransomware-roundup-interlock\n"
          ]
        },
        {
          "name": "stderr",
          "output_type": "stream",
          "text": [
            "2025-07-20 13:45:05,267 - INFO - Attempting to fetch https://www.fortinet.com/blog/threat-research/ransomware-roundup-interlock (attempt 1/6)\n",
            "2025-07-20 13:45:06,113 - INFO - Successfully scraped: https://www.fortinet.com/blog/threat-research/ransomware-roundup-interlock\n"
          ]
        },
        {
          "name": "stdout",
          "output_type": "stream",
          "text": [
            "   ✅ Successfully scraped article\n",
            "      Title: Ransomware Roundup - Interlock\n",
            "      Content length: 9126\n",
            "   ✅ Approved (Grade: A)\n",
            "   🔍 Extracted 7 technical indicators\n",
            "      hash_sha256: 7 found\n",
            "   Processing article 41/171: https://www.fortinet.com/blog/threat-research/advanced-cyber...\n",
            "\n",
            "🔍 Scraping Fortinet article: https://www.fortinet.com/blog/threat-research/advanced-cyberthreats-targeting-holiday-shoppers\n"
          ]
        },
        {
          "name": "stderr",
          "output_type": "stream",
          "text": [
            "2025-07-20 13:45:13,595 - INFO - Attempting to fetch https://www.fortinet.com/blog/threat-research/advanced-cyberthreats-targeting-holiday-shoppers (attempt 1/6)\n",
            "2025-07-20 13:45:14,429 - INFO - Successfully scraped: https://www.fortinet.com/blog/threat-research/advanced-cyberthreats-targeting-holiday-shoppers\n"
          ]
        },
        {
          "name": "stdout",
          "output_type": "stream",
          "text": [
            "   ✅ Successfully scraped article\n",
            "      Title: Advanced Cyberthreats Targeting Holiday Shoppers\n",
            "      Content length: 3548\n",
            "   ✅ Approved (Grade: C)\n",
            "   Processing article 42/171: https://www.fortinet.com/blog/threat-research/threat-predict...\n",
            "\n",
            "🔍 Scraping Fortinet article: https://www.fortinet.com/blog/threat-research/threat-predictions-for-2025-get-ready-for-bigger-bolder-attacks\n"
          ]
        },
        {
          "name": "stderr",
          "output_type": "stream",
          "text": [
            "2025-07-20 13:45:21,961 - INFO - Attempting to fetch https://www.fortinet.com/blog/threat-research/threat-predictions-for-2025-get-ready-for-bigger-bolder-attacks (attempt 1/6)\n",
            "2025-07-20 13:45:22,789 - INFO - Successfully scraped: https://www.fortinet.com/blog/threat-research/threat-predictions-for-2025-get-ready-for-bigger-bolder-attacks\n"
          ]
        },
        {
          "name": "stdout",
          "output_type": "stream",
          "text": [
            "   ✅ Successfully scraped article\n",
            "      Title: Threat Predictions for 2025: Get Ready for Bigger, Bolder Attacks\n",
            "      Content length: 2808\n",
            "   ✅ Approved (Grade: C)\n",
            "   Processing article 43/171: https://www.fortinet.com/blog/threat-research/new-campaign-u...\n",
            "\n",
            "🔍 Scraping Fortinet article: https://www.fortinet.com/blog/threat-research/new-campaign-uses-remcos-rat-to-exploit-victims\n"
          ]
        },
        {
          "name": "stderr",
          "output_type": "stream",
          "text": [
            "2025-07-20 13:45:30,021 - INFO - Attempting to fetch https://www.fortinet.com/blog/threat-research/new-campaign-uses-remcos-rat-to-exploit-victims (attempt 1/6)\n",
            "2025-07-20 13:45:30,859 - INFO - Successfully scraped: https://www.fortinet.com/blog/threat-research/new-campaign-uses-remcos-rat-to-exploit-victims\n"
          ]
        },
        {
          "name": "stdout",
          "output_type": "stream",
          "text": [
            "   ✅ Successfully scraped article\n",
            "      Title: New Campaign Uses Remcos RAT to Exploit Victims\n",
            "      Content length: 17880\n",
            "   ✅ Approved (Grade: A)\n",
            "   🔍 Extracted 19 technical indicators\n",
            "      domain: 12 found\n",
            "      hash_sha256: 6 found\n",
            "      cve: 1 found\n",
            "   Processing article 44/171: https://www.fortinet.com/blog/threat-research/threat-campaig...\n",
            "\n",
            "🔍 Scraping Fortinet article: https://www.fortinet.com/blog/threat-research/threat-campaign-spreads-winos4-through-game-application\n"
          ]
        },
        {
          "name": "stderr",
          "output_type": "stream",
          "text": [
            "2025-07-20 13:45:38,059 - INFO - Attempting to fetch https://www.fortinet.com/blog/threat-research/threat-campaign-spreads-winos4-through-game-application (attempt 1/6)\n",
            "2025-07-20 13:45:38,898 - INFO - Successfully scraped: https://www.fortinet.com/blog/threat-research/threat-campaign-spreads-winos4-through-game-application\n"
          ]
        },
        {
          "name": "stdout",
          "output_type": "stream",
          "text": [
            "   ✅ Successfully scraped article\n",
            "      Title: Threat Campaign Spreads Winos4.0 Through Game Application\n",
            "      Content length: 9536\n",
            "   ✅ Approved (Grade: A)\n",
            "   🔍 Extracted 28 technical indicators\n",
            "      domain: 16 found\n",
            "      hash_md5: 1 found\n",
            "      hash_sha256: 11 found\n",
            "   Processing article 45/171: https://www.fortinet.com/blog/threat-research/burning-zero-d...\n",
            "\n",
            "🔍 Scraping Fortinet article: https://www.fortinet.com/blog/threat-research/burning-zero-days-suspected-nation-state-adversary-targets-ivanti-csa\n"
          ]
        },
        {
          "name": "stderr",
          "output_type": "stream",
          "text": [
            "2025-07-20 13:45:46,390 - INFO - Attempting to fetch https://www.fortinet.com/blog/threat-research/burning-zero-days-suspected-nation-state-adversary-targets-ivanti-csa (attempt 1/6)\n",
            "2025-07-20 13:45:47,418 - INFO - Successfully scraped: https://www.fortinet.com/blog/threat-research/burning-zero-days-suspected-nation-state-adversary-targets-ivanti-csa\n"
          ]
        },
        {
          "name": "stdout",
          "output_type": "stream",
          "text": [
            "   ✅ Successfully scraped article\n",
            "      Title: Burning Zero Days: Suspected Nation-State Adversary Targets Ivanti CSA\n",
            "      Content length: 24270\n",
            "   ✅ Approved (Grade: A)\n",
            "   🔍 Extracted 70 technical indicators\n",
            "      ip_address: 1 found\n",
            "      domain: 55 found\n",
            "      hash_md5: 1 found\n",
            "      hash_sha1: 2 found\n",
            "      hash_sha256: 3 found\n",
            "      cve: 3 found\n",
            "      url: 5 found\n",
            "   Processing article 46/171: https://www.fortinet.com/blog/threat-research/threat-actors-...\n",
            "\n",
            "🔍 Scraping Fortinet article: https://www.fortinet.com/blog/threat-research/threat-actors-exploit-geoserver-vulnerability-cve-2024-36401\n"
          ]
        },
        {
          "name": "stderr",
          "output_type": "stream",
          "text": [
            "2025-07-20 13:45:55,151 - INFO - Attempting to fetch https://www.fortinet.com/blog/threat-research/threat-actors-exploit-geoserver-vulnerability-cve-2024-36401 (attempt 1/6)\n",
            "2025-07-20 13:45:55,990 - INFO - Successfully scraped: https://www.fortinet.com/blog/threat-research/threat-actors-exploit-geoserver-vulnerability-cve-2024-36401\n"
          ]
        },
        {
          "name": "stdout",
          "output_type": "stream",
          "text": [
            "   ✅ Successfully scraped article\n",
            "      Title: Threat Actors Exploit GeoServer Vulnerability CVE-2024-36401\n",
            "      Content length: 19928\n",
            "   ✅ Approved (Grade: A)\n",
            "   🔍 Extracted 20 technical indicators\n",
            "      domain: 18 found\n",
            "      cve: 2 found\n",
            "   Processing article 47/171: https://www.fortinet.com/blog/threat-research/emansrepo-stea...\n",
            "\n",
            "🔍 Scraping Fortinet article: https://www.fortinet.com/blog/threat-research/emansrepo-stealer-multi-vector-attack-chains\n"
          ]
        },
        {
          "name": "stderr",
          "output_type": "stream",
          "text": [
            "2025-07-20 13:46:02,686 - INFO - Attempting to fetch https://www.fortinet.com/blog/threat-research/emansrepo-stealer-multi-vector-attack-chains (attempt 1/6)\n",
            "2025-07-20 13:46:03,540 - INFO - Successfully scraped: https://www.fortinet.com/blog/threat-research/emansrepo-stealer-multi-vector-attack-chains\n"
          ]
        },
        {
          "name": "stdout",
          "output_type": "stream",
          "text": [
            "   ✅ Successfully scraped article\n",
            "      Title: Emansrepo Stealer: Multi-Vector Attack Chains\n",
            "      Content length: 10874\n",
            "   ✅ Approved (Grade: A)\n",
            "   🔍 Extracted 7 technical indicators\n",
            "      domain: 4 found\n",
            "      hash_sha256: 2 found\n",
            "      url: 1 found\n",
            "   Processing article 48/171: https://www.fortinet.com/blog/threat-research/ransomware-rou...\n",
            "\n",
            "🔍 Scraping Fortinet article: https://www.fortinet.com/blog/threat-research/ransomware-roundup-underground\n"
          ]
        },
        {
          "name": "stderr",
          "output_type": "stream",
          "text": [
            "2025-07-20 13:46:09,804 - INFO - Attempting to fetch https://www.fortinet.com/blog/threat-research/ransomware-roundup-underground (attempt 1/6)\n",
            "2025-07-20 13:46:10,646 - INFO - Successfully scraped: https://www.fortinet.com/blog/threat-research/ransomware-roundup-underground\n"
          ]
        },
        {
          "name": "stdout",
          "output_type": "stream",
          "text": [
            "   ✅ Successfully scraped article\n",
            "      Title: Ransomware Roundup - Underground\n",
            "      Content length: 8727\n",
            "   ✅ Approved (Grade: A)\n",
            "   🔍 Extracted 8 technical indicators\n",
            "      domain: 1 found\n",
            "      hash_sha256: 6 found\n",
            "      cve: 1 found\n",
            "   Processing article 49/171: https://www.fortinet.com/blog/threat-research/deep-analysis-...\n",
            "\n",
            "🔍 Scraping Fortinet article: https://www.fortinet.com/blog/threat-research/deep-analysis-of-snake-keylogger-new-variant\n"
          ]
        },
        {
          "name": "stderr",
          "output_type": "stream",
          "text": [
            "2025-07-20 13:46:17,783 - INFO - Attempting to fetch https://www.fortinet.com/blog/threat-research/deep-analysis-of-snake-keylogger-new-variant (attempt 1/6)\n",
            "2025-07-20 13:46:18,287 - INFO - Successfully scraped: https://www.fortinet.com/blog/threat-research/deep-analysis-of-snake-keylogger-new-variant\n"
          ]
        },
        {
          "name": "stdout",
          "output_type": "stream",
          "text": [
            "   ✅ Successfully scraped article\n",
            "      Title: Deep Analysis of Snake Keylogger’s New Variant\n",
            "      Content length: 14283\n",
            "   ✅ Approved (Grade: A)\n",
            "   🔍 Extracted 19 technical indicators\n",
            "      domain: 14 found\n",
            "      hash_sha256: 4 found\n",
            "      cve: 1 found\n",
            "   Processing article 50/171: https://www.fortinet.com/blog/threat-research/valleyrat-camp...\n",
            "\n",
            "🔍 Scraping Fortinet article: https://www.fortinet.com/blog/threat-research/valleyrat-campaign-targeting-chinese-speakers\n"
          ]
        },
        {
          "name": "stderr",
          "output_type": "stream",
          "text": [
            "2025-07-20 13:46:24,899 - INFO - Attempting to fetch https://www.fortinet.com/blog/threat-research/valleyrat-campaign-targeting-chinese-speakers (attempt 1/6)\n",
            "2025-07-20 13:46:25,744 - INFO - Successfully scraped: https://www.fortinet.com/blog/threat-research/valleyrat-campaign-targeting-chinese-speakers\n"
          ]
        },
        {
          "name": "stdout",
          "output_type": "stream",
          "text": [
            "   ✅ Successfully scraped article\n",
            "      Title: A Deep Dive into a New ValleyRAT Campaign Targeting Chinese Speakers\n",
            "      Content length: 19255\n",
            "   ✅ Approved (Grade: A)\n",
            "   🔍 Extracted 22 technical indicators\n",
            "      ip_address: 1 found\n",
            "      domain: 19 found\n",
            "      url: 2 found\n",
            "   Processing article 51/171: https://www.fortinet.com/blog/threat-research/preparation-is...\n",
            "\n",
            "🔍 Scraping Fortinet article: https://www.fortinet.com/blog/threat-research/preparation-is-not-optional-10-incident-response-readiness-considerations\n"
          ]
        },
        {
          "name": "stderr",
          "output_type": "stream",
          "text": [
            "2025-07-20 13:46:33,619 - INFO - Attempting to fetch https://www.fortinet.com/blog/threat-research/preparation-is-not-optional-10-incident-response-readiness-considerations (attempt 1/6)\n",
            "2025-07-20 13:46:34,594 - INFO - Successfully scraped: https://www.fortinet.com/blog/threat-research/preparation-is-not-optional-10-incident-response-readiness-considerations\n"
          ]
        },
        {
          "name": "stdout",
          "output_type": "stream",
          "text": [
            "   ✅ Successfully scraped article\n",
            "      Title: Preparation Is Not Optional: 10 Incident Response Readiness Considerations for Any Organization\n",
            "      Content length: 16391\n",
            "   ✅ Approved (Grade: C)\n"
          ]
        },
        {
          "name": "stderr",
          "output_type": "stream",
          "text": [
            "2025-07-20 13:46:40,732 - INFO - Attempting to fetch https://www.fortinet.com/blog/threat-research/purehvnc-deployed-via-python-multi-stage-loader (attempt 1/6)\n"
          ]
        },
        {
          "name": "stdout",
          "output_type": "stream",
          "text": [
            "   Processing article 52/171: https://www.fortinet.com/blog/threat-research/purehvnc-deplo...\n",
            "\n",
            "🔍 Scraping Fortinet article: https://www.fortinet.com/blog/threat-research/purehvnc-deployed-via-python-multi-stage-loader\n"
          ]
        },
        {
          "name": "stderr",
          "output_type": "stream",
          "text": [
            "2025-07-20 13:46:41,569 - INFO - Successfully scraped: https://www.fortinet.com/blog/threat-research/purehvnc-deployed-via-python-multi-stage-loader\n"
          ]
        },
        {
          "name": "stdout",
          "output_type": "stream",
          "text": [
            "   ✅ Successfully scraped article\n",
            "      Title: PureHVNC Deployed via Python Multi-stage Loader\n",
            "      Content length: 15152\n",
            "   ✅ Approved (Grade: A)\n",
            "   🔍 Extracted 25 technical indicators\n",
            "      domain: 3 found\n",
            "      hash_sha256: 22 found\n",
            "   Processing article 53/171: https://www.fortinet.com/blog/threat-research/malicious-pack...\n",
            "\n",
            "🔍 Scraping Fortinet article: https://www.fortinet.com/blog/threat-research/malicious-packages-hidden-in-pypl\n"
          ]
        },
        {
          "name": "stderr",
          "output_type": "stream",
          "text": [
            "2025-07-20 13:46:49,238 - INFO - Attempting to fetch https://www.fortinet.com/blog/threat-research/malicious-packages-hidden-in-pypl (attempt 1/6)\n",
            "2025-07-20 13:46:50,083 - INFO - Successfully scraped: https://www.fortinet.com/blog/threat-research/malicious-packages-hidden-in-pypl\n"
          ]
        },
        {
          "name": "stdout",
          "output_type": "stream",
          "text": [
            "   ✅ Successfully scraped article\n",
            "      Title: Malicious Packages Hidden in PyPI\n",
            "      Content length: 7673\n",
            "   ✅ Approved (Grade: A)\n",
            "   🔍 Extracted 8 technical indicators\n",
            "      domain: 4 found\n",
            "      hash_sha256: 4 found\n",
            "   Processing article 54/171: https://www.fortinet.com/blog/threat-research/phishing-campa...\n",
            "\n",
            "🔍 Scraping Fortinet article: https://www.fortinet.com/blog/threat-research/phishing-campaign-targeting-mobile-users-in-india-using-india-post-lures\n"
          ]
        },
        {
          "name": "stderr",
          "output_type": "stream",
          "text": [
            "2025-07-20 13:46:57,026 - INFO - Attempting to fetch https://www.fortinet.com/blog/threat-research/phishing-campaign-targeting-mobile-users-in-india-using-india-post-lures (attempt 1/6)\n",
            "2025-07-20 13:46:58,073 - INFO - Successfully scraped: https://www.fortinet.com/blog/threat-research/phishing-campaign-targeting-mobile-users-in-india-using-india-post-lures\n"
          ]
        },
        {
          "name": "stdout",
          "output_type": "stream",
          "text": [
            "   ✅ Successfully scraped article\n",
            "      Title: Phishing Campaign Targeting Mobile Users in India Using India Post Lures\n",
            "      Content length: 17550\n",
            "   ✅ Approved (Grade: C)\n",
            "   Processing article 55/171: https://www.fortinet.com/blog/threat-research/dark-web-shows...\n",
            "\n",
            "🔍 Scraping Fortinet article: https://www.fortinet.com/blog/threat-research/dark-web-shows-cybercriminals-ready-for-olympics\n"
          ]
        },
        {
          "name": "stderr",
          "output_type": "stream",
          "text": [
            "2025-07-20 13:47:04,943 - INFO - Attempting to fetch https://www.fortinet.com/blog/threat-research/dark-web-shows-cybercriminals-ready-for-olympics (attempt 1/6)\n",
            "2025-07-20 13:47:05,428 - INFO - Successfully scraped: https://www.fortinet.com/blog/threat-research/dark-web-shows-cybercriminals-ready-for-olympics\n"
          ]
        },
        {
          "name": "stdout",
          "output_type": "stream",
          "text": [
            "   ✅ Successfully scraped article\n",
            "      Title: Dark Web Shows Cybercriminals Ready for Olympics. Are You?\n",
            "      Content length: 11943\n",
            "   ✅ Approved (Grade: C)\n",
            "   Processing article 56/171: https://www.fortinet.com/blog/threat-research/merkspy-exploi...\n",
            "\n",
            "🔍 Scraping Fortinet article: https://www.fortinet.com/blog/threat-research/merkspy-exploiting-cve-2021-40444-to-infiltrate-systems\n"
          ]
        },
        {
          "name": "stderr",
          "output_type": "stream",
          "text": [
            "2025-07-20 13:47:13,058 - INFO - Attempting to fetch https://www.fortinet.com/blog/threat-research/merkspy-exploiting-cve-2021-40444-to-infiltrate-systems (attempt 1/6)\n",
            "2025-07-20 13:47:13,893 - INFO - Successfully scraped: https://www.fortinet.com/blog/threat-research/merkspy-exploiting-cve-2021-40444-to-infiltrate-systems\n"
          ]
        },
        {
          "name": "stdout",
          "output_type": "stream",
          "text": [
            "   ✅ Successfully scraped article\n",
            "      Title: MerkSpy: Exploiting CVE-2021-40444 to Infiltrate Systems\n",
            "      Content length: 8108\n",
            "   ✅ Approved (Grade: A)\n",
            "   🔍 Extracted 10 technical indicators\n",
            "      domain: 3 found\n",
            "      hash_sha256: 6 found\n",
            "      cve: 1 found\n",
            "   Processing article 57/171: https://www.fortinet.com/blog/threat-research/growing-threat...\n",
            "\n",
            "🔍 Scraping Fortinet article: https://www.fortinet.com/blog/threat-research/growing-threat-of-malware-concealed-behind-cloud-services\n"
          ]
        },
        {
          "name": "stderr",
          "output_type": "stream",
          "text": [
            "2025-07-20 13:47:20,962 - INFO - Attempting to fetch https://www.fortinet.com/blog/threat-research/growing-threat-of-malware-concealed-behind-cloud-services (attempt 1/6)\n",
            "2025-07-20 13:47:21,812 - INFO - Successfully scraped: https://www.fortinet.com/blog/threat-research/growing-threat-of-malware-concealed-behind-cloud-services\n"
          ]
        },
        {
          "name": "stdout",
          "output_type": "stream",
          "text": [
            "   ✅ Successfully scraped article\n",
            "      Title: The Growing Threat of Malware Concealed Behind Cloud Services\n",
            "      Content length: 15073\n",
            "   ✅ Approved (Grade: A)\n",
            "   🔍 Extracted 64 technical indicators\n",
            "      ip_address: 1 found\n",
            "      domain: 4 found\n",
            "      hash_sha256: 53 found\n",
            "      cve: 6 found\n",
            "   Processing article 58/171: https://www.fortinet.com/blog/threat-research/fickle-stealer...\n",
            "\n",
            "🔍 Scraping Fortinet article: https://www.fortinet.com/blog/threat-research/fickle-stealer-distributed-via-multiple-attack-chain\n"
          ]
        },
        {
          "name": "stderr",
          "output_type": "stream",
          "text": [
            "2025-07-20 13:47:28,953 - INFO - Attempting to fetch https://www.fortinet.com/blog/threat-research/fickle-stealer-distributed-via-multiple-attack-chain (attempt 1/6)\n",
            "2025-07-20 13:47:29,294 - INFO - Successfully scraped: https://www.fortinet.com/blog/threat-research/fickle-stealer-distributed-via-multiple-attack-chain\n"
          ]
        },
        {
          "name": "stdout",
          "output_type": "stream",
          "text": [
            "   ✅ Successfully scraped article\n",
            "      Title: Fickle Stealer Distributed via Multiple Attack Chain\n",
            "      Content length: 18193\n",
            "   ✅ Approved (Grade: A)\n",
            "   🔍 Extracted 57 technical indicators\n",
            "      domain: 8 found\n",
            "      hash_sha256: 49 found\n",
            "   Processing article 59/171: https://www.fortinet.com/blog/threat-research/ransomware-rou...\n",
            "\n",
            "🔍 Scraping Fortinet article: https://www.fortinet.com/blog/threat-research/ransomware-roundup-shinra-and-limpopo-ransomware\n"
          ]
        },
        {
          "name": "stderr",
          "output_type": "stream",
          "text": [
            "2025-07-20 13:47:37,492 - INFO - Attempting to fetch https://www.fortinet.com/blog/threat-research/ransomware-roundup-shinra-and-limpopo-ransomware (attempt 1/6)\n",
            "2025-07-20 13:47:38,509 - INFO - Successfully scraped: https://www.fortinet.com/blog/threat-research/ransomware-roundup-shinra-and-limpopo-ransomware\n"
          ]
        },
        {
          "name": "stdout",
          "output_type": "stream",
          "text": [
            "   ✅ Successfully scraped article\n",
            "      Title: Ransomware Roundup – Shinra and Limpopo Ransomware\n",
            "      Content length: 13774\n",
            "   ✅ Approved (Grade: A)\n",
            "   🔍 Extracted 15 technical indicators\n",
            "      domain: 7 found\n",
            "      hash_sha256: 6 found\n",
            "      cve: 2 found\n",
            "   Processing article 60/171: https://www.fortinet.com/blog/threat-research/new-agent-tesl...\n",
            "\n",
            "🔍 Scraping Fortinet article: https://www.fortinet.com/blog/threat-research/new-agent-tesla-campaign-targeting-spanish-speaking-people\n"
          ]
        },
        {
          "name": "stderr",
          "output_type": "stream",
          "text": [
            "2025-07-20 13:47:45,954 - INFO - Attempting to fetch https://www.fortinet.com/blog/threat-research/new-agent-tesla-campaign-targeting-spanish-speaking-people (attempt 1/6)\n",
            "2025-07-20 13:47:46,800 - INFO - Successfully scraped: https://www.fortinet.com/blog/threat-research/new-agent-tesla-campaign-targeting-spanish-speaking-people\n"
          ]
        },
        {
          "name": "stdout",
          "output_type": "stream",
          "text": [
            "   ✅ Successfully scraped article\n",
            "      Title: New Agent Tesla Campaign Targeting Spanish-Speaking People\n",
            "      Content length: 14975\n",
            "   ✅ Approved (Grade: A)\n",
            "   🔍 Extracted 19 technical indicators\n",
            "      domain: 13 found\n",
            "      hash_sha256: 4 found\n",
            "      cve: 2 found\n",
            "   Processing article 61/171: https://www.fortinet.com/blog/threat-research/menace-unleash...\n",
            "\n",
            "🔍 Scraping Fortinet article: https://www.fortinet.com/blog/threat-research/menace-unleashed-excel-file-deploys-cobalt-strike-at-ukraine\n"
          ]
        },
        {
          "name": "stderr",
          "output_type": "stream",
          "text": [
            "2025-07-20 13:47:54,669 - INFO - Attempting to fetch https://www.fortinet.com/blog/threat-research/menace-unleashed-excel-file-deploys-cobalt-strike-at-ukraine (attempt 1/6)\n",
            "2025-07-20 13:47:55,508 - INFO - Successfully scraped: https://www.fortinet.com/blog/threat-research/menace-unleashed-excel-file-deploys-cobalt-strike-at-ukraine\n"
          ]
        },
        {
          "name": "stdout",
          "output_type": "stream",
          "text": [
            "   ✅ Successfully scraped article\n",
            "      Title: Menace Unleashed: Excel File Deploys Cobalt Strike at Ukraine\n",
            "      Content length: 8426\n",
            "   ✅ Approved (Grade: A)\n",
            "   🔍 Extracted 14 technical indicators\n",
            "      domain: 6 found\n",
            "      hash_sha256: 8 found\n",
            "   Processing article 62/171: https://www.fortinet.com/blog/threat-research/zeus-stealer-d...\n",
            "\n",
            "🔍 Scraping Fortinet article: https://www.fortinet.com/blog/threat-research/zeus-stealer-distributed-via-crafted-minecraft-source-pack\n"
          ]
        },
        {
          "name": "stderr",
          "output_type": "stream",
          "text": [
            "2025-07-20 13:48:02,655 - INFO - Attempting to fetch https://www.fortinet.com/blog/threat-research/zeus-stealer-distributed-via-crafted-minecraft-source-pack (attempt 1/6)\n",
            "2025-07-20 13:48:03,664 - INFO - Successfully scraped: https://www.fortinet.com/blog/threat-research/zeus-stealer-distributed-via-crafted-minecraft-source-pack\n"
          ]
        },
        {
          "name": "stdout",
          "output_type": "stream",
          "text": [
            "   ✅ Successfully scraped article\n",
            "      Title: zEus Stealer Distributed via Crafted Minecraft Source Pack\n",
            "      Content length: 14903\n",
            "   ✅ Approved (Grade: A)\n",
            "   🔍 Extracted 38 technical indicators\n",
            "      domain: 15 found\n",
            "      hash_sha256: 23 found\n",
            "   Processing article 63/171: https://www.fortinet.com/blog/threat-research/key-findings-2...\n",
            "\n",
            "🔍 Scraping Fortinet article: https://www.fortinet.com/blog/threat-research/key-findings-2h-2023-fortiguard-labs-threat-report\n"
          ]
        },
        {
          "name": "stderr",
          "output_type": "stream",
          "text": [
            "2025-07-20 13:48:10,738 - INFO - Attempting to fetch https://www.fortinet.com/blog/threat-research/key-findings-2h-2023-fortiguard-labs-threat-report (attempt 1/6)\n",
            "2025-07-20 13:48:11,574 - INFO - Successfully scraped: https://www.fortinet.com/blog/threat-research/key-findings-2h-2023-fortiguard-labs-threat-report\n"
          ]
        },
        {
          "name": "stdout",
          "output_type": "stream",
          "text": [
            "   ✅ Successfully scraped article\n",
            "      Title: Key Findings from the 2H 2023 FortiGuard Labs Threat Report\n",
            "      Content length: 7924\n",
            "   ✅ Approved (Grade: C)\n",
            "   Processing article 64/171: https://www.fortinet.com/blog/threat-research/new-goldoon-bo...\n",
            "\n",
            "🔍 Scraping Fortinet article: https://www.fortinet.com/blog/threat-research/new-goldoon-botnet-targeting-d-link-devices\n"
          ]
        },
        {
          "name": "stderr",
          "output_type": "stream",
          "text": [
            "2025-07-20 13:48:18,940 - INFO - Attempting to fetch https://www.fortinet.com/blog/threat-research/new-goldoon-botnet-targeting-d-link-devices (attempt 1/6)\n",
            "2025-07-20 13:48:19,295 - INFO - Successfully scraped: https://www.fortinet.com/blog/threat-research/new-goldoon-botnet-targeting-d-link-devices\n"
          ]
        },
        {
          "name": "stdout",
          "output_type": "stream",
          "text": [
            "   ✅ Successfully scraped article\n",
            "      Title: New “Goldoon” Botnet Targeting D-Link Devices\n",
            "      Content length: 9080\n",
            "   ✅ Approved (Grade: A)\n",
            "   🔍 Extracted 6 technical indicators\n",
            "      ip_address: 2 found\n",
            "      domain: 3 found\n",
            "      cve: 1 found\n",
            "   Processing article 65/171: https://www.fortinet.com/blog/threat-research/ransomware-rou...\n",
            "\n",
            "🔍 Scraping Fortinet article: https://www.fortinet.com/blog/threat-research/ransomware-roundup-keganohitobito-and-donex\n"
          ]
        },
        {
          "name": "stderr",
          "output_type": "stream",
          "text": [
            "2025-07-20 13:48:26,673 - INFO - Attempting to fetch https://www.fortinet.com/blog/threat-research/ransomware-roundup-keganohitobito-and-donex (attempt 1/6)\n",
            "2025-07-20 13:48:27,512 - INFO - Successfully scraped: https://www.fortinet.com/blog/threat-research/ransomware-roundup-keganohitobito-and-donex\n"
          ]
        },
        {
          "name": "stdout",
          "output_type": "stream",
          "text": [
            "   ✅ Successfully scraped article\n",
            "      Title: Ransomware Roundup - KageNoHitobito and DoNex\n",
            "      Content length: 11301\n",
            "   ✅ Approved (Grade: A)\n",
            "   🔍 Extracted 19 technical indicators\n",
            "      domain: 9 found\n",
            "      hash_sha256: 10 found\n",
            "   Processing article 66/171: https://www.fortinet.com/blog/threat-research/unraveling-cyb...\n",
            "\n",
            "🔍 Scraping Fortinet article: https://www.fortinet.com/blog/threat-research/unraveling-cyber-threats-insights-from-code-analysis\n"
          ]
        },
        {
          "name": "stderr",
          "output_type": "stream",
          "text": [
            "2025-07-20 13:48:34,900 - INFO - Attempting to fetch https://www.fortinet.com/blog/threat-research/unraveling-cyber-threats-insights-from-code-analysis (attempt 1/6)\n",
            "2025-07-20 13:48:35,905 - INFO - Successfully scraped: https://www.fortinet.com/blog/threat-research/unraveling-cyber-threats-insights-from-code-analysis\n"
          ]
        },
        {
          "name": "stdout",
          "output_type": "stream",
          "text": [
            "   ✅ Successfully scraped article\n",
            "      Title: Unraveling Cyber Threats: Insights from Code Analysis\n",
            "      Content length: 9294\n",
            "   ✅ Approved (Grade: A)\n",
            "   🔍 Extracted 15 technical indicators\n",
            "      domain: 2 found\n",
            "      hash_sha256: 13 found\n",
            "   Processing article 67/171: https://www.fortinet.com/blog/threat-research/botnets-contin...\n",
            "\n",
            "🔍 Scraping Fortinet article: https://www.fortinet.com/blog/threat-research/botnets-continue-exploiting-cve-2023-1389-for-wide-scale-spread\n"
          ]
        },
        {
          "name": "stderr",
          "output_type": "stream",
          "text": [
            "2025-07-20 13:48:42,901 - INFO - Attempting to fetch https://www.fortinet.com/blog/threat-research/botnets-continue-exploiting-cve-2023-1389-for-wide-scale-spread (attempt 1/6)\n",
            "2025-07-20 13:48:43,246 - INFO - Successfully scraped: https://www.fortinet.com/blog/threat-research/botnets-continue-exploiting-cve-2023-1389-for-wide-scale-spread\n"
          ]
        },
        {
          "name": "stdout",
          "output_type": "stream",
          "text": [
            "   ✅ Successfully scraped article\n",
            "      Title: Botnets Continue Exploiting CVE-2023-1389 for Wide-Scale Spread\n",
            "      Content length: 13147\n",
            "   ✅ Approved (Grade: A)\n",
            "   🔍 Extracted 6 technical indicators\n",
            "      domain: 5 found\n",
            "      cve: 1 found\n",
            "   Processing article 68/171: https://www.fortinet.com/blog/threat-research/scrubcrypt-dep...\n",
            "\n",
            "🔍 Scraping Fortinet article: https://www.fortinet.com/blog/threat-research/scrubcrypt-deploys-venomrat-with-arsenal-of-plugins\n"
          ]
        },
        {
          "name": "stderr",
          "output_type": "stream",
          "text": [
            "2025-07-20 13:48:50,160 - INFO - Attempting to fetch https://www.fortinet.com/blog/threat-research/scrubcrypt-deploys-venomrat-with-arsenal-of-plugins (attempt 1/6)\n",
            "2025-07-20 13:48:51,024 - INFO - Successfully scraped: https://www.fortinet.com/blog/threat-research/scrubcrypt-deploys-venomrat-with-arsenal-of-plugins\n"
          ]
        },
        {
          "name": "stdout",
          "output_type": "stream",
          "text": [
            "   ✅ Successfully scraped article\n",
            "      Title: ScrubCrypt Deploys VenomRAT with an Arsenal of Plugins\n",
            "      Content length: 16808\n",
            "   ✅ Approved (Grade: A)\n",
            "   🔍 Extracted 15 technical indicators\n",
            "      domain: 15 found\n",
            "   Processing article 69/171: https://www.fortinet.com/blog/threat-research/byakugan-malwa...\n",
            "\n",
            "🔍 Scraping Fortinet article: https://www.fortinet.com/blog/threat-research/byakugan-malware-behind-a-phishing-attack\n"
          ]
        },
        {
          "name": "stderr",
          "output_type": "stream",
          "text": [
            "2025-07-20 13:48:59,080 - INFO - Attempting to fetch https://www.fortinet.com/blog/threat-research/byakugan-malware-behind-a-phishing-attack (attempt 1/6)\n",
            "2025-07-20 13:49:00,033 - INFO - Successfully scraped: https://www.fortinet.com/blog/threat-research/byakugan-malware-behind-a-phishing-attack\n"
          ]
        },
        {
          "name": "stdout",
          "output_type": "stream",
          "text": [
            "   ✅ Successfully scraped article\n",
            "      Title: Byakugan – The Malware Behind a Phishing Attack\n",
            "      Content length: 4785\n",
            "   ✅ Approved (Grade: A)\n",
            "   🔍 Extracted 6 technical indicators\n",
            "      domain: 5 found\n",
            "      hash_sha256: 1 found\n"
          ]
        },
        {
          "name": "stderr",
          "output_type": "stream",
          "text": [
            "2025-07-20 13:49:06,163 - INFO - Attempting to fetch https://www.fortinet.com/blog/threat-research/ransomware-roundup-ra-world (attempt 1/6)\n"
          ]
        },
        {
          "name": "stdout",
          "output_type": "stream",
          "text": [
            "   Processing article 70/171: https://www.fortinet.com/blog/threat-research/ransomware-rou...\n",
            "\n",
            "🔍 Scraping Fortinet article: https://www.fortinet.com/blog/threat-research/ransomware-roundup-ra-world\n"
          ]
        },
        {
          "name": "stderr",
          "output_type": "stream",
          "text": [
            "2025-07-20 13:49:06,838 - INFO - Successfully scraped: https://www.fortinet.com/blog/threat-research/ransomware-roundup-ra-world\n"
          ]
        },
        {
          "name": "stdout",
          "output_type": "stream",
          "text": [
            "   ✅ Successfully scraped article\n",
            "      Title: Ransomware Roundup – RA World\n",
            "      Content length: 10179\n",
            "   ✅ Approved (Grade: A)\n",
            "   🔍 Extracted 33 technical indicators\n",
            "      domain: 29 found\n",
            "      hash_sha256: 4 found\n",
            "   Processing article 71/171: https://www.fortinet.com/blog/threat-research/vcurms-a-simpl...\n",
            "\n",
            "🔍 Scraping Fortinet article: https://www.fortinet.com/blog/threat-research/vcurms-a-simple-and-functional-weapon\n"
          ]
        },
        {
          "name": "stderr",
          "output_type": "stream",
          "text": [
            "2025-07-20 13:49:14,312 - INFO - Attempting to fetch https://www.fortinet.com/blog/threat-research/vcurms-a-simple-and-functional-weapon (attempt 1/6)\n",
            "2025-07-20 13:49:14,664 - INFO - Successfully scraped: https://www.fortinet.com/blog/threat-research/vcurms-a-simple-and-functional-weapon\n"
          ]
        },
        {
          "name": "stdout",
          "output_type": "stream",
          "text": [
            "   ✅ Successfully scraped article\n",
            "      Title: VCURMS: A Simple and Functional Weapon\n",
            "      Content length: 9082\n",
            "   ✅ Approved (Grade: A)\n",
            "   🔍 Extracted 6 technical indicators\n",
            "      domain: 6 found\n",
            "   Processing article 72/171: https://www.fortinet.com/blog/threat-research/banking-trojan...\n",
            "\n",
            "🔍 Scraping Fortinet article: https://www.fortinet.com/blog/threat-research/banking-trojan-chavecloak-targets-brazil\n"
          ]
        },
        {
          "name": "stderr",
          "output_type": "stream",
          "text": [
            "2025-07-20 13:49:22,309 - INFO - Attempting to fetch https://www.fortinet.com/blog/threat-research/banking-trojan-chavecloak-targets-brazil (attempt 1/6)\n",
            "2025-07-20 13:49:23,156 - INFO - Successfully scraped: https://www.fortinet.com/blog/threat-research/banking-trojan-chavecloak-targets-brazil\n"
          ]
        },
        {
          "name": "stdout",
          "output_type": "stream",
          "text": [
            "   ✅ Successfully scraped article\n",
            "      Title: New Banking Trojan “CHAVECLOAK” Targets Brazil\n",
            "      Content length: 9139\n",
            "   ✅ Approved (Grade: A)\n",
            "   🔍 Extracted 10 technical indicators\n",
            "      ip_address: 1 found\n",
            "      domain: 9 found\n"
          ]
        },
        {
          "name": "stderr",
          "output_type": "stream",
          "text": [
            "2025-07-20 13:49:29,407 - INFO - Attempting to fetch https://www.fortinet.com/blog/threat-research/fortiguard-labs-outbreak-alerts-report-2023 (attempt 1/6)\n"
          ]
        },
        {
          "name": "stdout",
          "output_type": "stream",
          "text": [
            "   Processing article 73/171: https://www.fortinet.com/blog/threat-research/fortiguard-lab...\n",
            "\n",
            "🔍 Scraping Fortinet article: https://www.fortinet.com/blog/threat-research/fortiguard-labs-outbreak-alerts-report-2023\n"
          ]
        },
        {
          "name": "stderr",
          "output_type": "stream",
          "text": [
            "2025-07-20 13:49:30,363 - INFO - Successfully scraped: https://www.fortinet.com/blog/threat-research/fortiguard-labs-outbreak-alerts-report-2023\n"
          ]
        },
        {
          "name": "stdout",
          "output_type": "stream",
          "text": [
            "   ✅ Successfully scraped article\n",
            "      Title: FortiGuard Labs Outbreak Alerts Annual Report 2023: A Glimpse into the Evolving Threat Landscape\n",
            "      Content length: 1266\n",
            "   ✅ Approved (Grade: C)\n",
            "   Processing article 74/171: https://www.fortinet.com/blog/threat-research/ransomware-rou...\n",
            "\n",
            "🔍 Scraping Fortinet article: https://www.fortinet.com/blog/threat-research/ransomware-roundup-abyss-locker\n"
          ]
        },
        {
          "name": "stderr",
          "output_type": "stream",
          "text": [
            "2025-07-20 13:49:36,690 - INFO - Attempting to fetch https://www.fortinet.com/blog/threat-research/ransomware-roundup-abyss-locker (attempt 1/6)\n",
            "2025-07-20 13:49:37,653 - INFO - Successfully scraped: https://www.fortinet.com/blog/threat-research/ransomware-roundup-abyss-locker\n"
          ]
        },
        {
          "name": "stdout",
          "output_type": "stream",
          "text": [
            "   ✅ Successfully scraped article\n",
            "      Title: Ransomware Roundup – Abyss Locker\n",
            "      Content length: 16374\n",
            "   ✅ Approved (Grade: A)\n",
            "   🔍 Extracted 139 technical indicators\n",
            "      domain: 124 found\n",
            "      hash_sha256: 15 found\n",
            "   Processing article 75/171: https://www.fortinet.com/blog/threat-research/android-spynot...\n",
            "\n",
            "🔍 Scraping Fortinet article: https://www.fortinet.com/blog/threat-research/android-spynote-moves-to-crypto-currencies\n"
          ]
        },
        {
          "name": "stderr",
          "output_type": "stream",
          "text": [
            "2025-07-20 13:49:44,778 - INFO - Attempting to fetch https://www.fortinet.com/blog/threat-research/android-spynote-moves-to-crypto-currencies (attempt 1/6)\n",
            "2025-07-20 13:50:13,288 - INFO - Successfully scraped: https://www.fortinet.com/blog/threat-research/android-spynote-moves-to-crypto-currencies\n"
          ]
        },
        {
          "name": "stdout",
          "output_type": "stream",
          "text": [
            "   ✅ Successfully scraped article\n",
            "      Title: Android/SpyNote Moves to Crypto Currencies\n",
            "      Content length: 5241\n",
            "   ✅ Approved (Grade: A)\n",
            "   🔍 Extracted 4 technical indicators\n",
            "      domain: 3 found\n",
            "      hash_sha256: 1 found\n"
          ]
        },
        {
          "name": "stderr",
          "output_type": "stream",
          "text": [
            "2025-07-20 13:50:19,456 - INFO - Attempting to fetch https://www.fortinet.com/blog/threat-research/tictactoe-dropper (attempt 1/6)\n"
          ]
        },
        {
          "name": "stdout",
          "output_type": "stream",
          "text": [
            "   Processing article 76/171: https://www.fortinet.com/blog/threat-research/tictactoe-drop...\n",
            "\n",
            "🔍 Scraping Fortinet article: https://www.fortinet.com/blog/threat-research/tictactoe-dropper\n"
          ]
        },
        {
          "name": "stderr",
          "output_type": "stream",
          "text": [
            "2025-07-20 13:50:20,333 - INFO - Successfully scraped: https://www.fortinet.com/blog/threat-research/tictactoe-dropper\n"
          ]
        },
        {
          "name": "stdout",
          "output_type": "stream",
          "text": [
            "   ✅ Successfully scraped article\n",
            "      Title: TicTacToe Dropper\n",
            "      Content length: 15229\n",
            "   ✅ Approved (Grade: A)\n",
            "   🔍 Extracted 22 technical indicators\n",
            "      domain: 10 found\n",
            "      hash_sha1: 5 found\n",
            "      hash_sha256: 6 found\n",
            "      url: 1 found\n",
            "   Processing article 77/171: https://www.fortinet.com/blog/threat-research/python-info-st...\n",
            "\n",
            "🔍 Scraping Fortinet article: https://www.fortinet.com/blog/threat-research/python-info-stealer-malicious-excel-document\n"
          ]
        },
        {
          "name": "stderr",
          "output_type": "stream",
          "text": [
            "2025-07-20 13:50:27,781 - INFO - Attempting to fetch https://www.fortinet.com/blog/threat-research/python-info-stealer-malicious-excel-document (attempt 1/6)\n",
            "2025-07-20 13:50:28,639 - INFO - Successfully scraped: https://www.fortinet.com/blog/threat-research/python-info-stealer-malicious-excel-document\n"
          ]
        },
        {
          "name": "stdout",
          "output_type": "stream",
          "text": [
            "   ✅ Successfully scraped article\n",
            "      Title: Python Info-stealer Distributed by Malicious Excel Document\n",
            "      Content length: 7137\n",
            "   ✅ Approved (Grade: A)\n",
            "   🔍 Extracted 8 technical indicators\n",
            "      domain: 8 found\n",
            "   Processing article 78/171: https://www.fortinet.com/blog/threat-research/ransomware-rou...\n",
            "\n",
            "🔍 Scraping Fortinet article: https://www.fortinet.com/blog/threat-research/ransomware-roundup-albabat\n"
          ]
        },
        {
          "name": "stderr",
          "output_type": "stream",
          "text": [
            "2025-07-20 13:50:35,409 - INFO - Attempting to fetch https://www.fortinet.com/blog/threat-research/ransomware-roundup-albabat (attempt 1/6)\n",
            "2025-07-20 13:50:36,250 - INFO - Successfully scraped: https://www.fortinet.com/blog/threat-research/ransomware-roundup-albabat\n"
          ]
        },
        {
          "name": "stdout",
          "output_type": "stream",
          "text": [
            "   ✅ Successfully scraped article\n",
            "      Title: Ransomware Roundup - Albabat\n",
            "      Content length: 10048\n",
            "   ✅ Approved (Grade: A)\n",
            "   🔍 Extracted 18 technical indicators\n",
            "      domain: 13 found\n",
            "      hash_sha256: 5 found\n",
            "   Processing article 79/171: https://www.fortinet.com/blog/threat-research/phobos-ransomw...\n",
            "\n",
            "🔍 Scraping Fortinet article: https://www.fortinet.com/blog/threat-research/phobos-ransomware-variant-launches-attack-faust\n"
          ]
        },
        {
          "name": "stderr",
          "output_type": "stream",
          "text": [
            "2025-07-20 13:50:44,339 - INFO - Attempting to fetch https://www.fortinet.com/blog/threat-research/phobos-ransomware-variant-launches-attack-faust (attempt 1/6)\n",
            "2025-07-20 13:50:45,192 - INFO - Successfully scraped: https://www.fortinet.com/blog/threat-research/phobos-ransomware-variant-launches-attack-faust\n"
          ]
        },
        {
          "name": "stdout",
          "output_type": "stream",
          "text": [
            "   ✅ Successfully scraped article\n",
            "      Title: Another Phobos Ransomware Variant Launches Attack – FAUST\n",
            "      Content length: 8323\n",
            "   ✅ Approved (Grade: A)\n",
            "   🔍 Extracted 5 technical indicators\n",
            "      domain: 4 found\n",
            "      email: 1 found\n",
            "   Processing article 80/171: https://www.fortinet.com/blog/threat-research/info-stealing-...\n",
            "\n",
            "🔍 Scraping Fortinet article: https://www.fortinet.com/blog/threat-research/info-stealing-packages-hidden-in-pypi\n"
          ]
        },
        {
          "name": "stderr",
          "output_type": "stream",
          "text": [
            "2025-07-20 13:50:52,791 - INFO - Attempting to fetch https://www.fortinet.com/blog/threat-research/info-stealing-packages-hidden-in-pypi (attempt 1/6)\n",
            "2025-07-20 13:50:52,964 - INFO - Successfully scraped: https://www.fortinet.com/blog/threat-research/info-stealing-packages-hidden-in-pypi\n"
          ]
        },
        {
          "name": "stdout",
          "output_type": "stream",
          "text": [
            "   ✅ Successfully scraped article\n",
            "      Title: Info Stealing Packages Hidden in PyPI\n",
            "      Content length: 13503\n",
            "   ✅ Approved (Grade: A)\n",
            "   🔍 Extracted 33 technical indicators\n",
            "      domain: 7 found\n",
            "      hash_sha256: 26 found\n",
            "   Processing article 81/171: https://www.fortinet.com/blog/threat-research/lumma-variant-...\n",
            "\n",
            "🔍 Scraping Fortinet article: https://www.fortinet.com/blog/threat-research/lumma-variant-on-youtube\n"
          ]
        },
        {
          "name": "stderr",
          "output_type": "stream",
          "text": [
            "2025-07-20 13:51:01,613 - INFO - Attempting to fetch https://www.fortinet.com/blog/threat-research/lumma-variant-on-youtube (attempt 1/6)\n",
            "2025-07-20 13:51:01,769 - INFO - Successfully scraped: https://www.fortinet.com/blog/threat-research/lumma-variant-on-youtube\n"
          ]
        },
        {
          "name": "stdout",
          "output_type": "stream",
          "text": [
            "   ✅ Successfully scraped article\n",
            "      Title: Deceptive Cracked Software Spreads Lumma Variant on YouTube\n",
            "      Content length: 8331\n",
            "   ✅ Approved (Grade: A)\n",
            "   🔍 Extracted 2 technical indicators\n",
            "      ip_address: 1 found\n",
            "      domain: 1 found\n",
            "   Processing article 82/171: https://www.fortinet.com/blog/threat-research/malicious-pypi...\n",
            "\n",
            "🔍 Scraping Fortinet article: https://www.fortinet.com/blog/threat-research/malicious-pypi-packages-deploy-coinminer-on-linux-devices\n"
          ]
        },
        {
          "name": "stderr",
          "output_type": "stream",
          "text": [
            "2025-07-20 13:51:09,751 - INFO - Attempting to fetch https://www.fortinet.com/blog/threat-research/malicious-pypi-packages-deploy-coinminer-on-linux-devices (attempt 1/6)\n",
            "2025-07-20 13:51:10,595 - INFO - Successfully scraped: https://www.fortinet.com/blog/threat-research/malicious-pypi-packages-deploy-coinminer-on-linux-devices\n"
          ]
        },
        {
          "name": "stdout",
          "output_type": "stream",
          "text": [
            "   ✅ Successfully scraped article\n",
            "      Title: Three New Malicious PyPI Packages Deploy CoinMiner on Linux Devices\n",
            "      Content length: 7072\n",
            "   ✅ Approved (Grade: A)\n",
            "   🔍 Extracted 9 technical indicators\n",
            "      domain: 4 found\n",
            "      hash_sha256: 5 found\n",
            "   Processing article 83/171: https://www.fortinet.com/blog/threat-research/ransomware-rou...\n",
            "\n",
            "🔍 Scraping Fortinet article: https://www.fortinet.com/blog/threat-research/ransomware-roundup-8base\n"
          ]
        },
        {
          "name": "stderr",
          "output_type": "stream",
          "text": [
            "2025-07-20 13:51:18,242 - INFO - Attempting to fetch https://www.fortinet.com/blog/threat-research/ransomware-roundup-8base (attempt 1/6)\n",
            "2025-07-20 13:51:18,763 - INFO - Successfully scraped: https://www.fortinet.com/blog/threat-research/ransomware-roundup-8base\n"
          ]
        },
        {
          "name": "stdout",
          "output_type": "stream",
          "text": [
            "   ✅ Successfully scraped article\n",
            "      Title: Ransomware Roundup - 8base\n",
            "      Content length: 15584\n",
            "   ✅ Approved (Grade: A)\n",
            "   🔍 Extracted 127 technical indicators\n",
            "      domain: 32 found\n",
            "      hash_sha256: 94 found\n",
            "      email: 1 found\n",
            "   Processing article 84/171: https://www.fortinet.com/blog/threat-research/bandook-persis...\n",
            "\n",
            "🔍 Scraping Fortinet article: https://www.fortinet.com/blog/threat-research/bandook-persistent-threat-that-keeps-evolving\n"
          ]
        },
        {
          "name": "stderr",
          "output_type": "stream",
          "text": [
            "2025-07-20 13:51:26,518 - INFO - Attempting to fetch https://www.fortinet.com/blog/threat-research/bandook-persistent-threat-that-keeps-evolving (attempt 1/6)\n",
            "2025-07-20 13:51:26,681 - INFO - Successfully scraped: https://www.fortinet.com/blog/threat-research/bandook-persistent-threat-that-keeps-evolving\n"
          ]
        },
        {
          "name": "stdout",
          "output_type": "stream",
          "text": [
            "   ✅ Successfully scraped article\n",
            "      Title: Bandook - A Persistent Threat That Keeps Evolving\n",
            "      Content length: 10987\n",
            "   ✅ Approved (Grade: A)\n",
            "   🔍 Extracted 9 technical indicators\n",
            "      domain: 8 found\n",
            "      hash_sha256: 1 found\n",
            "   Processing article 85/171: https://www.fortinet.com/blog/threat-research/teamcity-intru...\n",
            "\n",
            "🔍 Scraping Fortinet article: https://www.fortinet.com/blog/threat-research/teamcity-intrusion-saga-apt29-suspected-exploiting-cve-2023-42793\n"
          ]
        },
        {
          "name": "stderr",
          "output_type": "stream",
          "text": [
            "2025-07-20 13:51:35,127 - INFO - Attempting to fetch https://www.fortinet.com/blog/threat-research/teamcity-intrusion-saga-apt29-suspected-exploiting-cve-2023-42793 (attempt 1/6)\n",
            "2025-07-20 13:51:35,319 - INFO - Successfully scraped: https://www.fortinet.com/blog/threat-research/teamcity-intrusion-saga-apt29-suspected-exploiting-cve-2023-42793\n"
          ]
        },
        {
          "name": "stdout",
          "output_type": "stream",
          "text": [
            "   ✅ Successfully scraped article\n",
            "      Title: TeamCity Intrusion Saga: APT29 Suspected Among the Attackers Exploiting CVE-2023-42793\n",
            "      Content length: 53392\n",
            "   ❌ Rejected (Grade: D)\n",
            "   Processing article 86/171: https://www.fortinet.com/blog/threat-research/mranon-stealer...\n",
            "\n",
            "🔍 Scraping Fortinet article: https://www.fortinet.com/blog/threat-research/mranon-stealer-spreads-via-email-with-fake-hotel-booking-pdf\n"
          ]
        },
        {
          "name": "stderr",
          "output_type": "stream",
          "text": [
            "2025-07-20 13:51:42,940 - INFO - Attempting to fetch https://www.fortinet.com/blog/threat-research/mranon-stealer-spreads-via-email-with-fake-hotel-booking-pdf (attempt 1/6)\n",
            "2025-07-20 13:51:43,118 - INFO - Successfully scraped: https://www.fortinet.com/blog/threat-research/mranon-stealer-spreads-via-email-with-fake-hotel-booking-pdf\n"
          ]
        },
        {
          "name": "stdout",
          "output_type": "stream",
          "text": [
            "   ✅ Successfully scraped article\n",
            "      Title: MrAnon Stealer Spreads via Email with Fake Hotel Booking PDF\n",
            "      Content length: 9047\n",
            "   ✅ Approved (Grade: A)\n",
            "   🔍 Extracted 36 technical indicators\n",
            "      domain: 36 found\n",
            "   Processing article 87/171: https://www.fortinet.com/blog/threat-research/gotitan-botnet...\n",
            "\n",
            "🔍 Scraping Fortinet article: https://www.fortinet.com/blog/threat-research/gotitan-botnet-exploitation-on-apache-activemq\n"
          ]
        },
        {
          "name": "stderr",
          "output_type": "stream",
          "text": [
            "2025-07-20 13:51:50,235 - INFO - Attempting to fetch https://www.fortinet.com/blog/threat-research/gotitan-botnet-exploitation-on-apache-activemq (attempt 1/6)\n",
            "2025-07-20 13:51:50,394 - INFO - Successfully scraped: https://www.fortinet.com/blog/threat-research/gotitan-botnet-exploitation-on-apache-activemq\n"
          ]
        },
        {
          "name": "stdout",
          "output_type": "stream",
          "text": [
            "   ✅ Successfully scraped article\n",
            "      Title: GoTitan Botnet - Ongoing Exploitation on Apache ActiveMQ\n",
            "      Content length: 10587\n",
            "   ✅ Approved (Grade: A)\n",
            "   🔍 Extracted 9 technical indicators\n",
            "      ip_address: 1 found\n",
            "      domain: 7 found\n",
            "      cve: 1 found\n",
            "   Processing article 88/171: https://www.fortinet.com/blog/threat-research/konni-campaign...\n",
            "\n",
            "🔍 Scraping Fortinet article: https://www.fortinet.com/blog/threat-research/konni-campaign-distributed-via-malicious-document\n"
          ]
        },
        {
          "name": "stderr",
          "output_type": "stream",
          "text": [
            "2025-07-20 13:51:58,801 - INFO - Attempting to fetch https://www.fortinet.com/blog/threat-research/konni-campaign-distributed-via-malicious-document (attempt 1/6)\n",
            "2025-07-20 13:51:58,977 - INFO - Successfully scraped: https://www.fortinet.com/blog/threat-research/konni-campaign-distributed-via-malicious-document\n"
          ]
        },
        {
          "name": "stdout",
          "output_type": "stream",
          "text": [
            "   ✅ Successfully scraped article\n",
            "      Title: Konni Campaign Distributed Via Malicious Document\n",
            "      Content length: 9528\n",
            "   ✅ Approved (Grade: A)\n",
            "   🔍 Extracted 7 technical indicators\n",
            "      domain: 7 found\n",
            "   Processing article 89/171: https://www.fortinet.com/blog/threat-research/investigating-...\n",
            "\n",
            "🔍 Scraping Fortinet article: https://www.fortinet.com/blog/threat-research/investigating-the-new-rhysida-ransomware\n"
          ]
        },
        {
          "name": "stderr",
          "output_type": "stream",
          "text": [
            "2025-07-20 13:52:06,479 - INFO - Attempting to fetch https://www.fortinet.com/blog/threat-research/investigating-the-new-rhysida-ransomware (attempt 1/6)\n",
            "2025-07-20 13:52:07,442 - INFO - Successfully scraped: https://www.fortinet.com/blog/threat-research/investigating-the-new-rhysida-ransomware\n"
          ]
        },
        {
          "name": "stdout",
          "output_type": "stream",
          "text": [
            "   ✅ Successfully scraped article\n",
            "      Title: Investigating the New Rhysida Ransomware\n",
            "      Content length: 2745\n",
            "   ✅ Approved (Grade: C)\n",
            "   Processing article 90/171: https://www.fortinet.com/blog/threat-research/ransomware-rou...\n",
            "\n",
            "🔍 Scraping Fortinet article: https://www.fortinet.com/blog/threat-research/ransomware-roundup-noescape\n"
          ]
        },
        {
          "name": "stderr",
          "output_type": "stream",
          "text": [
            "2025-07-20 13:52:14,233 - INFO - Attempting to fetch https://www.fortinet.com/blog/threat-research/ransomware-roundup-noescape (attempt 1/6)\n",
            "2025-07-20 13:52:15,070 - INFO - Successfully scraped: https://www.fortinet.com/blog/threat-research/ransomware-roundup-noescape\n"
          ]
        },
        {
          "name": "stdout",
          "output_type": "stream",
          "text": [
            "   ✅ Successfully scraped article\n",
            "      Title: Ransomware Roundup – NoEscape\n",
            "      Content length: 8746\n",
            "   ✅ Approved (Grade: A)\n",
            "   🔍 Extracted 18 technical indicators\n",
            "      hash_sha256: 18 found\n",
            "   Processing article 91/171: https://www.fortinet.com/blog/threat-research/2024-threat-pr...\n",
            "\n",
            "🔍 Scraping Fortinet article: https://www.fortinet.com/blog/threat-research/2024-threat-predictions-chained-ai-and-caas-operations\n"
          ]
        },
        {
          "name": "stderr",
          "output_type": "stream",
          "text": [
            "2025-07-20 13:52:21,717 - INFO - Attempting to fetch https://www.fortinet.com/blog/threat-research/2024-threat-predictions-chained-ai-and-caas-operations (attempt 1/6)\n",
            "2025-07-20 13:52:22,274 - INFO - Successfully scraped: https://www.fortinet.com/blog/threat-research/2024-threat-predictions-chained-ai-and-caas-operations\n"
          ]
        },
        {
          "name": "stdout",
          "output_type": "stream",
          "text": [
            "   ✅ Successfully scraped article\n",
            "      Title: Threat Predictions for 2024: Chained AI and CaaS Operations Give Attackers More “Easy” Buttons Than \n",
            "      Content length: 7811\n",
            "   ✅ Approved (Grade: C)\n",
            "   Processing article 92/171: https://www.fortinet.com/blog/threat-research/ransomware-rou...\n",
            "\n",
            "🔍 Scraping Fortinet article: https://www.fortinet.com/blog/threat-research/ransomware-roundup-knight\n"
          ]
        },
        {
          "name": "stderr",
          "output_type": "stream",
          "text": [
            "2025-07-20 13:52:30,282 - INFO - Attempting to fetch https://www.fortinet.com/blog/threat-research/ransomware-roundup-knight (attempt 1/6)\n",
            "2025-07-20 13:52:31,296 - INFO - Successfully scraped: https://www.fortinet.com/blog/threat-research/ransomware-roundup-knight\n"
          ]
        },
        {
          "name": "stdout",
          "output_type": "stream",
          "text": [
            "   ✅ Successfully scraped article\n",
            "      Title: Ransomware Roundup - Knight\n",
            "      Content length: 11086\n",
            "   ✅ Approved (Grade: A)\n",
            "   🔍 Extracted 50 technical indicators\n",
            "      ip_address: 1 found\n",
            "      domain: 1 found\n",
            "      hash_sha256: 48 found\n",
            "   Processing article 93/171: https://www.fortinet.com/blog/threat-research/exelastealer-i...\n",
            "\n",
            "🔍 Scraping Fortinet article: https://www.fortinet.com/blog/threat-research/exelastealer-infostealer-enters-the-field\n"
          ]
        },
        {
          "name": "stderr",
          "output_type": "stream",
          "text": [
            "2025-07-20 13:52:38,767 - INFO - Attempting to fetch https://www.fortinet.com/blog/threat-research/exelastealer-infostealer-enters-the-field (attempt 1/6)\n",
            "2025-07-20 13:52:39,797 - INFO - Successfully scraped: https://www.fortinet.com/blog/threat-research/exelastealer-infostealer-enters-the-field\n"
          ]
        },
        {
          "name": "stdout",
          "output_type": "stream",
          "text": [
            "   ✅ Successfully scraped article\n",
            "      Title: Another InfoStealer Enters the Field, ExelaStealer\n",
            "      Content length: 7998\n",
            "   ✅ Approved (Grade: A)\n",
            "   🔍 Extracted 17 technical indicators\n",
            "      domain: 9 found\n",
            "      hash_sha256: 5 found\n",
            "      url: 3 found\n",
            "   Processing article 94/171: https://www.fortinet.com/blog/threat-research/ransomware-rou...\n",
            "\n",
            "🔍 Scraping Fortinet article: https://www.fortinet.com/blog/threat-research/ransomware-roundup-akira\n"
          ]
        },
        {
          "name": "stderr",
          "output_type": "stream",
          "text": [
            "2025-07-20 13:52:46,196 - INFO - Attempting to fetch https://www.fortinet.com/blog/threat-research/ransomware-roundup-akira (attempt 1/6)\n",
            "2025-07-20 13:52:46,390 - INFO - Successfully scraped: https://www.fortinet.com/blog/threat-research/ransomware-roundup-akira\n"
          ]
        },
        {
          "name": "stdout",
          "output_type": "stream",
          "text": [
            "   ✅ Successfully scraped article\n",
            "      Title: Ransomware Roundup - Akira\n",
            "      Content length: 18152\n",
            "   ✅ Approved (Grade: A)\n",
            "   🔍 Extracted 46 technical indicators\n",
            "      domain: 5 found\n",
            "      hash_sha256: 39 found\n",
            "      url: 2 found\n",
            "   Processing article 95/171: https://www.fortinet.com/blog/threat-research/Iz1h9-campaign...\n",
            "\n",
            "🔍 Scraping Fortinet article: https://www.fortinet.com/blog/threat-research/Iz1h9-campaign-enhances-arsenal-with-scores-of-exploits\n"
          ]
        },
        {
          "name": "stderr",
          "output_type": "stream",
          "text": [
            "2025-07-20 13:52:54,303 - INFO - Attempting to fetch https://www.fortinet.com/blog/threat-research/Iz1h9-campaign-enhances-arsenal-with-scores-of-exploits (attempt 1/6)\n",
            "2025-07-20 13:52:55,153 - INFO - Successfully scraped: https://www.fortinet.com/blog/threat-research/Iz1h9-campaign-enhances-arsenal-with-scores-of-exploits\n"
          ]
        },
        {
          "name": "stdout",
          "output_type": "stream",
          "text": [
            "   ✅ Successfully scraped article\n",
            "      Title: IZ1H9 Campaign Enhances Its Arsenal with Scores of Exploits\n",
            "      Content length: 7864\n",
            "   ✅ Approved (Grade: A)\n",
            "   🔍 Extracted 17 technical indicators\n",
            "      ip_address: 2 found\n",
            "      domain: 4 found\n",
            "      cve: 11 found\n",
            "   Processing article 96/171: https://www.fortinet.com/blog/threat-research/malicious-pack...\n",
            "\n",
            "🔍 Scraping Fortinet article: https://www.fortinet.com/blog/threat-research/malicious-packages-hiddin-in-npm\n"
          ]
        },
        {
          "name": "stderr",
          "output_type": "stream",
          "text": [
            "2025-07-20 13:53:03,006 - INFO - Attempting to fetch https://www.fortinet.com/blog/threat-research/malicious-packages-hiddin-in-npm (attempt 1/6)\n",
            "2025-07-20 13:53:03,875 - INFO - Successfully scraped: https://www.fortinet.com/blog/threat-research/malicious-packages-hiddin-in-npm\n"
          ]
        },
        {
          "name": "stdout",
          "output_type": "stream",
          "text": [
            "   ✅ Successfully scraped article\n",
            "      Title: Malicious Packages Hidden in NPM\n",
            "      Content length: 11826\n",
            "   ✅ Approved (Grade: A)\n",
            "   🔍 Extracted 40 technical indicators\n",
            "      domain: 7 found\n",
            "      hash_md5: 33 found\n",
            "   Processing article 97/171: https://www.fortinet.com/blog/threat-research/threat-Actors-...\n",
            "\n",
            "🔍 Scraping Fortinet article: https://www.fortinet.com/blog/threat-research/threat-Actors-exploit-the-tensions-between-azerbaijan-and-armenia\n"
          ]
        },
        {
          "name": "stderr",
          "output_type": "stream",
          "text": [
            "2025-07-20 13:53:11,228 - INFO - Attempting to fetch https://www.fortinet.com/blog/threat-research/threat-Actors-exploit-the-tensions-between-azerbaijan-and-armenia (attempt 1/6)\n",
            "2025-07-20 13:53:11,744 - INFO - Successfully scraped: https://www.fortinet.com/blog/threat-research/threat-Actors-exploit-the-tensions-between-azerbaijan-and-armenia\n"
          ]
        },
        {
          "name": "stdout",
          "output_type": "stream",
          "text": [
            "   ✅ Successfully scraped article\n",
            "      Title: Threat Actors Exploit the Tensions Between Azerbaijan and Armenia\n",
            "      Content length: 8118\n",
            "   ✅ Approved (Grade: A)\n",
            "   🔍 Extracted 13 technical indicators\n",
            "      domain: 7 found\n",
            "      hash_sha256: 5 found\n",
            "      url: 1 found\n",
            "   Processing article 98/171: https://www.fortinet.com/blog/threat-research/ransomware-rou...\n",
            "\n",
            "🔍 Scraping Fortinet article: https://www.fortinet.com/blog/threat-research/ransomware-roundup-retch-and-sho\n"
          ]
        },
        {
          "name": "stderr",
          "output_type": "stream",
          "text": [
            "2025-07-20 13:53:18,243 - INFO - Attempting to fetch https://www.fortinet.com/blog/threat-research/ransomware-roundup-retch-and-sho (attempt 1/6)\n",
            "2025-07-20 13:53:19,248 - INFO - Successfully scraped: https://www.fortinet.com/blog/threat-research/ransomware-roundup-retch-and-sho\n"
          ]
        },
        {
          "name": "stdout",
          "output_type": "stream",
          "text": [
            "   ✅ Successfully scraped article\n",
            "      Title: Ransomware Roundup - Retch and S.H.O.\n",
            "      Content length: 12712\n",
            "   ✅ Approved (Grade: A)\n",
            "   🔍 Extracted 12 technical indicators\n",
            "      domain: 5 found\n",
            "      hash_sha256: 7 found\n",
            "   Processing article 99/171: https://www.fortinet.com/blog/threat-research/new-midgedropp...\n",
            "\n",
            "🔍 Scraping Fortinet article: https://www.fortinet.com/blog/threat-research/new-midgedropper-variant\n"
          ]
        },
        {
          "name": "stderr",
          "output_type": "stream",
          "text": [
            "2025-07-20 13:53:26,383 - INFO - Attempting to fetch https://www.fortinet.com/blog/threat-research/new-midgedropper-variant (attempt 1/6)\n",
            "2025-07-20 13:53:27,552 - INFO - Successfully scraped: https://www.fortinet.com/blog/threat-research/new-midgedropper-variant\n"
          ]
        },
        {
          "name": "stdout",
          "output_type": "stream",
          "text": [
            "   ✅ Successfully scraped article\n",
            "      Title: New MidgeDropper Variant\n",
            "      Content length: 7938\n",
            "   ✅ Approved (Grade: A)\n",
            "   🔍 Extracted 20 technical indicators\n",
            "      domain: 10 found\n",
            "      hash_sha256: 9 found\n",
            "      url: 1 found\n",
            "   Processing article 100/171: https://www.fortinet.com/blog/threat-research/originbotnet-s...\n",
            "\n",
            "🔍 Scraping Fortinet article: https://www.fortinet.com/blog/threat-research/originbotnet-spreads-via-malicious-word-document\n"
          ]
        },
        {
          "name": "stderr",
          "output_type": "stream",
          "text": [
            "2025-07-20 13:53:34,313 - INFO - Attempting to fetch https://www.fortinet.com/blog/threat-research/originbotnet-spreads-via-malicious-word-document (attempt 1/6)\n",
            "2025-07-20 13:53:34,478 - INFO - Successfully scraped: https://www.fortinet.com/blog/threat-research/originbotnet-spreads-via-malicious-word-document\n"
          ]
        },
        {
          "name": "stdout",
          "output_type": "stream",
          "text": [
            "   ✅ Successfully scraped article\n",
            "      Title: OriginBotnet Spreads via Malicious Word Document\n",
            "      Content length: 12943\n",
            "   ✅ Approved (Grade: A)\n",
            "   🔍 Extracted 24 technical indicators\n",
            "      domain: 16 found\n",
            "      hash_sha256: 5 found\n",
            "      url: 3 found\n",
            "   Processing article 101/171: https://www.fortinet.com/blog/threat-research/agent-tesla-va...\n",
            "\n",
            "🔍 Scraping Fortinet article: https://www.fortinet.com/blog/threat-research/agent-tesla-variant-spread-by-crafted-excel-document\n"
          ]
        },
        {
          "name": "stderr",
          "output_type": "stream",
          "text": [
            "2025-07-20 13:53:41,993 - INFO - Attempting to fetch https://www.fortinet.com/blog/threat-research/agent-tesla-variant-spread-by-crafted-excel-document (attempt 1/6)\n",
            "2025-07-20 13:53:42,177 - INFO - Successfully scraped: https://www.fortinet.com/blog/threat-research/agent-tesla-variant-spread-by-crafted-excel-document\n"
          ]
        },
        {
          "name": "stdout",
          "output_type": "stream",
          "text": [
            "   ✅ Successfully scraped article\n",
            "      Title: New Agent Tesla Variant Being Spread by Crafted Excel Document\n",
            "      Content length: 14358\n",
            "   ✅ Approved (Grade: A)\n",
            "   🔍 Extracted 15 technical indicators\n",
            "      domain: 11 found\n",
            "      hash_sha256: 2 found\n",
            "      cve: 2 found\n",
            "   Processing article 102/171: https://www.fortinet.com/blog/threat-research/ransomware-rou...\n",
            "\n",
            "🔍 Scraping Fortinet article: https://www.fortinet.com/blog/threat-research/ransomware-roundup-rhysida\n"
          ]
        },
        {
          "name": "stderr",
          "output_type": "stream",
          "text": [
            "2025-07-20 13:53:49,978 - INFO - Attempting to fetch https://www.fortinet.com/blog/threat-research/ransomware-roundup-rhysida (attempt 1/6)\n",
            "2025-07-20 13:53:50,819 - INFO - Successfully scraped: https://www.fortinet.com/blog/threat-research/ransomware-roundup-rhysida\n"
          ]
        },
        {
          "name": "stdout",
          "output_type": "stream",
          "text": [
            "   ✅ Successfully scraped article\n",
            "      Title: Ransomware Roundup - Rhysida\n",
            "      Content length: 8785\n",
            "   ✅ Approved (Grade: A)\n",
            "   🔍 Extracted 11 technical indicators\n",
            "      domain: 1 found\n",
            "      hash_sha256: 10 found\n",
            "   Processing article 103/171: https://www.fortinet.com/blog/threat-research/multiple-threa...\n",
            "\n",
            "🔍 Scraping Fortinet article: https://www.fortinet.com/blog/threat-research/multiple-threats-target-adobe-coldfusion-vulnerabilities\n"
          ]
        },
        {
          "name": "stderr",
          "output_type": "stream",
          "text": [
            "2025-07-20 13:53:58,228 - INFO - Attempting to fetch https://www.fortinet.com/blog/threat-research/multiple-threats-target-adobe-coldfusion-vulnerabilities (attempt 1/6)\n",
            "2025-07-20 13:53:59,064 - INFO - Successfully scraped: https://www.fortinet.com/blog/threat-research/multiple-threats-target-adobe-coldfusion-vulnerabilities\n"
          ]
        },
        {
          "name": "stdout",
          "output_type": "stream",
          "text": [
            "   ✅ Successfully scraped article\n",
            "      Title: Multiple Threats Target Adobe ColdFusion Vulnerabilities\n",
            "      Content length: 7256\n",
            "   ✅ Approved (Grade: A)\n",
            "   🔍 Extracted 5 technical indicators\n",
            "      domain: 2 found\n",
            "      cve: 3 found\n",
            "   Processing article 104/171: https://www.fortinet.com/blog/threat-research/ransomware-rou...\n",
            "\n",
            "🔍 Scraping Fortinet article: https://www.fortinet.com/blog/threat-research/ransomware-roundup-trash-panda-and-nocry-variant\n"
          ]
        },
        {
          "name": "stderr",
          "output_type": "stream",
          "text": [
            "2025-07-20 13:54:06,515 - INFO - Attempting to fetch https://www.fortinet.com/blog/threat-research/ransomware-roundup-trash-panda-and-nocry-variant (attempt 1/6)\n",
            "2025-07-20 13:54:07,373 - INFO - Successfully scraped: https://www.fortinet.com/blog/threat-research/ransomware-roundup-trash-panda-and-nocry-variant\n"
          ]
        },
        {
          "name": "stdout",
          "output_type": "stream",
          "text": [
            "   ✅ Successfully scraped article\n",
            "      Title: Ransomware Roundup – Trash Panda and A New Minor Variant of NoCry\n",
            "      Content length: 8604\n",
            "   ✅ Approved (Grade: A)\n",
            "   🔍 Extracted 3 technical indicators\n",
            "      domain: 1 found\n",
            "      hash_sha256: 2 found\n",
            "   Processing article 105/171: https://www.fortinet.com/blog/threat-research/fortiguard-ai-...\n",
            "\n",
            "🔍 Scraping Fortinet article: https://www.fortinet.com/blog/threat-research/fortiguard-ai-detects-malicious-packages-in-pypi\n"
          ]
        },
        {
          "name": "stderr",
          "output_type": "stream",
          "text": [
            "2025-07-20 13:54:15,402 - INFO - Attempting to fetch https://www.fortinet.com/blog/threat-research/fortiguard-ai-detects-malicious-packages-in-pypi (attempt 1/6)\n",
            "2025-07-20 13:54:16,234 - INFO - Successfully scraped: https://www.fortinet.com/blog/threat-research/fortiguard-ai-detects-malicious-packages-in-pypi\n"
          ]
        },
        {
          "name": "stdout",
          "output_type": "stream",
          "text": [
            "   ✅ Successfully scraped article\n",
            "      Title: FortiGuard AI Detects Malicious Packages Hidden in the Python Package Index\n",
            "      Content length: 4631\n",
            "   ✅ Approved (Grade: A)\n",
            "   🔍 Extracted 10 technical indicators\n",
            "      domain: 3 found\n",
            "      hash_md5: 6 found\n",
            "      email: 1 found\n",
            "   Processing article 106/171: https://www.fortinet.com/blog/threat-research/malware-distri...\n",
            "\n",
            "🔍 Scraping Fortinet article: https://www.fortinet.com/blog/threat-research/malware-distributed-via-freezers-and-syk-crypter\n"
          ]
        },
        {
          "name": "stderr",
          "output_type": "stream",
          "text": [
            "2025-07-20 13:54:22,831 - INFO - Attempting to fetch https://www.fortinet.com/blog/threat-research/malware-distributed-via-freezers-and-syk-crypter (attempt 1/6)\n",
            "2025-07-20 13:54:22,991 - INFO - Successfully scraped: https://www.fortinet.com/blog/threat-research/malware-distributed-via-freezers-and-syk-crypter\n"
          ]
        },
        {
          "name": "stdout",
          "output_type": "stream",
          "text": [
            "   ✅ Successfully scraped article\n",
            "      Title: Attackers Distribute Malware via Freeze.rs And SYK Crypter\n",
            "      Content length: 12072\n",
            "   ✅ Approved (Grade: A)\n",
            "   🔍 Extracted 9 technical indicators\n",
            "      domain: 8 found\n",
            "      url: 1 found\n",
            "   Processing article 107/171: https://www.fortinet.com/blog/threat-research/fortiguard-lab...\n",
            "\n",
            "🔍 Scraping Fortinet article: https://www.fortinet.com/blog/threat-research/fortiguard-labs-threat-report-key-findings-1h-2023\n"
          ]
        },
        {
          "name": "stderr",
          "output_type": "stream",
          "text": [
            "2025-07-20 13:54:30,594 - INFO - Attempting to fetch https://www.fortinet.com/blog/threat-research/fortiguard-labs-threat-report-key-findings-1h-2023 (attempt 1/6)\n",
            "2025-07-20 13:54:31,093 - INFO - Successfully scraped: https://www.fortinet.com/blog/threat-research/fortiguard-labs-threat-report-key-findings-1h-2023\n"
          ]
        },
        {
          "name": "stdout",
          "output_type": "stream",
          "text": [
            "   ✅ Successfully scraped article\n",
            "      Title: Key Findings from the 1H 2023 FortiGuard Labs Threat Report\n",
            "      Content length: 6182\n",
            "   ✅ Approved (Grade: C)\n",
            "   Processing article 108/171: https://www.fortinet.com/blog/threat-research/ransomware-rou...\n",
            "\n",
            "🔍 Scraping Fortinet article: https://www.fortinet.com/blog/threat-research/ransomware-roundup-dodo-and-proton\n"
          ]
        },
        {
          "name": "stderr",
          "output_type": "stream",
          "text": [
            "2025-07-20 13:54:38,754 - INFO - Attempting to fetch https://www.fortinet.com/blog/threat-research/ransomware-roundup-dodo-and-proton (attempt 1/6)\n",
            "2025-07-20 13:54:39,595 - INFO - Successfully scraped: https://www.fortinet.com/blog/threat-research/ransomware-roundup-dodo-and-proton\n"
          ]
        },
        {
          "name": "stdout",
          "output_type": "stream",
          "text": [
            "   ✅ Successfully scraped article\n",
            "      Title: Ransomware Roundup - DoDo and Proton\n",
            "      Content length: 11722\n",
            "   ✅ Approved (Grade: A)\n",
            "   🔍 Extracted 18 technical indicators\n",
            "      domain: 1 found\n",
            "      hash_sha256: 17 found\n",
            "   Processing article 109/171: https://www.fortinet.com/blog/threat-research/microsoft-mess...\n",
            "\n",
            "🔍 Scraping Fortinet article: https://www.fortinet.com/blog/threat-research/microsoft-message-queuing-service-vulnerabilities\n"
          ]
        },
        {
          "name": "stderr",
          "output_type": "stream",
          "text": [
            "2025-07-20 13:54:46,838 - INFO - Attempting to fetch https://www.fortinet.com/blog/threat-research/microsoft-message-queuing-service-vulnerabilities (attempt 1/6)\n",
            "2025-07-20 13:54:47,347 - INFO - Successfully scraped: https://www.fortinet.com/blog/threat-research/microsoft-message-queuing-service-vulnerabilities\n"
          ]
        },
        {
          "name": "stdout",
          "output_type": "stream",
          "text": [
            "   ✅ Successfully scraped article\n",
            "      Title: FortiGuard Labs Discovers Multiple Vulnerabilities in Microsoft Message Queuing Service\n",
            "      Content length: 12825\n",
            "   ✅ Approved (Grade: A)\n",
            "   🔍 Extracted 4 technical indicators\n",
            "      domain: 2 found\n",
            "      cve: 2 found\n",
            "   Processing article 110/171: https://www.fortinet.com/blog/threat-research/ransomware-rou...\n",
            "\n",
            "🔍 Scraping Fortinet article: https://www.fortinet.com/blog/threat-research/ransomware-roundup-cl0p\n"
          ]
        },
        {
          "name": "stderr",
          "output_type": "stream",
          "text": [
            "2025-07-20 13:54:54,910 - INFO - Attempting to fetch https://www.fortinet.com/blog/threat-research/ransomware-roundup-cl0p (attempt 1/6)\n",
            "2025-07-20 13:54:55,752 - INFO - Successfully scraped: https://www.fortinet.com/blog/threat-research/ransomware-roundup-cl0p\n"
          ]
        },
        {
          "name": "stdout",
          "output_type": "stream",
          "text": [
            "   ✅ Successfully scraped article\n",
            "      Title: Ransomware Roundup - Cl0p\n",
            "      Content length: 10745\n",
            "   ✅ Approved (Grade: A)\n",
            "   🔍 Extracted 10 technical indicators\n",
            "      domain: 1 found\n",
            "      hash_sha256: 8 found\n",
            "      cve: 1 found\n",
            "   Processing article 111/171: https://www.fortinet.com/blog/threat-research/ddos-botnets-t...\n",
            "\n",
            "🔍 Scraping Fortinet article: https://www.fortinet.com/blog/threat-research/ddos-botnets-target-zyxel-vulnerability-cve-2023-28771\n"
          ]
        },
        {
          "name": "stderr",
          "output_type": "stream",
          "text": [
            "2025-07-20 13:55:03,874 - INFO - Attempting to fetch https://www.fortinet.com/blog/threat-research/ddos-botnets-target-zyxel-vulnerability-cve-2023-28771 (attempt 1/6)\n",
            "2025-07-20 13:55:04,034 - INFO - Successfully scraped: https://www.fortinet.com/blog/threat-research/ddos-botnets-target-zyxel-vulnerability-cve-2023-28771\n"
          ]
        },
        {
          "name": "stdout",
          "output_type": "stream",
          "text": [
            "   ✅ Successfully scraped article\n",
            "      Title: DDoS Botnets Target Zyxel Vulnerability CVE-2023-28771\n",
            "      Content length: 11587\n",
            "   ✅ Approved (Grade: A)\n",
            "   🔍 Extracted 5 technical indicators\n",
            "      ip_address: 1 found\n",
            "      domain: 3 found\n",
            "      cve: 1 found\n",
            "   Processing article 112/171: https://www.fortinet.com/blog/threat-research/adobe-indesign...\n",
            "\n",
            "🔍 Scraping Fortinet article: https://www.fortinet.com/blog/threat-research/adobe-indesign-zero-day-vulnerabilities\n"
          ]
        },
        {
          "name": "stderr",
          "output_type": "stream",
          "text": [
            "2025-07-20 13:55:11,646 - INFO - Attempting to fetch https://www.fortinet.com/blog/threat-research/adobe-indesign-zero-day-vulnerabilities (attempt 1/6)\n",
            "2025-07-20 13:55:12,629 - INFO - Successfully scraped: https://www.fortinet.com/blog/threat-research/adobe-indesign-zero-day-vulnerabilities\n"
          ]
        },
        {
          "name": "stdout",
          "output_type": "stream",
          "text": [
            "   ✅ Successfully scraped article\n",
            "      Title: FortiGuard Labs Discovers Multiple Vulnerabilities in Adobe InDesign\n",
            "      Content length: 9165\n",
            "   ✅ Approved (Grade: A)\n",
            "   🔍 Extracted 12 technical indicators\n",
            "      cve: 12 found\n",
            "   Processing article 113/171: https://www.fortinet.com/blog/threat-research/lokibot-target...\n",
            "\n",
            "🔍 Scraping Fortinet article: https://www.fortinet.com/blog/threat-research/lokibot-targets-microsoft-office-document-using-vulnerabilities-and-macros\n"
          ]
        },
        {
          "name": "stderr",
          "output_type": "stream",
          "text": [
            "2025-07-20 13:55:18,908 - INFO - Attempting to fetch https://www.fortinet.com/blog/threat-research/lokibot-targets-microsoft-office-document-using-vulnerabilities-and-macros (attempt 1/6)\n",
            "2025-07-20 13:55:19,090 - INFO - Successfully scraped: https://www.fortinet.com/blog/threat-research/lokibot-targets-microsoft-office-document-using-vulnerabilities-and-macros\n"
          ]
        },
        {
          "name": "stdout",
          "output_type": "stream",
          "text": [
            "   ✅ Successfully scraped article\n",
            "      Title: LokiBot Campaign Targets Microsoft Office Document Using Vulnerabilities and Macros\n",
            "      Content length: 8785\n",
            "   ✅ Approved (Grade: A)\n",
            "   🔍 Extracted 12 technical indicators\n",
            "      domain: 9 found\n",
            "      hash_sha256: 1 found\n",
            "      cve: 2 found\n",
            "   Processing article 114/171: https://www.fortinet.com/blog/threat-research/lockbit-most-p...\n",
            "\n",
            "🔍 Scraping Fortinet article: https://www.fortinet.com/blog/threat-research/lockbit-most-prevalent-ransomware\n"
          ]
        },
        {
          "name": "stderr",
          "output_type": "stream",
          "text": [
            "2025-07-20 13:55:26,852 - INFO - Attempting to fetch https://www.fortinet.com/blog/threat-research/lockbit-most-prevalent-ransomware (attempt 1/6)\n",
            "2025-07-20 13:55:27,872 - INFO - Successfully scraped: https://www.fortinet.com/blog/threat-research/lockbit-most-prevalent-ransomware\n"
          ]
        },
        {
          "name": "stdout",
          "output_type": "stream",
          "text": [
            "   ✅ Successfully scraped article\n",
            "      Title: Meet LockBit: The Most Prevalent Ransomware in 2022\n",
            "      Content length: 28832\n",
            "   ✅ Approved (Grade: A)\n",
            "   🔍 Extracted 64 technical indicators\n",
            "      domain: 5 found\n",
            "      hash_sha256: 58 found\n",
            "      cve: 1 found\n"
          ]
        },
        {
          "name": "stderr",
          "output_type": "stream",
          "text": [
            "2025-07-20 13:55:33,964 - INFO - Attempting to fetch https://www.fortinet.com/blog/threat-research/ransomware-roundup-rancoz (attempt 1/6)\n"
          ]
        },
        {
          "name": "stdout",
          "output_type": "stream",
          "text": [
            "   Processing article 115/171: https://www.fortinet.com/blog/threat-research/ransomware-rou...\n",
            "\n",
            "🔍 Scraping Fortinet article: https://www.fortinet.com/blog/threat-research/ransomware-roundup-rancoz\n"
          ]
        },
        {
          "name": "stderr",
          "output_type": "stream",
          "text": [
            "2025-07-20 13:55:34,962 - INFO - Successfully scraped: https://www.fortinet.com/blog/threat-research/ransomware-roundup-rancoz\n"
          ]
        },
        {
          "name": "stdout",
          "output_type": "stream",
          "text": [
            "   ✅ Successfully scraped article\n",
            "      Title: Ransomware Roundup - Rancoz\n",
            "      Content length: 9195\n",
            "   ✅ Approved (Grade: A)\n",
            "   🔍 Extracted 5 technical indicators\n",
            "      domain: 2 found\n",
            "      hash_sha256: 3 found\n",
            "   Processing article 116/171: https://www.fortinet.com/blog/threat-research/new-fast-devel...\n",
            "\n",
            "🔍 Scraping Fortinet article: https://www.fortinet.com/blog/threat-research/new-fast-developing-thirdeye-infostealer-pries-open-system-information\n"
          ]
        },
        {
          "name": "stderr",
          "output_type": "stream",
          "text": [
            "2025-07-20 13:55:42,138 - INFO - Attempting to fetch https://www.fortinet.com/blog/threat-research/new-fast-developing-thirdeye-infostealer-pries-open-system-information (attempt 1/6)\n",
            "2025-07-20 13:55:42,981 - INFO - Successfully scraped: https://www.fortinet.com/blog/threat-research/new-fast-developing-thirdeye-infostealer-pries-open-system-information\n"
          ]
        },
        {
          "name": "stdout",
          "output_type": "stream",
          "text": [
            "   ✅ Successfully scraped article\n",
            "      Title: New Fast-Developing ThirdEye Infostealer Pries Open System Information\n",
            "      Content length: 7660\n",
            "   ✅ Approved (Grade: A)\n",
            "   🔍 Extracted 18 technical indicators\n",
            "      domain: 2 found\n",
            "      hash_sha256: 16 found\n",
            "   Processing article 117/171: https://www.fortinet.com/blog/threat-research/ransomware-rou...\n",
            "\n",
            "🔍 Scraping Fortinet article: https://www.fortinet.com/blog/threat-research/ransomware-roundup-black-basta\n"
          ]
        },
        {
          "name": "stderr",
          "output_type": "stream",
          "text": [
            "2025-07-20 13:55:51,017 - INFO - Attempting to fetch https://www.fortinet.com/blog/threat-research/ransomware-roundup-black-basta (attempt 1/6)\n",
            "2025-07-20 13:55:52,030 - INFO - Successfully scraped: https://www.fortinet.com/blog/threat-research/ransomware-roundup-black-basta\n"
          ]
        },
        {
          "name": "stdout",
          "output_type": "stream",
          "text": [
            "   ✅ Successfully scraped article\n",
            "      Title: Ransomware Roundup - Black Basta\n",
            "      Content length: 20217\n",
            "   ✅ Approved (Grade: A)\n",
            "   🔍 Extracted 118 technical indicators\n",
            "      domain: 2 found\n",
            "      hash_sha256: 112 found\n",
            "      cve: 2 found\n",
            "      url: 2 found\n",
            "   Processing article 118/171: https://www.fortinet.com/blog/threat-research/fortinet-rever...\n",
            "\n",
            "🔍 Scraping Fortinet article: https://www.fortinet.com/blog/threat-research/fortinet-reverses-flutter-based-android-malware-fluhorse\n"
          ]
        },
        {
          "name": "stderr",
          "output_type": "stream",
          "text": [
            "2025-07-20 13:55:59,436 - INFO - Attempting to fetch https://www.fortinet.com/blog/threat-research/fortinet-reverses-flutter-based-android-malware-fluhorse (attempt 1/6)\n",
            "2025-07-20 13:56:00,431 - INFO - Successfully scraped: https://www.fortinet.com/blog/threat-research/fortinet-reverses-flutter-based-android-malware-fluhorse\n"
          ]
        },
        {
          "name": "stdout",
          "output_type": "stream",
          "text": [
            "   ✅ Successfully scraped article\n",
            "      Title: Fortinet Reverses Flutter-based Android Malware “Fluhorse”\n",
            "      Content length: 9683\n",
            "   ✅ Approved (Grade: A)\n",
            "   🔍 Extracted 9 technical indicators\n",
            "      domain: 8 found\n",
            "      hash_sha256: 1 found\n",
            "   Processing article 119/171: https://www.fortinet.com/blog/threat-research/condi-ddos-bot...\n",
            "\n",
            "🔍 Scraping Fortinet article: https://www.fortinet.com/blog/threat-research/condi-ddos-botnet-spreads-via-tp-links-cve-2023-1389\n"
          ]
        },
        {
          "name": "stderr",
          "output_type": "stream",
          "text": [
            "2025-07-20 13:56:06,737 - INFO - Attempting to fetch https://www.fortinet.com/blog/threat-research/condi-ddos-botnet-spreads-via-tp-links-cve-2023-1389 (attempt 1/6)\n",
            "2025-07-20 13:56:07,278 - INFO - Successfully scraped: https://www.fortinet.com/blog/threat-research/condi-ddos-botnet-spreads-via-tp-links-cve-2023-1389\n"
          ]
        },
        {
          "name": "stdout",
          "output_type": "stream",
          "text": [
            "   ✅ Successfully scraped article\n",
            "      Title: Condi DDoS Botnet Spreads via TP-Link's CVE-2023-1389\n",
            "      Content length: 10144\n",
            "   ✅ Approved (Grade: A)\n",
            "   🔍 Extracted 2 technical indicators\n",
            "      domain: 1 found\n",
            "      cve: 1 found\n",
            "   Processing article 120/171: https://www.fortinet.com/blog/threat-research/fortiguard-lab...\n",
            "\n",
            "🔍 Scraping Fortinet article: https://www.fortinet.com/blog/threat-research/fortiguard-labs-ransomware-roundup-big-head\n"
          ]
        },
        {
          "name": "stderr",
          "output_type": "stream",
          "text": [
            "2025-07-20 13:56:14,424 - INFO - Attempting to fetch https://www.fortinet.com/blog/threat-research/fortiguard-labs-ransomware-roundup-big-head (attempt 1/6)\n",
            "2025-07-20 13:56:15,275 - INFO - Successfully scraped: https://www.fortinet.com/blog/threat-research/fortiguard-labs-ransomware-roundup-big-head\n"
          ]
        },
        {
          "name": "stdout",
          "output_type": "stream",
          "text": [
            "   ✅ Successfully scraped article\n",
            "      Title: Ransomware Roundup - Big Head\n",
            "      Content length: 9198\n",
            "   ✅ Approved (Grade: A)\n",
            "   🔍 Extracted 11 technical indicators\n",
            "      hash_sha256: 11 found\n",
            "   Processing article 121/171: https://www.fortinet.com/blog/threat-research/moveit-transfe...\n",
            "\n",
            "🔍 Scraping Fortinet article: https://www.fortinet.com/blog/threat-research/moveit-transfer-critical-vulnerability-cve-2023-34362-exploited-as-a-0-day\n"
          ]
        },
        {
          "name": "stderr",
          "output_type": "stream",
          "text": [
            "2025-07-20 13:56:22,145 - INFO - Attempting to fetch https://www.fortinet.com/blog/threat-research/moveit-transfer-critical-vulnerability-cve-2023-34362-exploited-as-a-0-day (attempt 1/6)\n",
            "2025-07-20 13:56:23,639 - INFO - Successfully scraped: https://www.fortinet.com/blog/threat-research/moveit-transfer-critical-vulnerability-cve-2023-34362-exploited-as-a-0-day\n"
          ]
        },
        {
          "name": "stdout",
          "output_type": "stream",
          "text": [
            "   ✅ Successfully scraped article\n",
            "      Title: MOVEit Transfer Critical Vulnerability (CVE-2023-34362) Exploited as a 0-day\n",
            "      Content length: 10377\n",
            "   ✅ Approved (Grade: A)\n",
            "   🔍 Extracted 35 technical indicators\n",
            "      ip_address: 1 found\n",
            "      hash_sha256: 32 found\n",
            "      cve: 2 found\n",
            "   Processing article 122/171: https://www.fortinet.com/blog/threat-research/youtube-pirate...\n",
            "\n",
            "🔍 Scraping Fortinet article: https://www.fortinet.com/blog/threat-research/youtube-pirated-software-videos-deliver-triple-threat-vidar-stealer-laplas-clipper-xmrig-miner\n"
          ]
        },
        {
          "name": "stderr",
          "output_type": "stream",
          "text": [
            "2025-07-20 13:56:30,734 - INFO - Attempting to fetch https://www.fortinet.com/blog/threat-research/youtube-pirated-software-videos-deliver-triple-threat-vidar-stealer-laplas-clipper-xmrig-miner (attempt 1/6)\n",
            "2025-07-20 13:56:31,614 - INFO - Successfully scraped: https://www.fortinet.com/blog/threat-research/youtube-pirated-software-videos-deliver-triple-threat-vidar-stealer-laplas-clipper-xmrig-miner\n"
          ]
        },
        {
          "name": "stdout",
          "output_type": "stream",
          "text": [
            "   ✅ Successfully scraped article\n",
            "      Title: YouTube Pirated Software Videos Deliver Triple Threat: Vidar Stealer, Laplas Clipper, XMRig Miner\n",
            "      Content length: 16826\n",
            "   ✅ Approved (Grade: A)\n",
            "   🔍 Extracted 35 technical indicators\n",
            "      ip_address: 1 found\n",
            "      domain: 22 found\n",
            "      hash_sha256: 12 found\n",
            "   Processing article 123/171: https://www.fortinet.com/blog/threat-research/wintapix-kerna...\n",
            "\n",
            "🔍 Scraping Fortinet article: https://www.fortinet.com/blog/threat-research/wintapix-kernal-driver-middle-east-countries\n"
          ]
        },
        {
          "name": "stderr",
          "output_type": "stream",
          "text": [
            "2025-07-20 13:56:38,969 - INFO - Attempting to fetch https://www.fortinet.com/blog/threat-research/wintapix-kernal-driver-middle-east-countries (attempt 1/6)\n",
            "2025-07-20 13:56:39,364 - INFO - Successfully scraped: https://www.fortinet.com/blog/threat-research/wintapix-kernal-driver-middle-east-countries\n"
          ]
        },
        {
          "name": "stdout",
          "output_type": "stream",
          "text": [
            "   ✅ Successfully scraped article\n",
            "      Title: WINTAPIX: A New Kernel Driver Targeting Countries in The Middle East\n",
            "      Content length: 13496\n",
            "   ✅ Approved (Grade: A)\n",
            "   🔍 Extracted 8 technical indicators\n",
            "      domain: 3 found\n",
            "      hash_sha256: 5 found\n",
            "   Processing article 124/171: https://www.fortinet.com/blog/threat-research/more-supply-ch...\n",
            "\n",
            "🔍 Scraping Fortinet article: https://www.fortinet.com/blog/threat-research/more-supply-chain-attacks-via-malicious-python-packages\n"
          ]
        },
        {
          "name": "stderr",
          "output_type": "stream",
          "text": [
            "2025-07-20 13:56:46,964 - INFO - Attempting to fetch https://www.fortinet.com/blog/threat-research/more-supply-chain-attacks-via-malicious-python-packages (attempt 1/6)\n",
            "2025-07-20 13:56:47,970 - INFO - Successfully scraped: https://www.fortinet.com/blog/threat-research/more-supply-chain-attacks-via-malicious-python-packages\n"
          ]
        },
        {
          "name": "stdout",
          "output_type": "stream",
          "text": [
            "   ✅ Successfully scraped article\n",
            "      Title: More Supply Chain Attacks via Malicious Python Packages\n",
            "      Content length: 8799\n",
            "   ✅ Approved (Grade: A)\n",
            "   🔍 Extracted 41 technical indicators\n",
            "      domain: 3 found\n",
            "      hash_md5: 37 found\n",
            "      url: 1 found\n"
          ]
        },
        {
          "name": "stderr",
          "output_type": "stream",
          "text": [
            "2025-07-20 13:56:54,050 - INFO - Attempting to fetch https://www.fortinet.com/blog/threat-research/ransomware-roundup-maori (attempt 1/6)\n"
          ]
        },
        {
          "name": "stdout",
          "output_type": "stream",
          "text": [
            "   Processing article 125/171: https://www.fortinet.com/blog/threat-research/ransomware-rou...\n",
            "\n",
            "🔍 Scraping Fortinet article: https://www.fortinet.com/blog/threat-research/ransomware-roundup-maori\n"
          ]
        },
        {
          "name": "stderr",
          "output_type": "stream",
          "text": [
            "2025-07-20 13:56:54,898 - INFO - Successfully scraped: https://www.fortinet.com/blog/threat-research/ransomware-roundup-maori\n"
          ]
        },
        {
          "name": "stdout",
          "output_type": "stream",
          "text": [
            "   ✅ Successfully scraped article\n",
            "      Title: Ransomware Roundup - Maori\n",
            "      Content length: 6491\n",
            "   ✅ Approved (Grade: A)\n",
            "   🔍 Extracted 1 technical indicators\n",
            "      hash_sha256: 1 found\n",
            "   Processing article 126/171: https://www.fortinet.com/blog/threat-research/rapperbot-ddos...\n",
            "\n",
            "🔍 Scraping Fortinet article: https://www.fortinet.com/blog/threat-research/rapperbot-ddos-botnet-expands-into-cryptojacking\n"
          ]
        },
        {
          "name": "stderr",
          "output_type": "stream",
          "text": [
            "2025-07-20 13:57:01,402 - INFO - Attempting to fetch https://www.fortinet.com/blog/threat-research/rapperbot-ddos-botnet-expands-into-cryptojacking (attempt 1/6)\n",
            "2025-07-20 13:57:01,576 - INFO - Successfully scraped: https://www.fortinet.com/blog/threat-research/rapperbot-ddos-botnet-expands-into-cryptojacking\n"
          ]
        },
        {
          "name": "stdout",
          "output_type": "stream",
          "text": [
            "   ✅ Successfully scraped article\n",
            "      Title: RapperBot DDoS Botnet Expands into Cryptojacking\n",
            "      Content length: 16237\n",
            "   ✅ Approved (Grade: A)\n",
            "   🔍 Extracted 13 technical indicators\n",
            "      domain: 2 found\n",
            "      hash_sha256: 10 found\n",
            "      url: 1 found\n",
            "   Processing article 127/171: https://www.fortinet.com/blog/threat-research/andoryubot-new...\n",
            "\n",
            "🔍 Scraping Fortinet article: https://www.fortinet.com/blog/threat-research/andoryubot-new-botnet-campaign-targets-ruckus-wireless-admin-remote-code-execution-vulnerability-cve-2023-25717\n"
          ]
        },
        {
          "name": "stderr",
          "output_type": "stream",
          "text": [
            "2025-07-20 13:57:10,212 - INFO - Attempting to fetch https://www.fortinet.com/blog/threat-research/andoryubot-new-botnet-campaign-targets-ruckus-wireless-admin-remote-code-execution-vulnerability-cve-2023-25717 (attempt 1/6)\n",
            "2025-07-20 13:57:11,201 - INFO - Successfully scraped: https://www.fortinet.com/blog/threat-research/andoryubot-new-botnet-campaign-targets-ruckus-wireless-admin-remote-code-execution-vulnerability-cve-2023-25717\n"
          ]
        },
        {
          "name": "stdout",
          "output_type": "stream",
          "text": [
            "   ✅ Successfully scraped article\n",
            "      Title: AndoryuBot – New Botnet Campaign Targets Ruckus Wireless Admin Remote Code Execution Vulnerability (\n",
            "      Content length: 5841\n",
            "   ✅ Approved (Grade: A)\n",
            "   🔍 Extracted 12 technical indicators\n",
            "      domain: 1 found\n",
            "      hash_sha256: 10 found\n",
            "      cve: 1 found\n",
            "   Processing article 128/171: https://www.fortinet.com/blog/threat-research/clean-rooms-nu...\n",
            "\n",
            "🔍 Scraping Fortinet article: https://www.fortinet.com/blog/threat-research/clean-rooms-nuclear-missiles-and-sidecopy\n"
          ]
        },
        {
          "name": "stderr",
          "output_type": "stream",
          "text": [
            "2025-07-20 13:57:18,986 - INFO - Attempting to fetch https://www.fortinet.com/blog/threat-research/clean-rooms-nuclear-missiles-and-sidecopy (attempt 1/6)\n",
            "2025-07-20 13:57:20,034 - INFO - Successfully scraped: https://www.fortinet.com/blog/threat-research/clean-rooms-nuclear-missiles-and-sidecopy\n"
          ]
        },
        {
          "name": "stdout",
          "output_type": "stream",
          "text": [
            "   ✅ Successfully scraped article\n",
            "      Title: Clean Rooms, Nuclear Missiles, and SideCopy, Oh My!\n",
            "      Content length: 15083\n",
            "   ✅ Approved (Grade: A)\n",
            "   🔍 Extracted 35 technical indicators\n",
            "      domain: 20 found\n",
            "      hash_sha256: 12 found\n",
            "      url: 3 found\n",
            "   Processing article 129/171: https://www.fortinet.com/blog/threat-research/ransomware-rou...\n",
            "\n",
            "🔍 Scraping Fortinet article: https://www.fortinet.com/blog/threat-research/ransomware-roundup-uniza-coverage\n"
          ]
        },
        {
          "name": "stderr",
          "output_type": "stream",
          "text": [
            "2025-07-20 13:57:26,648 - INFO - Attempting to fetch https://www.fortinet.com/blog/threat-research/ransomware-roundup-uniza-coverage (attempt 1/6)\n",
            "2025-07-20 13:57:28,170 - INFO - Successfully scraped: https://www.fortinet.com/blog/threat-research/ransomware-roundup-uniza-coverage\n"
          ]
        },
        {
          "name": "stdout",
          "output_type": "stream",
          "text": [
            "   ✅ Successfully scraped article\n",
            "      Title: Ransomware Roundup - UNIZA\n",
            "      Content length: 6529\n",
            "   ✅ Approved (Grade: A)\n",
            "   🔍 Extracted 4 technical indicators\n",
            "      domain: 1 found\n",
            "      hash_sha256: 3 found\n",
            "   Processing article 130/171: https://www.fortinet.com/blog/threat-research/evil-extractor...\n",
            "\n",
            "🔍 Scraping Fortinet article: https://www.fortinet.com/blog/threat-research/evil-extractor-all-in-one-stealer\n"
          ]
        },
        {
          "name": "stderr",
          "output_type": "stream",
          "text": [
            "2025-07-20 13:57:35,233 - INFO - Attempting to fetch https://www.fortinet.com/blog/threat-research/evil-extractor-all-in-one-stealer (attempt 1/6)\n",
            "2025-07-20 13:57:36,067 - INFO - Successfully scraped: https://www.fortinet.com/blog/threat-research/evil-extractor-all-in-one-stealer\n"
          ]
        },
        {
          "name": "stdout",
          "output_type": "stream",
          "text": [
            "   ✅ Successfully scraped article\n",
            "      Title: EvilExtractor – All-in-One Stealer\n",
            "      Content length: 7277\n",
            "   ✅ Approved (Grade: A)\n",
            "   🔍 Extracted 8 technical indicators\n",
            "      domain: 7 found\n",
            "      url: 1 found\n",
            "   Processing article 131/171: https://www.fortinet.com/blog/threat-research/ransomware-rou...\n",
            "\n",
            "🔍 Scraping Fortinet article: https://www.fortinet.com/blog/threat-research/ransomware-roundup-kadavro-vector-ransomware\n"
          ]
        },
        {
          "name": "stderr",
          "output_type": "stream",
          "text": [
            "2025-07-20 13:57:44,078 - INFO - Attempting to fetch https://www.fortinet.com/blog/threat-research/ransomware-roundup-kadavro-vector-ransomware (attempt 1/6)\n",
            "2025-07-20 13:57:44,930 - INFO - Successfully scraped: https://www.fortinet.com/blog/threat-research/ransomware-roundup-kadavro-vector-ransomware\n"
          ]
        },
        {
          "name": "stdout",
          "output_type": "stream",
          "text": [
            "   ✅ Successfully scraped article\n",
            "      Title: Ransomware Roundup – Kadavro Vector Ransomware\n",
            "      Content length: 8190\n",
            "   ✅ Approved (Grade: A)\n",
            "   🔍 Extracted 2 technical indicators\n",
            "      hash_sha256: 2 found\n",
            "   Processing article 132/171: https://www.fortinet.com/blog/threat-research/tax-scammers-a...\n",
            "\n",
            "🔍 Scraping Fortinet article: https://www.fortinet.com/blog/threat-research/tax-scammers-at-large\n"
          ]
        },
        {
          "name": "stderr",
          "output_type": "stream",
          "text": [
            "2025-07-20 13:57:51,845 - INFO - Attempting to fetch https://www.fortinet.com/blog/threat-research/tax-scammers-at-large (attempt 1/6)\n",
            "2025-07-20 13:57:52,685 - INFO - Successfully scraped: https://www.fortinet.com/blog/threat-research/tax-scammers-at-large\n"
          ]
        },
        {
          "name": "stdout",
          "output_type": "stream",
          "text": [
            "   ✅ Successfully scraped article\n",
            "      Title: Deja Vu All Over Again: Tax Scammers at Large\n",
            "      Content length: 11412\n",
            "   ✅ Approved (Grade: A)\n",
            "   🔍 Extracted 31 technical indicators\n",
            "      domain: 20 found\n",
            "      hash_sha256: 11 found\n",
            "   Processing article 133/171: https://www.fortinet.com/blog/threat-research/exploring-rece...\n",
            "\n",
            "🔍 Scraping Fortinet article: https://www.fortinet.com/blog/threat-research/exploring-recent-microsoft-outlook-vulnerability-cve-2023-23397\n"
          ]
        },
        {
          "name": "stderr",
          "output_type": "stream",
          "text": [
            "2025-07-20 13:58:00,698 - INFO - Attempting to fetch https://www.fortinet.com/blog/threat-research/exploring-recent-microsoft-outlook-vulnerability-cve-2023-23397 (attempt 1/6)\n",
            "2025-07-20 13:58:01,886 - INFO - Successfully scraped: https://www.fortinet.com/blog/threat-research/exploring-recent-microsoft-outlook-vulnerability-cve-2023-23397\n"
          ]
        },
        {
          "name": "stdout",
          "output_type": "stream",
          "text": [
            "   ✅ Successfully scraped article\n",
            "      Title: Exploring a Recent Microsoft Outlook Vulnerability: CVE-2023-23397\n",
            "      Content length: 3065\n",
            "   ✅ Approved (Grade: A)\n",
            "   🔍 Extracted 1 technical indicators\n",
            "      cve: 1 found\n",
            "   Processing article 134/171: https://www.fortinet.com/blog/threat-research/are-internet-m...\n",
            "\n",
            "🔍 Scraping Fortinet article: https://www.fortinet.com/blog/threat-research/are-internet-macros-dead-or-alive\n"
          ]
        },
        {
          "name": "stderr",
          "output_type": "stream",
          "text": [
            "2025-07-20 13:58:08,724 - INFO - Attempting to fetch https://www.fortinet.com/blog/threat-research/are-internet-macros-dead-or-alive (attempt 1/6)\n",
            "2025-07-20 13:58:09,725 - INFO - Successfully scraped: https://www.fortinet.com/blog/threat-research/are-internet-macros-dead-or-alive\n"
          ]
        },
        {
          "name": "stdout",
          "output_type": "stream",
          "text": [
            "   ✅ Successfully scraped article\n",
            "      Title: Are Internet Macros Dead or Alive?\n",
            "      Content length: 13361\n",
            "   ✅ Approved (Grade: A)\n",
            "   🔍 Extracted 4 technical indicators\n",
            "      domain: 4 found\n"
          ]
        },
        {
          "name": "stderr",
          "output_type": "stream",
          "text": [
            "2025-07-20 13:58:15,896 - INFO - Attempting to fetch https://www.fortinet.com/blog/threat-research/malware-disguised-as-document-ukraine-energoatom-delivers-havoc-demon-backdoor (attempt 1/6)\n"
          ]
        },
        {
          "name": "stdout",
          "output_type": "stream",
          "text": [
            "   Processing article 135/171: https://www.fortinet.com/blog/threat-research/malware-disgui...\n",
            "\n",
            "🔍 Scraping Fortinet article: https://www.fortinet.com/blog/threat-research/malware-disguised-as-document-ukraine-energoatom-delivers-havoc-demon-backdoor\n"
          ]
        },
        {
          "name": "stderr",
          "output_type": "stream",
          "text": [
            "2025-07-20 13:58:16,234 - INFO - Successfully scraped: https://www.fortinet.com/blog/threat-research/malware-disguised-as-document-ukraine-energoatom-delivers-havoc-demon-backdoor\n"
          ]
        },
        {
          "name": "stdout",
          "output_type": "stream",
          "text": [
            "   ✅ Successfully scraped article\n",
            "      Title: Malware Disguised as Document from Ukraine's Energoatom Delivers Havoc Demon Backdoor\n",
            "      Content length: 17873\n",
            "   ✅ Approved (Grade: A)\n",
            "   🔍 Extracted 26 technical indicators\n",
            "      domain: 21 found\n",
            "      hash_sha256: 4 found\n",
            "      url: 1 found\n",
            "   Processing article 136/171: https://www.fortinet.com/blog/threat-research/3cx-desktop-ap...\n",
            "\n",
            "🔍 Scraping Fortinet article: https://www.fortinet.com/blog/threat-research/3cx-desktop-app-compromised\n"
          ]
        },
        {
          "name": "stderr",
          "output_type": "stream",
          "text": [
            "2025-07-20 13:58:23,717 - INFO - Attempting to fetch https://www.fortinet.com/blog/threat-research/3cx-desktop-app-compromised (attempt 1/6)\n",
            "2025-07-20 13:58:24,561 - INFO - Successfully scraped: https://www.fortinet.com/blog/threat-research/3cx-desktop-app-compromised\n"
          ]
        },
        {
          "name": "stdout",
          "output_type": "stream",
          "text": [
            "   ✅ Successfully scraped article\n",
            "      Title: 3CX Desktop App Compromised (CVE-2023-29059)\n",
            "      Content length: 7605\n",
            "   ✅ Approved (Grade: A)\n",
            "   🔍 Extracted 24 technical indicators\n",
            "      domain: 4 found\n",
            "      hash_md5: 2 found\n",
            "      hash_sha1: 2 found\n",
            "      hash_sha256: 15 found\n",
            "      cve: 1 found\n",
            "   Processing article 137/171: https://www.fortinet.com/blog/threat-research/dark-power-and...\n",
            "\n",
            "🔍 Scraping Fortinet article: https://www.fortinet.com/blog/threat-research/dark-power-and-payme100usd-ransomware\n"
          ]
        },
        {
          "name": "stderr",
          "output_type": "stream",
          "text": [
            "2025-07-20 13:58:31,227 - INFO - Attempting to fetch https://www.fortinet.com/blog/threat-research/dark-power-and-payme100usd-ransomware (attempt 1/6)\n",
            "2025-07-20 13:58:32,080 - INFO - Successfully scraped: https://www.fortinet.com/blog/threat-research/dark-power-and-payme100usd-ransomware\n"
          ]
        },
        {
          "name": "stdout",
          "output_type": "stream",
          "text": [
            "   ✅ Successfully scraped article\n",
            "      Title: Ransomware Roundup – Dark Power and PayMe100USD Ransomware\n",
            "      Content length: 9462\n",
            "   ✅ Approved (Grade: A)\n",
            "   🔍 Extracted 49 technical indicators\n",
            "      domain: 45 found\n",
            "      hash_sha256: 4 found\n",
            "   Processing article 138/171: https://www.fortinet.com/blog/threat-research/moobot-strikes...\n",
            "\n",
            "🔍 Scraping Fortinet article: https://www.fortinet.com/blog/threat-research/moobot-strikes-again-targeting-cacti-and-realtek-vulnerabilities\n"
          ]
        },
        {
          "name": "stderr",
          "output_type": "stream",
          "text": [
            "2025-07-20 13:58:39,287 - INFO - Attempting to fetch https://www.fortinet.com/blog/threat-research/moobot-strikes-again-targeting-cacti-and-realtek-vulnerabilities (attempt 1/6)\n",
            "2025-07-20 13:58:40,301 - INFO - Successfully scraped: https://www.fortinet.com/blog/threat-research/moobot-strikes-again-targeting-cacti-and-realtek-vulnerabilities\n"
          ]
        },
        {
          "name": "stdout",
          "output_type": "stream",
          "text": [
            "   ✅ Successfully scraped article\n",
            "      Title: Moobot Strikes Again - Targeting Cacti And RealTek Vulnerabilities\n",
            "      Content length: 9175\n",
            "   ✅ Approved (Grade: A)\n",
            "   🔍 Extracted 42 technical indicators\n",
            "      domain: 2 found\n",
            "      hash_sha256: 38 found\n",
            "      cve: 2 found\n",
            "   Processing article 139/171: https://www.fortinet.com/blog/threat-research/supply-chain-a...\n",
            "\n",
            "🔍 Scraping Fortinet article: https://www.fortinet.com/blog/threat-research/supply-chain-attack-via-new-malicious-python-packages\n"
          ]
        },
        {
          "name": "stderr",
          "output_type": "stream",
          "text": [
            "2025-07-20 13:58:47,233 - INFO - Attempting to fetch https://www.fortinet.com/blog/threat-research/supply-chain-attack-via-new-malicious-python-packages (attempt 1/6)\n",
            "2025-07-20 13:58:48,090 - INFO - Successfully scraped: https://www.fortinet.com/blog/threat-research/supply-chain-attack-via-new-malicious-python-packages\n"
          ]
        },
        {
          "name": "stdout",
          "output_type": "stream",
          "text": [
            "   ✅ Successfully scraped article\n",
            "      Title: Supply Chain Attack via New Malicious Python Packages\n",
            "      Content length: 12167\n",
            "   ✅ Approved (Grade: A)\n",
            "   🔍 Extracted 70 technical indicators\n",
            "      domain: 5 found\n",
            "      hash_md5: 64 found\n",
            "      url: 1 found\n"
          ]
        },
        {
          "name": "stderr",
          "output_type": "stream",
          "text": [
            "2025-07-20 13:58:54,284 - INFO - Attempting to fetch https://www.fortinet.com/blog/threat-research/intel-on-wiper-malware (attempt 1/6)\n"
          ]
        },
        {
          "name": "stdout",
          "output_type": "stream",
          "text": [
            "   Processing article 140/171: https://www.fortinet.com/blog/threat-research/intel-on-wiper...\n",
            "\n",
            "🔍 Scraping Fortinet article: https://www.fortinet.com/blog/threat-research/intel-on-wiper-malware\n"
          ]
        },
        {
          "name": "stderr",
          "output_type": "stream",
          "text": [
            "2025-07-20 13:58:55,168 - INFO - Successfully scraped: https://www.fortinet.com/blog/threat-research/intel-on-wiper-malware\n"
          ]
        },
        {
          "name": "stdout",
          "output_type": "stream",
          "text": [
            "   ✅ Successfully scraped article\n",
            "      Title: The Latest Intel on Wipers\n",
            "      Content length: 4424\n",
            "   ✅ Approved (Grade: C)\n",
            "   Processing article 141/171: https://www.fortinet.com/blog/threat-research/fortiguard-lab...\n",
            "\n",
            "🔍 Scraping Fortinet article: https://www.fortinet.com/blog/threat-research/fortiguard-labs-ransomware-roundup\n"
          ]
        },
        {
          "name": "stderr",
          "output_type": "stream",
          "text": [
            "2025-07-20 13:59:02,497 - INFO - Attempting to fetch https://www.fortinet.com/blog/threat-research/fortiguard-labs-ransomware-roundup (attempt 1/6)\n",
            "2025-07-20 13:59:03,382 - INFO - Successfully scraped: https://www.fortinet.com/blog/threat-research/fortiguard-labs-ransomware-roundup\n"
          ]
        },
        {
          "name": "stdout",
          "output_type": "stream",
          "text": [
            "   ✅ Successfully scraped article\n",
            "      Title: Ransomware Roundup — HardBit 2.0\n",
            "      Content length: 7357\n",
            "   ✅ Approved (Grade: A)\n",
            "   🔍 Extracted 8 technical indicators\n",
            "      domain: 3 found\n",
            "      hash_sha256: 4 found\n",
            "      url: 1 found\n",
            "   Processing article 142/171: https://www.fortinet.com/blog/threat-research/microsoft-onen...\n",
            "\n",
            "🔍 Scraping Fortinet article: https://www.fortinet.com/blog/threat-research/microsoft-onenote-file-being-leveraged-by-phishing-campaigns-to-spread-malware\n"
          ]
        },
        {
          "name": "stderr",
          "output_type": "stream",
          "text": [
            "2025-07-20 13:59:11,432 - INFO - Attempting to fetch https://www.fortinet.com/blog/threat-research/microsoft-onenote-file-being-leveraged-by-phishing-campaigns-to-spread-malware (attempt 1/6)\n",
            "2025-07-20 13:59:12,452 - INFO - Successfully scraped: https://www.fortinet.com/blog/threat-research/microsoft-onenote-file-being-leveraged-by-phishing-campaigns-to-spread-malware\n"
          ]
        },
        {
          "name": "stdout",
          "output_type": "stream",
          "text": [
            "   ✅ Successfully scraped article\n",
            "      Title: Microsoft OneNote File Being Leveraged by Phishing Campaigns to Spread Malware\n",
            "      Content length: 16268\n",
            "   ✅ Approved (Grade: A)\n",
            "   🔍 Extracted 19 technical indicators\n",
            "      ip_address: 1 found\n",
            "      domain: 13 found\n",
            "      hash_sha256: 3 found\n",
            "      url: 2 found\n",
            "   Processing article 143/171: https://www.fortinet.com/blog/threat-research/bad-actors-res...\n",
            "\n",
            "🔍 Scraping Fortinet article: https://www.fortinet.com/blog/threat-research/bad-actors-resurrecting-old-tactics\n"
          ]
        },
        {
          "name": "stderr",
          "output_type": "stream",
          "text": [
            "2025-07-20 13:59:20,224 - INFO - Attempting to fetch https://www.fortinet.com/blog/threat-research/bad-actors-resurrecting-old-tactics (attempt 1/6)\n",
            "2025-07-20 13:59:21,142 - INFO - Successfully scraped: https://www.fortinet.com/blog/threat-research/bad-actors-resurrecting-old-tactics\n"
          ]
        },
        {
          "name": "stdout",
          "output_type": "stream",
          "text": [
            "   ✅ Successfully scraped article\n",
            "      Title: Reduce, Reuse, Recycle: Bad Actors Practicing the Three Rs\n",
            "      Content length: 5486\n",
            "   ✅ Approved (Grade: C)\n",
            "   Processing article 144/171: https://www.fortinet.com/blog/threat-research/old-cyber-gang...\n",
            "\n",
            "🔍 Scraping Fortinet article: https://www.fortinet.com/blog/threat-research/old-cyber-gang-uses-new-crypter-scrubcrypt\n"
          ]
        },
        {
          "name": "stderr",
          "output_type": "stream",
          "text": [
            "2025-07-20 13:59:28,985 - INFO - Attempting to fetch https://www.fortinet.com/blog/threat-research/old-cyber-gang-uses-new-crypter-scrubcrypt (attempt 1/6)\n",
            "2025-07-20 13:59:29,986 - INFO - Successfully scraped: https://www.fortinet.com/blog/threat-research/old-cyber-gang-uses-new-crypter-scrubcrypt\n"
          ]
        },
        {
          "name": "stdout",
          "output_type": "stream",
          "text": [
            "   ✅ Successfully scraped article\n",
            "      Title: Old Cyber Gang Uses New Crypter – ScrubCrypt\n",
            "      Content length: 9537\n",
            "   ✅ Approved (Grade: A)\n",
            "   🔍 Extracted 30 technical indicators\n",
            "      domain: 7 found\n",
            "      hash_sha256: 23 found\n",
            "   Processing article 145/171: https://www.fortinet.com/blog/threat-research/ransomware-rou...\n",
            "\n",
            "🔍 Scraping Fortinet article: https://www.fortinet.com/blog/threat-research/ransomware-roundup-sirattacker-acl\n"
          ]
        },
        {
          "name": "stderr",
          "output_type": "stream",
          "text": [
            "2025-07-20 13:59:36,536 - INFO - Attempting to fetch https://www.fortinet.com/blog/threat-research/ransomware-roundup-sirattacker-acl (attempt 1/6)\n",
            "2025-07-20 13:59:37,703 - INFO - Successfully scraped: https://www.fortinet.com/blog/threat-research/ransomware-roundup-sirattacker-acl\n"
          ]
        },
        {
          "name": "stdout",
          "output_type": "stream",
          "text": [
            "   ✅ Successfully scraped article\n",
            "      Title: Ransomware Roundup – Sirattacker and ALC\n",
            "      Content length: 11524\n",
            "   ✅ Approved (Grade: A)\n",
            "   🔍 Extracted 17 technical indicators\n",
            "      domain: 2 found\n",
            "      hash_sha256: 15 found\n",
            "   Processing article 146/171: https://www.fortinet.com/blog/threat-research/just-because-i...\n",
            "\n",
            "🔍 Scraping Fortinet article: https://www.fortinet.com/blog/threat-research/just-because-its-old-doesnt-mean-you-throw-it-away-including-malware\n"
          ]
        },
        {
          "name": "stderr",
          "output_type": "stream",
          "text": [
            "2025-07-20 13:59:44,594 - INFO - Attempting to fetch https://www.fortinet.com/blog/threat-research/just-because-its-old-doesnt-mean-you-throw-it-away-including-malware (attempt 1/6)\n",
            "2025-07-20 13:59:44,758 - INFO - Successfully scraped: https://www.fortinet.com/blog/threat-research/just-because-its-old-doesnt-mean-you-throw-it-away-including-malware\n"
          ]
        },
        {
          "name": "stdout",
          "output_type": "stream",
          "text": [
            "   ✅ Successfully scraped article\n",
            "      Title: Just Because It’s Old Doesn’t Mean You Throw It Away (Including Malware!)\n",
            "      Content length: 11304\n",
            "   ✅ Approved (Grade: A)\n",
            "   🔍 Extracted 108 technical indicators\n",
            "      ip_address: 47 found\n",
            "      domain: 10 found\n",
            "      hash_sha256: 46 found\n",
            "      email: 4 found\n",
            "      url: 1 found\n",
            "   Processing article 147/171: https://www.fortinet.com/blog/threat-research/emerging-lockb...\n",
            "\n",
            "🔍 Scraping Fortinet article: https://www.fortinet.com/blog/threat-research/emerging-lockbit-campaign\n"
          ]
        },
        {
          "name": "stderr",
          "output_type": "stream",
          "text": [
            "2025-07-20 13:59:53,552 - INFO - Attempting to fetch https://www.fortinet.com/blog/threat-research/emerging-lockbit-campaign (attempt 1/6)\n",
            "2025-07-20 13:59:54,540 - INFO - Successfully scraped: https://www.fortinet.com/blog/threat-research/emerging-lockbit-campaign\n"
          ]
        },
        {
          "name": "stdout",
          "output_type": "stream",
          "text": [
            "   ✅ Successfully scraped article\n",
            "      Title: Can You See It Now? An Emerging LockBit Campaign\n",
            "      Content length: 8514\n",
            "   ✅ Approved (Grade: A)\n",
            "   🔍 Extracted 15 technical indicators\n",
            "      domain: 7 found\n",
            "      hash_sha256: 7 found\n",
            "      url: 1 found\n",
            "   Processing article 148/171: https://www.fortinet.com/blog/threat-research/fortiguard-lab...\n",
            "\n",
            "🔍 Scraping Fortinet article: https://www.fortinet.com/blog/threat-research/fortiguard-labs-threat-report-key-findings-2h-2022\n"
          ]
        },
        {
          "name": "stderr",
          "output_type": "stream",
          "text": [
            "2025-07-20 14:00:01,886 - INFO - Attempting to fetch https://www.fortinet.com/blog/threat-research/fortiguard-labs-threat-report-key-findings-2h-2022 (attempt 1/6)\n",
            "2025-07-20 14:00:02,868 - INFO - Successfully scraped: https://www.fortinet.com/blog/threat-research/fortiguard-labs-threat-report-key-findings-2h-2022\n"
          ]
        },
        {
          "name": "stdout",
          "output_type": "stream",
          "text": [
            "   ✅ Successfully scraped article\n",
            "      Title: Key Findings from the 2H 2022 FortiGuard Labs Threat Report\n",
            "      Content length: 7235\n",
            "   ✅ Approved (Grade: C)\n",
            "   Processing article 149/171: https://www.fortinet.com/blog/threat-research/royal-ransomwa...\n",
            "\n",
            "🔍 Scraping Fortinet article: https://www.fortinet.com/blog/threat-research/royal-ransomware-targets-linux-esxi-servers\n"
          ]
        },
        {
          "name": "stderr",
          "output_type": "stream",
          "text": [
            "2025-07-20 14:00:09,098 - INFO - Attempting to fetch https://www.fortinet.com/blog/threat-research/royal-ransomware-targets-linux-esxi-servers (attempt 1/6)\n",
            "2025-07-20 14:00:09,950 - INFO - Successfully scraped: https://www.fortinet.com/blog/threat-research/royal-ransomware-targets-linux-esxi-servers\n"
          ]
        },
        {
          "name": "stdout",
          "output_type": "stream",
          "text": [
            "   ✅ Successfully scraped article\n",
            "      Title: Royal Ransomware Targets Linux ESXi Servers\n",
            "      Content length: 9060\n",
            "   ✅ Approved (Grade: A)\n",
            "   🔍 Extracted 1 technical indicators\n",
            "      hash_sha256: 1 found\n",
            "   Processing article 150/171: https://www.fortinet.com/blog/threat-research/more-supply-ch...\n",
            "\n",
            "🔍 Scraping Fortinet article: https://www.fortinet.com/blog/threat-research/more-supply-chain-attacks-via-new-malicious-python-packages-in-pypi\n"
          ]
        },
        {
          "name": "stderr",
          "output_type": "stream",
          "text": [
            "2025-07-20 14:00:16,513 - INFO - Attempting to fetch https://www.fortinet.com/blog/threat-research/more-supply-chain-attacks-via-new-malicious-python-packages-in-pypi (attempt 1/6)\n",
            "2025-07-20 14:00:17,507 - INFO - Successfully scraped: https://www.fortinet.com/blog/threat-research/more-supply-chain-attacks-via-new-malicious-python-packages-in-pypi\n"
          ]
        },
        {
          "name": "stdout",
          "output_type": "stream",
          "text": [
            "   ✅ Successfully scraped article\n",
            "      Title: More Supply Chain Attacks via New Malicious Python Packages in PyPi\n",
            "      Content length: 4303\n",
            "   ✅ Approved (Grade: A)\n",
            "   🔍 Extracted 9 technical indicators\n",
            "      domain: 6 found\n",
            "      hash_sha256: 2 found\n",
            "      url: 1 found\n",
            "   Processing article 151/171: https://www.fortinet.com/blog/threat-research/ransomware-rou...\n",
            "\n",
            "🔍 Scraping Fortinet article: https://www.fortinet.com/blog/threat-research/ransomware-roundup-catb-ransomware\n"
          ]
        },
        {
          "name": "stderr",
          "output_type": "stream",
          "text": [
            "2025-07-20 14:00:24,913 - INFO - Attempting to fetch https://www.fortinet.com/blog/threat-research/ransomware-roundup-catb-ransomware (attempt 1/6)\n",
            "2025-07-20 14:00:25,425 - INFO - Successfully scraped: https://www.fortinet.com/blog/threat-research/ransomware-roundup-catb-ransomware\n"
          ]
        },
        {
          "name": "stdout",
          "output_type": "stream",
          "text": [
            "   ✅ Successfully scraped article\n",
            "      Title: Ransomware Roundup – CatB\n",
            "      Content length: 9649\n",
            "   ✅ Approved (Grade: A)\n",
            "   🔍 Extracted 8 technical indicators\n",
            "      domain: 2 found\n",
            "      hash_sha256: 6 found\n",
            "   Processing article 152/171: https://www.fortinet.com/blog/threat-research/supply-chain-a...\n",
            "\n",
            "🔍 Scraping Fortinet article: https://www.fortinet.com/blog/threat-research/supply-chain-attack-via-new-malicious-python-packages-by-malware-author-core1337\n"
          ]
        },
        {
          "name": "stderr",
          "output_type": "stream",
          "text": [
            "2025-07-20 14:00:32,102 - INFO - Attempting to fetch https://www.fortinet.com/blog/threat-research/supply-chain-attack-via-new-malicious-python-packages-by-malware-author-core1337 (attempt 1/6)\n",
            "2025-07-20 14:00:32,750 - INFO - Successfully scraped: https://www.fortinet.com/blog/threat-research/supply-chain-attack-via-new-malicious-python-packages-by-malware-author-core1337\n"
          ]
        },
        {
          "name": "stdout",
          "output_type": "stream",
          "text": [
            "   ✅ Successfully scraped article\n",
            "      Title: Supply Chain Attack via New Malicious Python Packages by Malware Author Core1337\n",
            "      Content length: 3904\n",
            "   ✅ Approved (Grade: A)\n",
            "   🔍 Extracted 5 technical indicators\n",
            "      domain: 3 found\n",
            "      hash_sha256: 1 found\n",
            "      url: 1 found\n",
            "   Processing article 153/171: https://www.fortinet.com/blog/threat-research/supply-chain-a...\n",
            "\n",
            "🔍 Scraping Fortinet article: https://www.fortinet.com/blog/threat-research/supply-chain-attack-by-new-malicious-python-package-web3-essential\n"
          ]
        },
        {
          "name": "stderr",
          "output_type": "stream",
          "text": [
            "2025-07-20 14:00:40,606 - INFO - Attempting to fetch https://www.fortinet.com/blog/threat-research/supply-chain-attack-by-new-malicious-python-package-web3-essential (attempt 1/6)\n",
            "2025-07-20 14:00:41,438 - INFO - Successfully scraped: https://www.fortinet.com/blog/threat-research/supply-chain-attack-by-new-malicious-python-package-web3-essential\n"
          ]
        },
        {
          "name": "stdout",
          "output_type": "stream",
          "text": [
            "   ✅ Successfully scraped article\n",
            "      Title: Supply Chain Attack by New Malicious Python Package, “web3-essential”\n",
            "      Content length: 4451\n",
            "   ✅ Approved (Grade: A)\n",
            "   🔍 Extracted 3 technical indicators\n",
            "      domain: 2 found\n",
            "      hash_sha256: 1 found\n",
            "   Processing article 154/171: https://www.fortinet.com/blog/threat-research/ransomware-rou...\n",
            "\n",
            "🔍 Scraping Fortinet article: https://www.fortinet.com/blog/threat-research/ransomware-roundup-trigona-ransomware\n"
          ]
        },
        {
          "name": "stderr",
          "output_type": "stream",
          "text": [
            "2025-07-20 14:00:49,015 - INFO - Attempting to fetch https://www.fortinet.com/blog/threat-research/ransomware-roundup-trigona-ransomware (attempt 1/6)\n",
            "2025-07-20 14:00:49,850 - INFO - Successfully scraped: https://www.fortinet.com/blog/threat-research/ransomware-roundup-trigona-ransomware\n"
          ]
        },
        {
          "name": "stdout",
          "output_type": "stream",
          "text": [
            "   ✅ Successfully scraped article\n",
            "      Title: Ransomware Roundup – Trigona\n",
            "      Content length: 7357\n",
            "   ✅ Approved (Grade: A)\n",
            "   🔍 Extracted 15 technical indicators\n",
            "      hash_sha256: 15 found\n",
            "   Processing article 155/171: https://www.fortinet.com/blog/threat-research/malicious-code...\n",
            "\n",
            "🔍 Scraping Fortinet article: https://www.fortinet.com/blog/threat-research/malicious-code-cryptojacks-device-to-mine-for-monero-crypto\n"
          ]
        },
        {
          "name": "stderr",
          "output_type": "stream",
          "text": [
            "2025-07-20 14:00:57,595 - INFO - Attempting to fetch https://www.fortinet.com/blog/threat-research/malicious-code-cryptojacks-device-to-mine-for-monero-crypto (attempt 1/6)\n",
            "2025-07-20 14:00:58,602 - INFO - Successfully scraped: https://www.fortinet.com/blog/threat-research/malicious-code-cryptojacks-device-to-mine-for-monero-crypto\n"
          ]
        },
        {
          "name": "stdout",
          "output_type": "stream",
          "text": [
            "   ✅ Successfully scraped article\n",
            "      Title: Analyzing Malware Code that Cryptojacks System to Mine for Monero Crypto\n",
            "      Content length: 13497\n",
            "   ✅ Approved (Grade: A)\n",
            "   🔍 Extracted 19 technical indicators\n",
            "      domain: 12 found\n",
            "      hash_md5: 3 found\n",
            "      hash_sha256: 4 found\n",
            "   Processing article 156/171: https://www.fortinet.com/blog/threat-research/fortiguard-out...\n",
            "\n",
            "🔍 Scraping Fortinet article: https://www.fortinet.com/blog/threat-research/fortiguard-outbreak-alerts-2022-annual-report\n"
          ]
        },
        {
          "name": "stderr",
          "output_type": "stream",
          "text": [
            "2025-07-20 14:01:05,264 - INFO - Attempting to fetch https://www.fortinet.com/blog/threat-research/fortiguard-outbreak-alerts-2022-annual-report (attempt 1/6)\n",
            "2025-07-20 14:01:05,737 - INFO - Successfully scraped: https://www.fortinet.com/blog/threat-research/fortiguard-outbreak-alerts-2022-annual-report\n"
          ]
        },
        {
          "name": "stdout",
          "output_type": "stream",
          "text": [
            "   ✅ Successfully scraped article\n",
            "      Title: FortiGuard Outbreak Alerts - 2022 Annual Report\n",
            "      Content length: 2136\n",
            "   ✅ Approved (Grade: C)\n",
            "   Processing article 157/171: https://www.fortinet.com/blog/threat-research/the-year-of-th...\n",
            "\n",
            "🔍 Scraping Fortinet article: https://www.fortinet.com/blog/threat-research/the-year-of-the-wiper\n"
          ]
        },
        {
          "name": "stderr",
          "output_type": "stream",
          "text": [
            "2025-07-20 14:01:14,262 - INFO - Attempting to fetch https://www.fortinet.com/blog/threat-research/the-year-of-the-wiper (attempt 1/6)\n",
            "2025-07-20 14:01:14,592 - INFO - Successfully scraped: https://www.fortinet.com/blog/threat-research/the-year-of-the-wiper\n"
          ]
        },
        {
          "name": "stdout",
          "output_type": "stream",
          "text": [
            "   ✅ Successfully scraped article\n",
            "      Title: The Year of the Wiper\n",
            "      Content length: 12219\n",
            "   ✅ Approved (Grade: A)\n",
            "   🔍 Extracted 18 technical indicators\n",
            "      domain: 4 found\n",
            "      hash_sha256: 14 found\n",
            "   Processing article 158/171: https://www.fortinet.com/blog/threat-research/qr-code-phishi...\n",
            "\n",
            "🔍 Scraping Fortinet article: https://www.fortinet.com/blog/threat-research/qr-code-phishing-attempts-to-steal-credentials-from-chinese-language-users\n"
          ]
        },
        {
          "name": "stderr",
          "output_type": "stream",
          "text": [
            "2025-07-20 14:01:21,774 - INFO - Attempting to fetch https://www.fortinet.com/blog/threat-research/qr-code-phishing-attempts-to-steal-credentials-from-chinese-language-users (attempt 1/6)\n",
            "2025-07-20 14:01:22,619 - INFO - Successfully scraped: https://www.fortinet.com/blog/threat-research/qr-code-phishing-attempts-to-steal-credentials-from-chinese-language-users\n"
          ]
        },
        {
          "name": "stdout",
          "output_type": "stream",
          "text": [
            "   ✅ Successfully scraped article\n",
            "      Title: QR Code Phishing Attempts to Steal Credentials from Chinese Language Users\n",
            "      Content length: 6174\n",
            "   ✅ Approved (Grade: A)\n",
            "   🔍 Extracted 8 technical indicators\n",
            "      domain: 5 found\n",
            "      hash_sha256: 3 found\n",
            "   Processing article 159/171: https://www.fortinet.com/blog/threat-research/ransomware-rou...\n",
            "\n",
            "🔍 Scraping Fortinet article: https://www.fortinet.com/blog/threat-research/ransomware-roundup-playing-whack-a-mole-with-new-crysis-dharma-variants\n"
          ]
        },
        {
          "name": "stderr",
          "output_type": "stream",
          "text": [
            "2025-07-20 14:01:29,670 - INFO - Attempting to fetch https://www.fortinet.com/blog/threat-research/ransomware-roundup-playing-whack-a-mole-with-new-crysis-dharma-variants (attempt 1/6)\n",
            "2025-07-20 14:01:30,505 - INFO - Successfully scraped: https://www.fortinet.com/blog/threat-research/ransomware-roundup-playing-whack-a-mole-with-new-crysis-dharma-variants\n"
          ]
        },
        {
          "name": "stdout",
          "output_type": "stream",
          "text": [
            "   ✅ Successfully scraped article\n",
            "      Title: Ransomware Roundup – Playing Whack-a-Mole with New CrySIS/Dharma Variants\n",
            "      Content length: 7142\n",
            "   ✅ Approved (Grade: A)\n",
            "   🔍 Extracted 7 technical indicators\n",
            "      domain: 1 found\n",
            "      hash_sha256: 6 found\n",
            "   Processing article 160/171: https://www.fortinet.com/blog/threat-research/supply-chain-a...\n",
            "\n",
            "🔍 Scraping Fortinet article: https://www.fortinet.com/blog/threat-research/supply-chain-attack-using-identical-pypi-packages-colorslib-httpslib-libhttps\n"
          ]
        },
        {
          "name": "stderr",
          "output_type": "stream",
          "text": [
            "2025-07-20 14:01:38,474 - INFO - Attempting to fetch https://www.fortinet.com/blog/threat-research/supply-chain-attack-using-identical-pypi-packages-colorslib-httpslib-libhttps (attempt 1/6)\n",
            "2025-07-20 14:01:38,805 - INFO - Successfully scraped: https://www.fortinet.com/blog/threat-research/supply-chain-attack-using-identical-pypi-packages-colorslib-httpslib-libhttps\n"
          ]
        },
        {
          "name": "stdout",
          "output_type": "stream",
          "text": [
            "   ✅ Successfully scraped article\n",
            "      Title: Supply Chain Attack Using Identical PyPI Packages, “colorslib”, “httpslib”, and “libhttps”\n",
            "      Content length: 3692\n",
            "   ✅ Approved (Grade: A)\n",
            "   🔍 Extracted 9 technical indicators\n",
            "      domain: 5 found\n",
            "      hash_sha256: 3 found\n",
            "      url: 1 found\n",
            "   Processing article 161/171: https://www.fortinet.com/blog/threat-research/2022-iot-threa...\n",
            "\n",
            "🔍 Scraping Fortinet article: https://www.fortinet.com/blog/threat-research/2022-iot-threat-review\n"
          ]
        },
        {
          "name": "stderr",
          "output_type": "stream",
          "text": [
            "2025-07-20 14:01:45,869 - INFO - Attempting to fetch https://www.fortinet.com/blog/threat-research/2022-iot-threat-review (attempt 1/6)\n",
            "2025-07-20 14:01:46,705 - INFO - Successfully scraped: https://www.fortinet.com/blog/threat-research/2022-iot-threat-review\n"
          ]
        },
        {
          "name": "stdout",
          "output_type": "stream",
          "text": [
            "   ✅ Successfully scraped article\n",
            "      Title: 2022 IoT Threat Review\n",
            "      Content length: 10626\n",
            "   ✅ Approved (Grade: A)\n",
            "   🔍 Extracted 16 technical indicators\n",
            "      domain: 1 found\n",
            "      hash_sha256: 11 found\n",
            "      cve: 4 found\n",
            "   Processing article 162/171: https://www.fortinet.com/blog/threat-research/ransomware-rou...\n",
            "\n",
            "🔍 Scraping Fortinet article: https://www.fortinet.com/blog/threat-research/ransomware-roundup-monti-blackhunt-and-more\n"
          ]
        },
        {
          "name": "stderr",
          "output_type": "stream",
          "text": [
            "2025-07-20 14:01:54,678 - INFO - Attempting to fetch https://www.fortinet.com/blog/threat-research/ransomware-roundup-monti-blackhunt-and-more (attempt 1/6)\n",
            "2025-07-20 14:01:55,514 - INFO - Successfully scraped: https://www.fortinet.com/blog/threat-research/ransomware-roundup-monti-blackhunt-and-more\n"
          ]
        },
        {
          "name": "stdout",
          "output_type": "stream",
          "text": [
            "   ✅ Successfully scraped article\n",
            "      Title: Ransomware Roundup – Monti, BlackHunt, and Putin\n",
            "      Content length: 7343\n",
            "   ✅ Approved (Grade: A)\n",
            "   🔍 Extracted 2 technical indicators\n",
            "      domain: 2 found\n",
            "   Processing article 163/171: https://www.fortinet.com/blog/threat-research/trying-to-stea...\n",
            "\n",
            "🔍 Scraping Fortinet article: https://www.fortinet.com/blog/threat-research/trying-to-steal-christmas-again\n"
          ]
        },
        {
          "name": "stderr",
          "output_type": "stream",
          "text": [
            "2025-07-20 14:02:02,850 - INFO - Attempting to fetch https://www.fortinet.com/blog/threat-research/trying-to-steal-christmas-again (attempt 1/6)\n",
            "2025-07-20 14:02:03,695 - INFO - Successfully scraped: https://www.fortinet.com/blog/threat-research/trying-to-steal-christmas-again\n"
          ]
        },
        {
          "name": "stdout",
          "output_type": "stream",
          "text": [
            "   ✅ Successfully scraped article\n",
            "      Title: Trying to Steal Christmas (Again!)\n",
            "      Content length: 6364\n",
            "   ✅ Approved (Grade: A)\n",
            "   🔍 Extracted 10 technical indicators\n",
            "      domain: 8 found\n",
            "      hash_sha256: 2 found\n",
            "   Processing article 164/171: https://www.fortinet.com/blog/threat-research/ransomware-rou...\n",
            "\n",
            "🔍 Scraping Fortinet article: https://www.fortinet.com/blog/threat-research/ransomware-roundup-play-ransomware\n"
          ]
        },
        {
          "name": "stderr",
          "output_type": "stream",
          "text": [
            "2025-07-20 14:02:11,088 - INFO - Attempting to fetch https://www.fortinet.com/blog/threat-research/ransomware-roundup-play-ransomware (attempt 1/6)\n",
            "2025-07-20 14:02:12,094 - INFO - Successfully scraped: https://www.fortinet.com/blog/threat-research/ransomware-roundup-play-ransomware\n"
          ]
        },
        {
          "name": "stdout",
          "output_type": "stream",
          "text": [
            "   ✅ Successfully scraped article\n",
            "      Title: Ransomware Roundup – Play\n",
            "      Content length: 9447\n",
            "   ✅ Approved (Grade: A)\n",
            "   🔍 Extracted 39 technical indicators\n",
            "      domain: 1 found\n",
            "      hash_sha256: 38 found\n",
            "   Processing article 165/171: https://www.fortinet.com/blog/threat-research/the-taxman-nev...\n",
            "\n",
            "🔍 Scraping Fortinet article: https://www.fortinet.com/blog/threat-research/the-taxman-never-sleeps\n"
          ]
        },
        {
          "name": "stderr",
          "output_type": "stream",
          "text": [
            "2025-07-20 14:02:18,710 - INFO - Attempting to fetch https://www.fortinet.com/blog/threat-research/the-taxman-never-sleeps (attempt 1/6)\n",
            "2025-07-20 14:02:19,542 - INFO - Successfully scraped: https://www.fortinet.com/blog/threat-research/the-taxman-never-sleeps\n"
          ]
        },
        {
          "name": "stdout",
          "output_type": "stream",
          "text": [
            "   ✅ Successfully scraped article\n",
            "      Title: The Taxman Never Sleeps\n",
            "      Content length: 8036\n",
            "   ✅ Approved (Grade: A)\n",
            "   🔍 Extracted 9 technical indicators\n",
            "      domain: 6 found\n",
            "      hash_sha256: 3 found\n",
            "   Processing article 166/171: https://www.fortinet.com/blog/threat-research/new-supply-cha...\n",
            "\n",
            "🔍 Scraping Fortinet article: https://www.fortinet.com/blog/threat-research/new-supply-chain-attack-uses-python-package-index-aioconsol\n"
          ]
        },
        {
          "name": "stderr",
          "output_type": "stream",
          "text": [
            "2025-07-20 14:02:25,886 - INFO - Attempting to fetch https://www.fortinet.com/blog/threat-research/new-supply-chain-attack-uses-python-package-index-aioconsol (attempt 1/6)\n",
            "2025-07-20 14:02:30,057 - INFO - Successfully scraped: https://www.fortinet.com/blog/threat-research/new-supply-chain-attack-uses-python-package-index-aioconsol\n"
          ]
        },
        {
          "name": "stdout",
          "output_type": "stream",
          "text": [
            "   ✅ Successfully scraped article\n",
            "      Title: New Supply Chain Attack Uses Python Package Index “aioconsol”\n",
            "      Content length: 3093\n",
            "   ✅ Approved (Grade: A)\n",
            "   🔍 Extracted 7 technical indicators\n",
            "      domain: 5 found\n",
            "      hash_sha256: 2 found\n"
          ]
        },
        {
          "name": "stderr",
          "output_type": "stream",
          "text": [
            "2025-07-20 14:02:36,098 - INFO - Attempting to fetch https://www.fortinet.com/blog/threat-research/supply-chain-attack-via-new-malicious-python-package-shaderz-part-2 (attempt 1/6)\n"
          ]
        },
        {
          "name": "stdout",
          "output_type": "stream",
          "text": [
            "   Processing article 167/171: https://www.fortinet.com/blog/threat-research/supply-chain-a...\n",
            "\n",
            "🔍 Scraping Fortinet article: https://www.fortinet.com/blog/threat-research/supply-chain-attack-via-new-malicious-python-package-shaderz-part-2\n"
          ]
        },
        {
          "name": "stderr",
          "output_type": "stream",
          "text": [
            "2025-07-20 14:02:36,783 - INFO - Successfully scraped: https://www.fortinet.com/blog/threat-research/supply-chain-attack-via-new-malicious-python-package-shaderz-part-2\n"
          ]
        },
        {
          "name": "stdout",
          "output_type": "stream",
          "text": [
            "   ✅ Successfully scraped article\n",
            "      Title: Supply Chain Attack via New Malicious Python Package, “shaderz” (Part 2)\n",
            "      Content length: 3724\n",
            "   ✅ Approved (Grade: A)\n",
            "   🔍 Extracted 6 technical indicators\n",
            "      domain: 4 found\n",
            "      hash_sha256: 1 found\n",
            "      url: 1 found\n",
            "   Processing article 168/171: https://www.fortinet.com/blog/threat-research/want-to-know-w...\n",
            "\n",
            "🔍 Scraping Fortinet article: https://www.fortinet.com/blog/threat-research/want-to-know-whats-in-that-online-mystery-box-nothing-at-all\n"
          ]
        },
        {
          "name": "stderr",
          "output_type": "stream",
          "text": [
            "2025-07-20 14:02:43,432 - INFO - Attempting to fetch https://www.fortinet.com/blog/threat-research/want-to-know-whats-in-that-online-mystery-box-nothing-at-all (attempt 1/6)\n",
            "2025-07-20 14:02:43,931 - INFO - Successfully scraped: https://www.fortinet.com/blog/threat-research/want-to-know-whats-in-that-online-mystery-box-nothing-at-all\n"
          ]
        },
        {
          "name": "stdout",
          "output_type": "stream",
          "text": [
            "   ✅ Successfully scraped article\n",
            "      Title: Want to Know What’s in That Online Mystery Box? NOTHING AT ALL\n",
            "      Content length: 10972\n",
            "   ✅ Approved (Grade: C)\n",
            "   🔍 Extracted 3 technical indicators\n",
            "      domain: 2 found\n",
            "      url: 1 found\n",
            "   Processing article 169/171: https://www.fortinet.com/blog/threat-research/gotrim-go-base...\n",
            "\n",
            "🔍 Scraping Fortinet article: https://www.fortinet.com/blog/threat-research/gotrim-go-based-botnet-actively-brute-forces-wordpress-websites\n"
          ]
        },
        {
          "name": "stderr",
          "output_type": "stream",
          "text": [
            "2025-07-20 14:02:51,900 - INFO - Attempting to fetch https://www.fortinet.com/blog/threat-research/gotrim-go-based-botnet-actively-brute-forces-wordpress-websites (attempt 1/6)\n",
            "2025-07-20 14:02:52,740 - INFO - Successfully scraped: https://www.fortinet.com/blog/threat-research/gotrim-go-based-botnet-actively-brute-forces-wordpress-websites\n"
          ]
        },
        {
          "name": "stdout",
          "output_type": "stream",
          "text": [
            "   ✅ Successfully scraped article\n",
            "      Title: GoTrim: Go-based Botnet Actively Brute Forces WordPress Websites\n",
            "      Content length: 17823\n",
            "   ✅ Approved (Grade: A)\n",
            "   🔍 Extracted 15 technical indicators\n",
            "      domain: 6 found\n",
            "      hash_sha256: 8 found\n",
            "      url: 1 found\n",
            "   Processing article 170/171: https://www.fortinet.com/blog/threat-research/supply-chain-a...\n",
            "\n",
            "🔍 Scraping Fortinet article: https://www.fortinet.com/blog/threat-research/supply-chain-attack-new-malicious-python-package-shaderz\n"
          ]
        },
        {
          "name": "stderr",
          "output_type": "stream",
          "text": [
            "2025-07-20 14:03:00,573 - INFO - Attempting to fetch https://www.fortinet.com/blog/threat-research/supply-chain-attack-new-malicious-python-package-shaderz (attempt 1/6)\n",
            "2025-07-20 14:03:01,415 - INFO - Successfully scraped: https://www.fortinet.com/blog/threat-research/supply-chain-attack-new-malicious-python-package-shaderz\n"
          ]
        },
        {
          "name": "stdout",
          "output_type": "stream",
          "text": [
            "   ✅ Successfully scraped article\n",
            "      Title: Supply Chain Attack via New Malicious Python Package, “shaderz” (Part 1)\n",
            "      Content length: 2725\n",
            "   ✅ Approved (Grade: A)\n",
            "   🔍 Extracted 5 technical indicators\n",
            "      domain: 2 found\n",
            "      hash_sha256: 2 found\n",
            "      url: 1 found\n",
            "   Processing article 171/171: https://www.fortinet.com/blog/threat-research/ransomware-rou...\n",
            "\n",
            "🔍 Scraping Fortinet article: https://www.fortinet.com/blog/threat-research/ransomware-roundup-new-vohuk-scarecrow-and-aerst-variants\n"
          ]
        },
        {
          "name": "stderr",
          "output_type": "stream",
          "text": [
            "2025-07-20 14:03:09,406 - INFO - Attempting to fetch https://www.fortinet.com/blog/threat-research/ransomware-roundup-new-vohuk-scarecrow-and-aerst-variants (attempt 1/6)\n",
            "2025-07-20 14:03:10,395 - INFO - Successfully scraped: https://www.fortinet.com/blog/threat-research/ransomware-roundup-new-vohuk-scarecrow-and-aerst-variants\n"
          ]
        },
        {
          "name": "stdout",
          "output_type": "stream",
          "text": [
            "   ✅ Successfully scraped article\n",
            "      Title: Ransomware Roundup – New Vohuk, ScareCrow, and AERST Variants\n",
            "      Content length: 7362\n",
            "   ✅ Approved (Grade: A)\n",
            "   🔍 Extracted 2 technical indicators\n",
            "      domain: 2 found\n",
            "\n",
            "📡 Collecting from Symantec...\n",
            "   Trying page 1/30: https://symantec-enterprise-blogs.security.com/blogs/threat-research\n"
          ]
        },
        {
          "name": "stderr",
          "output_type": "stream",
          "text": [
            "2025-07-20 14:03:17,033 - INFO - Attempting to fetch https://symantec-enterprise-blogs.security.com/blogs/threat-research (attempt 1/6)\n",
            "2025-07-20 14:03:24,328 - INFO - Successfully scraped: https://symantec-enterprise-blogs.security.com/blogs/threat-research\n"
          ]
        },
        {
          "name": "stdout",
          "output_type": "stream",
          "text": [
            "   Trying page 1/30: https://symantec-enterprise-blogs.security.com/blogs/threat-research\n"
          ]
        },
        {
          "name": "stderr",
          "output_type": "stream",
          "text": [
            "2025-07-20 14:03:25,272 - INFO - Attempting to fetch https://symantec-enterprise-blogs.security.com/blogs/threat-research (attempt 1/6)\n",
            "2025-07-20 14:03:25,434 - INFO - Successfully scraped: https://symantec-enterprise-blogs.security.com/blogs/threat-research\n"
          ]
        },
        {
          "name": "stdout",
          "output_type": "stream",
          "text": [
            "   Trying page 1/30: https://symantec-enterprise-blogs.security.com/blogs/threat-research\n"
          ]
        },
        {
          "name": "stderr",
          "output_type": "stream",
          "text": [
            "2025-07-20 14:03:33,761 - INFO - Attempting to fetch https://symantec-enterprise-blogs.security.com/blogs/threat-research (attempt 1/6)\n",
            "2025-07-20 14:03:33,927 - INFO - Successfully scraped: https://symantec-enterprise-blogs.security.com/blogs/threat-research\n"
          ]
        },
        {
          "name": "stdout",
          "output_type": "stream",
          "text": [
            "      No articles found on page 1, stopping pagination\n",
            "   Total Symantec articles found: 0\n",
            "   Found 0 potential articles\n",
            "\n",
            "💾 Saved 170 articles from multiple sources\n",
            "\n",
            "✅ Export completed successfully!\n",
            "============================================================\n",
            "📊 Exported 170 articles\n",
            "🎯 2511 unique entities\n",
            "🔗 2881 relations\n",
            "📈 Avg threat score: 0.55\n",
            "\n",
            "📁 Files created:\n",
            "  llm_training: llm_training_data_20250720_140334.json\n",
            "  knowledge_graph: knowledge_graph_data_20250720_140334.json\n",
            "  jsonl_format: threat_intelligence_20250720_140334.jsonl\n",
            "\n",
            "======================================================================\n",
            "📊 COLLECTION SUMMARY\n",
            "======================================================================\n",
            "⏱️  Duration: 0:26:12.157983\n",
            "CISA: 0/0 (0.0%)\n",
            "Fortinet: 170/171 (99.4%)\n",
            "Symantec: 0/0 (0.0%)\n",
            "\n",
            "📄 Total Articles Collected: 170\n",
            "🎯 Average Threat Score: 0.55\n",
            "🔍 Total Technical Indicators: 2881\n",
            "\n",
            "📊 Articles per source:\n",
            "   Fortinet: 170\n",
            "\n",
            "🎉 Data collection completed successfully!\n"
          ]
        }
      ],
      "source": [
        "# Enhanced configuration for multi-source data collection\n",
        "COLLECTION_CONFIG = {\n",
        "    'max_articles_per_platform': 300,    # Maximum articles to collect per platform\n",
        "    'enable_progress_tracking': True,\n",
        "    'save_intermediate_results': True,\n",
        "    'rate_limit_multiplier': 3.0,      # Conservative rate limiting\n",
        "    'max_retries': 5,                  # More retries for reliability\n",
        "    'timeout': 45,                     # Longer timeout for slow sites\n",
        "    'random_delay': (1, 3)             # Random delay between requests\n",
        "}\n",
        "\n",
        "print(\"🌐 Multi-Platform Threat Intelligence Collection\")\n",
        "print(\"=\"*60)\n",
        "\n",
        "# Initialize scrapers with enhanced configuration\n",
        "live_scraping_config = SCRAPING_CONFIG.copy()\n",
        "live_scraping_config.update({\n",
        "    'rate_limit': SCRAPING_CONFIG['rate_limit'] * COLLECTION_CONFIG['rate_limit_multiplier'],\n",
        "    'max_retries': COLLECTION_CONFIG['max_retries'],\n",
        "    'timeout': COLLECTION_CONFIG['timeout'],\n",
        "    'random_delay': COLLECTION_CONFIG['random_delay']\n",
        "})\n",
        "\n",
        "live_scraper = ThreatIntelligenceScraper(live_scraping_config)\n",
        "\n",
        "# Initialize all platform scrapers with our improved versions\n",
        "scrapers = {\n",
        "    'CISA': CISAScraper(live_scraper),\n",
        "    'Fortinet': FortinetScraper(live_scraper),\n",
        "    'Symantec': SymantecScraper(live_scraper)\n",
        "}\n",
        "\n",
        "print(\"\\n⚙️ Scraping Configuration:\")\n",
        "print(f\"  Rate Limit: {live_scraping_config['rate_limit']} seconds\")\n",
        "print(f\"  Max Retries: {live_scraping_config['max_retries']}\")\n",
        "print(f\"  Timeout: {live_scraping_config['timeout']} seconds\")\n",
        "print(f\"  Sources: {', '.join(scrapers.keys())}\\n\")\n",
        "\n",
        "def collect_threat_intelligence_data():\n",
        "    \"\"\"Enhanced function to collect and process threat intelligence data from multiple sources.\"\"\"\n",
        "    \n",
        "    start_time = datetime.now()\n",
        "    logger.info(f\"Collection started at {start_time}\")\n",
        "    \n",
        "    all_collected = []\n",
        "    sources_status = {}\n",
        "    \n",
        "    try:\n",
        "        # Process each source\n",
        "        for source_name, source_scraper in scrapers.items():\n",
        "            print(f\"\\n📡 Collecting from {source_name}...\")\n",
        "            \n",
        "            try:\n",
        "                # Get article links with increased max_pages\n",
        "                links = source_scraper.get_article_links(max_pages=30)  # Try up to 30 pages\n",
        "                print(f\"   Found {len(links)} potential articles\")\n",
        "                \n",
        "                source_collected = 0\n",
        "                source_attempted = min(len(links), COLLECTION_CONFIG['max_articles_per_platform'])\n",
        "                \n",
        "                # Process articles (limited by max_articles_per_platform)\n",
        "                for i, url in enumerate(links[:COLLECTION_CONFIG['max_articles_per_platform']], 1):\n",
        "                    print(f\"   Processing article {i}/{source_attempted}: {url[:60]}...\")\n",
        "                    \n",
        "                    try:\n",
        "                        # Scrape and process article\n",
        "                        article = source_scraper.scrape_article(url)\n",
        "                        \n",
        "                        if article:\n",
        "                            processed = processor.process_article(article)\n",
        "                            quality_report = validator.generate_quality_report(processed)\n",
        "                            processed['quality_report'] = quality_report\n",
        "                            \n",
        "                            if quality_report['overall']['approved']:\n",
        "                                all_collected.append(processed)\n",
        "                                source_collected += 1\n",
        "                                print(f\"   ✅ Approved (Grade: {quality_report['overall']['grade']})\")\n",
        "                                \n",
        "                                # Show extracted indicators\n",
        "                                indicators = processed.get('indicators', {})\n",
        "                                total_iocs = sum(len(inds) for inds in indicators.values())\n",
        "                                if total_iocs > 0:\n",
        "                                    print(f\"   🔍 Extracted {total_iocs} technical indicators\")\n",
        "                                    for ioc_type, ioc_list in indicators.items():\n",
        "                                        if ioc_list:\n",
        "                                            print(f\"      {ioc_type}: {len(ioc_list)} found\")\n",
        "                            else:\n",
        "                                print(f\"   ❌ Rejected (Grade: {quality_report['overall']['grade']})\")\n",
        "                        else:\n",
        "                            print(f\"   ❌ Failed to scrape\")\n",
        "                            \n",
        "                    except Exception as e:\n",
        "                        print(f\"   ❌ Error processing article: {str(e)[:100]}\")\n",
        "                        continue\n",
        "                    \n",
        "                    # Rate limiting between articles\n",
        "                    time.sleep(live_scraping_config['rate_limit'])\n",
        "                \n",
        "                # Record source statistics\n",
        "                sources_status[source_name] = {\n",
        "                    'attempted': source_attempted,\n",
        "                    'collected': source_collected,\n",
        "                    'success_rate': source_collected / source_attempted if source_attempted > 0 else 0\n",
        "                }\n",
        "                \n",
        "            except Exception as e:\n",
        "                print(f\"   ❌ Source failed: {str(e)}\")\n",
        "                sources_status[source_name] = {'error': str(e)}\n",
        "        \n",
        "        # Save collected data\n",
        "        if all_collected:\n",
        "            timestamp = datetime.now().strftime('%Y%m%d_%H%M%S')\n",
        "            output_file = RAW_DATA_DIR / f'threat_intelligence_multi_source_{timestamp}.json'\n",
        "            \n",
        "            with open(output_file, 'w', encoding='utf-8') as f:\n",
        "                json.dump(all_collected, f, indent=2, ensure_ascii=False)\n",
        "            \n",
        "            print(f\"\\n💾 Saved {len(all_collected)} articles from multiple sources\")\n",
        "            \n",
        "            # Export for LLM training\n",
        "            export_summary = export_for_llm_training(all_collected)\n",
        "        else:\n",
        "            print(\"\\n⚠️  No articles were successfully collected\")\n",
        "        \n",
        "        # Display summary\n",
        "        end_time = datetime.now()\n",
        "        duration = end_time - start_time\n",
        "        \n",
        "        print(\"\\n\" + \"=\"*70)\n",
        "        print(\"📊 COLLECTION SUMMARY\")\n",
        "        print(\"=\"*70)\n",
        "        print(f\"⏱️  Duration: {duration}\")\n",
        "        \n",
        "        # Source-specific statistics\n",
        "        for source, status in sources_status.items():\n",
        "            if 'error' in status:\n",
        "                print(f\"{source}: ❌ {status['error']}\")\n",
        "            else:\n",
        "                success_rate = status['success_rate'] * 100\n",
        "                print(f\"{source}: {status['collected']}/{status['attempted']} ({success_rate:.1f}%)\")\n",
        "        \n",
        "        if all_collected:\n",
        "            print(f\"\\n📄 Total Articles Collected: {len(all_collected)}\")\n",
        "            \n",
        "            # Calculate overall statistics\n",
        "            avg_threat_score = sum(article.get('threat_relevance_score', 0) for article in all_collected) / len(all_collected)\n",
        "            print(f\"🎯 Average Threat Score: {avg_threat_score:.2f}\")\n",
        "            \n",
        "            # Show total indicators\n",
        "            total_indicators = sum(\n",
        "                sum(len(inds) for inds in article.get('indicators', {}).values())\n",
        "                for article in all_collected\n",
        "            )\n",
        "            print(f\"🔍 Total Technical Indicators: {total_indicators}\")\n",
        "            \n",
        "            # Show sources distribution\n",
        "            sources_count = {}\n",
        "            for article in all_collected:\n",
        "                source = article.get('source', 'Unknown')\n",
        "                sources_count[source] = sources_count.get(source, 0) + 1\n",
        "            print(\"\\n📊 Articles per source:\")\n",
        "            for source, count in sources_count.items():\n",
        "                print(f\"   {source}: {count}\")\n",
        "        \n",
        "        print(\"\\n🎉 Data collection completed successfully!\")\n",
        "        return all_collected\n",
        "        \n",
        "    except Exception as e:\n",
        "        logger.error(f\"Collection failed: {str(e)}\")\n",
        "        print(f\"❌ Collection failed: {str(e)}\")\n",
        "        raise\n",
        "\n",
        "# Execute collection\n",
        "collected_data = collect_threat_intelligence_data()\n"
      ]
    },
    {
      "cell_type": "markdown",
      "metadata": {
        "vscode": {
          "languageId": "raw"
        }
      },
      "source": [
        "\n",
        "## 8. Data Export and Format Conversion\n",
        "\n",
        "Export the collected and validated data in various formats for downstream processing in the LLM-TIKG pipeline.\n"
      ]
    },
    {
      "cell_type": "code",
      "execution_count": null,
      "metadata": {},
      "outputs": [],
      "source": [
        "def export_for_llm_training(articles: List[Dict[str, Any]]):\n",
        "    \"\"\"Export data in formats suitable for LLM training and knowledge graph construction.\"\"\"\n",
        "    \n",
        "    if not articles:\n",
        "        print(\"❌ No articles to export\")\n",
        "        return\n",
        "    \n",
        "    timestamp = datetime.now().strftime('%Y%m%d_%H%M%S')\n",
        "    \n",
        "    # 1. Training text format (for LLM fine-tuning)\n",
        "    training_texts = []\n",
        "    for article in articles:\n",
        "        text_entry = {\n",
        "            'id': f\"{article['source']}_{hash(article['url']) % 100000}\",\n",
        "            'source': article['source'],\n",
        "            'title': article['title'],\n",
        "            'text': article['full_text'],\n",
        "            'metadata': {\n",
        "                'url': article['url'],\n",
        "                'scraped_at': article['scraped_at'],\n",
        "                'indicators': article.get('indicators', {}),\n",
        "                'threat_score': article.get('threat_relevance_score', 0)\n",
        "            }\n",
        "        }\n",
        "        training_texts.append(text_entry)\n",
        "    \n",
        "    training_file = PROCESSED_DATA_DIR / f'llm_training_data_{timestamp}.json'\n",
        "    with open(training_file, 'w', encoding='utf-8') as f:\n",
        "        json.dump(training_texts, f, indent=2, ensure_ascii=False)\n",
        "    \n",
        "    # 2. Entity-Relationship format (for knowledge graph)\n",
        "    entities_and_relations = {\n",
        "        'entities': [],\n",
        "        'relations': [],\n",
        "        'documents': []\n",
        "    }\n",
        "    \n",
        "    for idx, article in enumerate(articles):\n",
        "        doc_id = f\"doc_{idx}\"\n",
        "        \n",
        "        # Document node\n",
        "        entities_and_relations['documents'].append({\n",
        "            'id': doc_id,\n",
        "            'title': article['title'],\n",
        "            'source': article['source'],\n",
        "            'url': article['url'],\n",
        "            'threat_score': article.get('threat_relevance_score', 0)\n",
        "        })\n",
        "        \n",
        "        # Extract entities from indicators\n",
        "        indicators = article.get('indicators', {})\n",
        "        for indicator_type, values in indicators.items():\n",
        "            for value in values:\n",
        "                entity_id = f\"{indicator_type}_{hash(value) % 100000}\"\n",
        "                \n",
        "                # Entity\n",
        "                entities_and_relations['entities'].append({\n",
        "                    'id': entity_id,\n",
        "                    'type': indicator_type,\n",
        "                    'value': value\n",
        "                })\n",
        "                \n",
        "                # Relation\n",
        "                entities_and_relations['relations'].append({\n",
        "                    'source': doc_id,\n",
        "                    'target': entity_id,\n",
        "                    'relation': 'mentions',\n",
        "                    'type': indicator_type\n",
        "                })\n",
        "    \n",
        "    # Remove duplicate entities\n",
        "    seen_entities = set()\n",
        "    unique_entities = []\n",
        "    for entity in entities_and_relations['entities']:\n",
        "        entity_key = (entity['type'], entity['value'])\n",
        "        if entity_key not in seen_entities:\n",
        "            seen_entities.add(entity_key)\n",
        "            unique_entities.append(entity)\n",
        "    entities_and_relations['entities'] = unique_entities\n",
        "    \n",
        "    kg_file = PROCESSED_DATA_DIR / f'knowledge_graph_data_{timestamp}.json'\n",
        "    with open(kg_file, 'w', encoding='utf-8') as f:\n",
        "        json.dump(entities_and_relations, f, indent=2, ensure_ascii=False)\n",
        "    \n",
        "    # 3. JSONL format (for streaming/batch processing)\n",
        "    jsonl_file = PROCESSED_DATA_DIR / f'threat_intelligence_{timestamp}.jsonl'\n",
        "    with open(jsonl_file, 'w', encoding='utf-8') as f:\n",
        "        for article in articles:\n",
        "            simplified_article = {\n",
        "                'title': article['title'],\n",
        "                'content': article['full_text'],\n",
        "                'source': article['source'],\n",
        "                'indicators': article.get('indicators', {}),\n",
        "                'threat_score': article.get('threat_relevance_score', 0)\n",
        "            }\n",
        "            f.write(json.dumps(simplified_article, ensure_ascii=False) + '\\n')\n",
        "    \n",
        "    # 4. Summary statistics\n",
        "    export_summary = {\n",
        "        'export_timestamp': datetime.now().isoformat(),\n",
        "        'total_articles': len(articles),\n",
        "        'sources': list(set(article['source'] for article in articles)),\n",
        "        'total_entities': len(entities_and_relations['entities']),\n",
        "        'total_relations': len(entities_and_relations['relations']),\n",
        "        'files_created': {\n",
        "            'llm_training': str(training_file),\n",
        "            'knowledge_graph': str(kg_file),\n",
        "            'jsonl_format': str(jsonl_file)\n",
        "        },\n",
        "        'statistics': {\n",
        "            'avg_threat_score': sum(article.get('threat_relevance_score', 0) for article in articles) / len(articles),\n",
        "            'total_technical_indicators': sum(sum(len(inds) for inds in article.get('indicators', {}).values()) for article in articles)\n",
        "        }\n",
        "    }\n",
        "    \n",
        "    summary_file = PROCESSED_DATA_DIR / f'export_summary_{timestamp}.json'\n",
        "    with open(summary_file, 'w', encoding='utf-8') as f:\n",
        "        json.dump(export_summary, f, indent=2, ensure_ascii=False)\n",
        "    \n",
        "    print(\"\\\\n✅ Export completed successfully!\")\n",
        "    print(\"=\"*60)\n",
        "    print(f\"📊 Exported {len(articles)} articles\")\n",
        "    print(f\"🎯 {len(entities_and_relations['entities'])} unique entities\")\n",
        "    print(f\"🔗 {len(entities_and_relations['relations'])} relations\")\n",
        "    print(f\"📈 Avg threat score: {export_summary['statistics']['avg_threat_score']:.2f}\")\n",
        "    \n",
        "    print(\"\\\\n📁 Files created:\")\n",
        "    for file_type, file_path in export_summary['files_created'].items():\n",
        "        print(f\"  {file_type}: {Path(file_path).name}\")\n",
        "    \n",
        "    return export_summary\n",
        "\n",
        "# Export the collected data\n",
        "if 'collected_data' in locals() and collected_data:\n",
        "    export_summary = export_for_llm_training(collected_data)\n",
        "    print(\"\\\\n🎉 Data collection and export pipeline completed!\")\n",
        "else:\n",
        "    print(\"⚠️  No data collected. Run the collection cell first.\")\n"
      ]
    },
    {
      "cell_type": "markdown",
      "metadata": {
        "vscode": {
          "languageId": "raw"
        }
      },
      "source": [
        "## Conclusion and Next Steps\n",
        "\n",
        "This notebook implements a comprehensive threat intelligence data collection system following the LLM-TIKG methodology. The implementation includes:\n",
        "\n",
        "### ✅ Key Components\n",
        "\n",
        "1. **Robust Web Scraping Infrastructure**\n",
        "   - Rate-limited, error-resilient scrapers with random delays\n",
        "   - Platform-specific implementations for CISA, Fortinet, and Symantec\n",
        "   - User agent rotation and retry mechanisms\n",
        "   - Comprehensive error handling and logging\n",
        "\n",
        "2. **Advanced Text Processing**\n",
        "   - Paragraph structure preservation\n",
        "   - Technical indicator extraction (IPs, domains, hashes, CVEs)\n",
        "   - Threat relevance scoring\n",
        "   - Content validation and quality checks\n",
        "\n",
        "3. **Multiple Export Formats**\n",
        "   - LLM training-ready JSON format\n",
        "   - Knowledge graph entities and relations\n",
        "   - JSONL for streaming processing\n",
        "   - Statistical summaries and reports\n",
        "\n",
        "### 🔍 Key Features\n",
        "\n",
        "- **Quality Assurance**: Automated validation ensures only high-quality data is retained\n",
        "- **Scalability**: Modular design allows easy addition of new sources\n",
        "- **Reproducibility**: Comprehensive logging and configuration management\n",
        "- **Error Handling**: Robust error recovery and fallback mechanisms\n",
        "- **Rate Limiting**: Intelligent rate limiting with random delays to avoid blocking\n",
        "\n",
        "### 🚀 Next Steps\n",
        "\n",
        "1. **Expand Sources**:\n",
        "   - Add more threat intelligence platforms\n",
        "   - Implement RSS feed monitoring\n",
        "   - Add support for API-based sources\n",
        "\n",
        "2. **Enhance Processing**:\n",
        "   - Improve entity extraction\n",
        "   - Add relationship extraction\n",
        "   - Implement cross-source validation\n",
        "\n",
        "3. **Optimize Performance**:\n",
        "   - Implement parallel processing\n",
        "   - Add caching mechanisms\n",
        "   - Optimize network requests\n",
        "\n",
        "4. **Data Quality**:\n",
        "   - Add more validation rules\n",
        "   - Implement duplicate detection\n",
        "   - Add content relevance scoring\n",
        "\n",
        "This foundation provides the high-quality, structured threat intelligence data required for successful LLM-TIKG implementation.\n"
      ]
    }
  ],
  "metadata": {
    "kernelspec": {
      "display_name": ".venv",
      "language": "python",
      "name": "python3"
    },
    "language_info": {
      "codemirror_mode": {
        "name": "ipython",
        "version": 3
      },
      "file_extension": ".py",
      "mimetype": "text/x-python",
      "name": "python",
      "nbconvert_exporter": "python",
      "pygments_lexer": "ipython3",
      "version": "3.10.15"
    }
  },
  "nbformat": 4,
  "nbformat_minor": 2
}
