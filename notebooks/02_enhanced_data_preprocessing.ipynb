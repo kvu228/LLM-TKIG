{
  "cells": [
    {
      "cell_type": "raw",
      "metadata": {
        "vscode": {
          "languageId": "raw"
        }
      },
      "source": [
        "# Enhanced Data Preprocessing Pipeline for LLM-TIKG\n",
        "\n",
        "This notebook demonstrates the enhanced data preprocessing pipeline with:\n",
        "- Robust text cleaning for threat intelligence reports\n",
        "- Section-based parsing that preserves report structure\n",
        "- IoC extraction using comprehensive regex patterns\n",
        "- Metadata extraction and quality scoring\n",
        "- Memory-efficient processing for large datasets\n",
        "- Multiple export formats (JSON, CSV, pickle)\n",
        "\n",
        "## Key Features\n",
        "\n",
        "- **🧹 Robust Text Cleaning**: HTML/PDF handling, structure preservation\n",
        "- **📋 Section-Based Parsing**: Identifies key sections in threat reports\n",
        "- **🔍 Comprehensive IoC Extraction**: IPs, domains, hashes, URLs, CVEs, and more\n",
        "- **📊 Quality Scoring**: Multi-dimensional quality assessment\n",
        "- **⚡ Memory Efficient**: Batch processing with multiprocessing support\n",
        "- **💾 Multiple Exports**: JSON, CSV, pickle with compression options\n"
      ]
    },
    {
      "cell_type": "raw",
      "metadata": {
        "vscode": {
          "languageId": "raw"
        }
      },
      "source": [
        "## 1. Setup and Imports\n"
      ]
    },
    {
      "cell_type": "code",
      "execution_count": null,
      "metadata": {},
      "outputs": [],
      "source": [
        "import sys\n",
        "import os\n",
        "from pathlib import Path\n",
        "\n",
        "# Add src to path for imports\n",
        "sys.path.append(str(Path('../src').resolve()))\n",
        "\n",
        "from data.preprocessing import ThreatIntelligencePreprocessor\n",
        "import json\n",
        "import pandas as pd\n",
        "from datetime import datetime\n",
        "import matplotlib.pyplot as plt\n",
        "import seaborn as sns\n",
        "import warnings\n",
        "warnings.filterwarnings('ignore')\n",
        "\n",
        "print(\"✅ Imports successful\")\n",
        "print(f\"📂 Working directory: {os.getcwd()}\")\n"
      ]
    },
    {
      "cell_type": "raw",
      "metadata": {
        "vscode": {
          "languageId": "raw"
        }
      },
      "source": [
        "## 2. Initialize the Enhanced Preprocessor\n",
        "\n",
        "Configure the preprocessor with performance optimizations for your system.\n"
      ]
    },
    {
      "cell_type": "code",
      "execution_count": null,
      "metadata": {},
      "outputs": [],
      "source": [
        "# Initialize the enhanced preprocessor\n",
        "preprocessor = ThreatIntelligencePreprocessor(\n",
        "    enable_multiprocessing=True,  # Enable parallel processing\n",
        "    max_workers=4,                # Number of worker processes\n",
        "    chunk_size=50,                # Documents per batch\n",
        "    memory_limit_mb=256           # Memory limit per process\n",
        ")\n",
        "\n",
        "print(\"✅ Preprocessor initialized\")\n",
        "print(f\"🔧 Configuration:\")\n",
        "print(f\"   - Max workers: {preprocessor.max_workers}\")\n",
        "print(f\"   - Chunk size: {preprocessor.chunk_size}\")\n",
        "print(f\"   - Memory limit: {preprocessor.memory_limit_mb}MB\")\n",
        "print(f\"   - IoC patterns: {len(preprocessor.ioc_patterns)}\")\n"
      ]
    },
    {
      "cell_type": "raw",
      "metadata": {
        "vscode": {
          "languageId": "raw"
        }
      },
      "source": [
        "## 3. Demonstration with Sample Reports\n",
        "\n",
        "Let's demonstrate the enhanced preprocessing capabilities with sample threat intelligence reports.\n"
      ]
    },
    {
      "cell_type": "code",
      "execution_count": null,
      "metadata": {},
      "outputs": [],
      "source": [
        "# Sample threat intelligence report with comprehensive IoCs\n",
        "sample_report = \"\"\"\n",
        "SECURITY ADVISORY: APT29 Campaign Analysis\n",
        "Date: 2024-01-15\n",
        "Severity: High\n",
        "\n",
        "Executive Summary:\n",
        "Our threat intelligence team has identified a sophisticated campaign attributed to APT29 (Cozy Bear)\n",
        "targeting government organizations. The campaign exploits CVE-2024-1234 to gain initial access.\n",
        "\n",
        "Technical Details:\n",
        "The malware sample (MD5: d41d8cd98f00b204e9800998ecf8427e) establishes persistence through\n",
        "registry modification at HKEY_LOCAL_MACHINE\\\\Software\\\\Microsoft\\\\Windows\\\\CurrentVersion\\\\Run.\n",
        "Communication with C2 infrastructure occurs via encrypted channels to 203.0.113.45:443.\n",
        "\n",
        "Indicators of Compromise:\n",
        "- IP Address: 203.0.113.45\n",
        "- Domain: malicious-c2-server.com  \n",
        "- File Hash (SHA256): 5feceb66ffc86f38d952786c6d696c79c2dbc239dd4e91b46729d73a27fb57e9\n",
        "- Email: phishing@attacker-domain.net\n",
        "- URL: https://malicious-c2-server.com/backdoor.php\n",
        "- Bitcoin: 1A1zP1eP5QGefi2DMPTfTL5SLmv7DivfNa\n",
        "\n",
        "Mitigations:\n",
        "1. Apply security patches for CVE-2024-1234\n",
        "2. Block communication to identified C2 servers\n",
        "3. Monitor for registry modifications\n",
        "4. Implement email filtering for suspicious domains\n",
        "\n",
        "Attribution:\n",
        "This campaign shows TTPs consistent with APT29 operations.\n",
        "\"\"\"\n",
        "\n",
        "# Process the sample report\n",
        "print(\"🔍 Processing sample threat intelligence report...\")\n",
        "result = preprocessor.process_document(\n",
        "    text=sample_report,\n",
        "    source=\"Demo Source\",\n",
        "    file_path=\"/demo/apt29_analysis.txt\"\n",
        ")\n",
        "\n",
        "print(\"\\\\n📊 PROCESSING RESULTS:\")\n",
        "print(\"=\" * 50)\n",
        "print(f\"✅ Processing successful: {'error' not in result}\")\n",
        "print(f\"🏆 Quality score: {result['quality_scores']['overall']:.3f}\")\n",
        "print(f\"✔️  Passes quality: {result['passes_quality']}\")\n",
        "\n",
        "print(\"\\\\n🔍 EXTRACTED IoCs:\")\n",
        "total_iocs = 0\n",
        "for ioc_type, ioc_list in result['iocs'].items():\n",
        "    if ioc_list:\n",
        "        print(f\"   {ioc_type}: {ioc_list}\")\n",
        "        total_iocs += len(ioc_list)\n",
        "print(f\"   Total IoCs: {total_iocs}\")\n",
        "\n",
        "print(\"\\\\n📋 IDENTIFIED SECTIONS:\")\n",
        "for section_name, content in result['sections'].items():\n",
        "    preview = content[:80] + \"...\" if len(content) > 80 else content\n",
        "    print(f\"   {section_name}: {preview}\")\n",
        "\n",
        "print(\"\\\\n📊 QUALITY BREAKDOWN:\")\n",
        "for metric, score in result['quality_scores'].items():\n",
        "    print(f\"   {metric}: {score:.3f}\")\n"
      ]
    }
  ],
  "metadata": {
    "language_info": {
      "name": "python"
    }
  },
  "nbformat": 4,
  "nbformat_minor": 2
}
